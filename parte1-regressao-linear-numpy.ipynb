{
  "cells": [
    {
      "cell_type": "markdown",
      "metadata": {
        "id": "i8moYMLk3mSL"
      },
      "source": [
        "# Introdução ao `numpy`"
      ]
    },
    {
      "cell_type": "code",
      "execution_count": 1,
      "metadata": {
        "id": "KZTZcDGW20Y6"
      },
      "outputs": [],
      "source": [
        "import numpy as np\n",
        "import matplotlib.pyplot as plt  # Biblioteca para gerar gráficos"
      ]
    },
    {
      "cell_type": "markdown",
      "metadata": {
        "id": "jbLN6SejnwoL"
      },
      "source": [
        "Vamos criar umas matrizes e vetores para começar...\n",
        "\n",
        "$$\\begin{aligned}\n",
        "\\boldsymbol{A} &= \\begin{bmatrix}2 & 0\\\\ 4 & 6\\\\ 8 & 2\\end{bmatrix}\\ &\n",
        "\\boldsymbol{B} &= \\begin{bmatrix}1 & 3\\\\ 5 & 7\\end{bmatrix}\\\\\\\\\n",
        "\\boldsymbol{v}_1 &= \\begin{bmatrix}5 & 3\\end{bmatrix}\\ &\n",
        "\\boldsymbol{v}_2 &= \\begin{bmatrix}9 & 2 & 1\\end{bmatrix}\n",
        "\\end{aligned}$$"
      ]
    },
    {
      "cell_type": "code",
      "execution_count": 2,
      "metadata": {
        "id": "JDS1cgwngp-B"
      },
      "outputs": [],
      "source": [
        "A = np.array([[2,0],[4,6],[8,2]])\n",
        "B = np.array([[1,3],[5,7]])\n",
        "v1 = np.array([5,3])\n",
        "v2 = np.array([9,2,1])"
      ]
    },
    {
      "cell_type": "code",
      "execution_count": 3,
      "metadata": {
        "colab": {
          "base_uri": "https://localhost:8080/"
        },
        "id": "lCM_Bmf4hzlv",
        "outputId": "9a2c6e3e-7239-47a9-eca7-079f9ad4e5c2"
      },
      "outputs": [
        {
          "name": "stdout",
          "output_type": "stream",
          "text": [
            "Dimensão de A: (3, 2)\n",
            "Dimensão de B: (2, 2)\n",
            "Dimensão de v1: (2,)\n",
            "Dimensão de v2: (2,)\n"
          ]
        }
      ],
      "source": [
        "print(\"Dimensão de A:\", A.shape)\n",
        "print(\"Dimensão de B:\", B.shape)\n",
        "print(\"Dimensão de v1:\", v1.shape)\n",
        "print(\"Dimensão de v2:\", v1.shape)"
      ]
    },
    {
      "cell_type": "markdown",
      "metadata": {
        "id": "kUwvUZR85kFl"
      },
      "source": [
        "$$\\begin{aligned}\n",
        "\\boldsymbol{A} &= \\begin{bmatrix}2 & 0\\\\ 4 & 6\\\\ 8 & 2\\end{bmatrix}\\\\\n",
        "\\boldsymbol{A}^{\\top} &= \\begin{bmatrix}2 & 4 & 8\\\\ 0 & 6 & 2\\end{bmatrix}\n",
        "\\end{aligned}$$"
      ]
    },
    {
      "cell_type": "code",
      "execution_count": 4,
      "metadata": {
        "colab": {
          "base_uri": "https://localhost:8080/"
        },
        "id": "T1oNg4Od5kFn",
        "outputId": "b6cc96ae-7490-4980-b80d-a7ee5fd20c6c"
      },
      "outputs": [
        {
          "name": "stdout",
          "output_type": "stream",
          "text": [
            "Matriz original:\n",
            "[[2 0]\n",
            " [4 6]\n",
            " [8 2]]\n",
            "Matriz transposta:\n",
            "[[2 4 8]\n",
            " [0 6 2]]\n"
          ]
        }
      ],
      "source": [
        "print(\"Matriz original:\")\n",
        "print(A)\n",
        "print(\"Matriz transposta:\")\n",
        "print(A.T)"
      ]
    },
    {
      "cell_type": "markdown",
      "metadata": {
        "id": "oe-tmI5o_kcT"
      },
      "source": [
        "$$\\begin{aligned}\n",
        "\\boldsymbol{A}[0] &= \\begin{bmatrix}2 & 0\\end{bmatrix}\\\\\n",
        "\\boldsymbol{A}[[0,2]] &= \\begin{bmatrix}2 & 0\\\\ 8 & 2\\end{bmatrix}\\\\\n",
        "\\end{aligned}$$"
      ]
    },
    {
      "cell_type": "code",
      "execution_count": 5,
      "metadata": {
        "colab": {
          "base_uri": "https://localhost:8080/"
        },
        "id": "r-crrwNWw5Bo",
        "outputId": "05e45bf9-fdc3-44ba-cd63-3aade5043521"
      },
      "outputs": [
        {
          "name": "stdout",
          "output_type": "stream",
          "text": [
            "Primeira linha de A:\n",
            "[2 0] dimensão: (2,)\n",
            "Primeira e terceira linha de A:\n",
            "[[2 0]\n",
            " [8 2]] dimensão: (2, 2)\n",
            "Primeira linha de A (mantendo 2 dimensões):\n",
            "[[2 0]] dimensão: (1, 2)\n"
          ]
        }
      ],
      "source": [
        "print(\"Primeira linha de A:\")\n",
        "print(A[0], \"dimensão:\", A[0].shape) # Primeira linha de A\n",
        "print(\"Primeira e terceira linha de A:\")\n",
        "print(A[[0,2]], \"dimensão:\", A[[0,2]].shape) # Primeira e terceira linha de A\n",
        "print(\"Primeira linha de A (mantendo 2 dimensões):\")\n",
        "print(A[[0]], \"dimensão:\", A[[0]].shape) # Primeira linha de A (mantendo 2 dimensões)"
      ]
    },
    {
      "cell_type": "markdown",
      "metadata": {
        "id": "aPuiGsipo1DA"
      },
      "source": [
        "$$\\begin{aligned}\n",
        "\\boldsymbol{A}[:,0] &= \\begin{bmatrix}2 & 4 & 8\\end{bmatrix}\\\\\n",
        "\\boldsymbol{A}[:,[0]] &= \\begin{bmatrix}2 \\\\ 4 \\\\ 8\\end{bmatrix}\n",
        "\\end{aligned}$$"
      ]
    },
    {
      "cell_type": "code",
      "execution_count": 6,
      "metadata": {
        "colab": {
          "base_uri": "https://localhost:8080/"
        },
        "id": "KKjo_gvZmYgm",
        "outputId": "66f0ff09-bb07-4e21-c45b-1050355c3737"
      },
      "outputs": [
        {
          "name": "stdout",
          "output_type": "stream",
          "text": [
            "Primeira coluna do A:\n",
            "[2 4 8] dimensão: (3,)\n",
            "Primeira e segunda coluna do A:\n",
            "[[2 0]\n",
            " [4 6]\n",
            " [8 2]] dimensão: (3, 2)\n",
            "Primeira coluna do A (mantendo 2 dimensões):\n",
            "[[2]\n",
            " [4]\n",
            " [8]] dimensão: (3, 1)\n"
          ]
        }
      ],
      "source": [
        "print(\"Primeira coluna do A:\")\n",
        "print(A[:,0], \"dimensão:\", A[:,0].shape) # Primeira coluna do A\n",
        "print(\"Primeira e segunda coluna do A:\")\n",
        "print(A[:,[0,1]], \"dimensão:\", A[:,[0,1]].shape) # Primeira e segunda coluna do A\n",
        "print(\"Primeira coluna do A (mantendo 2 dimensões):\")\n",
        "print(A[:,[0]], \"dimensão:\", A[:,[0]].shape) # Primeira coluna do A (mantendo 2 dimensões)"
      ]
    },
    {
      "cell_type": "markdown",
      "metadata": {
        "id": "lAkOO3Vd5kFw"
      },
      "source": [
        "$$\\begin{aligned}\n",
        "\\left[\\begin{bmatrix}2 & 4 & 8\\end{bmatrix}; \\begin{bmatrix}1 & 2 & 3\\end{bmatrix}\\right] &= \\begin{bmatrix}2 & 4 & 8\\\\1 & 2 & 3\\end{bmatrix}\\\\\n",
        "\\left[\\begin{bmatrix}2 \\\\ 4 \\\\ 8\\end{bmatrix}, \\begin{bmatrix}1 \\\\ 2 \\\\ 3\\end{bmatrix}\\right] &= \\begin{bmatrix}2 & 1 \\\\ 4 & 2 \\\\ 8 & 3\\end{bmatrix}\n",
        "\\end{aligned}$$"
      ]
    },
    {
      "cell_type": "code",
      "execution_count": 7,
      "metadata": {
        "colab": {
          "base_uri": "https://localhost:8080/"
        },
        "id": "85gElkS85kFw",
        "outputId": "da18805a-a964-45c4-8221-cc0594062ca6"
      },
      "outputs": [
        {
          "name": "stdout",
          "output_type": "stream",
          "text": [
            "[[2 4 8]] dimensão: (1, 3)\n",
            "[[1 2 3]] dimensão: (1, 3)\n",
            "[[2 4 8]\n",
            " [1 2 3]] dimensão: (2, 3)\n"
          ]
        }
      ],
      "source": [
        "a = np.array([2, 4, 8]).reshape((1,-1))\n",
        "b = np.array([1, 2, 3]).reshape((1,-1))\n",
        "ab = np.r_[a,b]\n",
        "\n",
        "print(a, \"dimensão:\", a.shape)\n",
        "print(b, \"dimensão:\", b.shape)\n",
        "print(ab, \"dimensão:\", ab.shape) # row stack"
      ]
    },
    {
      "cell_type": "code",
      "execution_count": 8,
      "metadata": {
        "colab": {
          "base_uri": "https://localhost:8080/"
        },
        "id": "MLtbcRjx5kFy",
        "outputId": "b1e93077-2345-4a17-f740-8b8def098748"
      },
      "outputs": [
        {
          "name": "stdout",
          "output_type": "stream",
          "text": [
            "[[2]\n",
            " [4]\n",
            " [8]] dimensão: (3, 1)\n",
            "[[1]\n",
            " [2]\n",
            " [3]] dimensão: (3, 1)\n",
            "[[2 1]\n",
            " [4 2]\n",
            " [8 3]] dimensão: (3, 2)\n"
          ]
        }
      ],
      "source": [
        "c = np.array([2, 4, 8]).reshape((-1,1))\n",
        "d = np.array([1, 2, 3]).reshape((-1,1))\n",
        "cd = np.c_[c,d]\n",
        "\n",
        "print(c, \"dimensão:\", c.shape)\n",
        "print(d, \"dimensão:\", d.shape)\n",
        "print(cd, \"dimensão:\", cd.shape) # column stack"
      ]
    },
    {
      "cell_type": "markdown",
      "metadata": {
        "id": "fVB8eWYuA56y"
      },
      "source": [
        "## Matrizes notáveis\n",
        "\n",
        "$$\\begin{aligned}\n",
        "\\boldsymbol{I}_n = \\mathtt{np.eye(n)} &= \\begin{bmatrix}1 & 0 & \\ldots\\\\ 0 & 1 & \\ldots\\\\ \\vdots&\\vdots&\\vdots\\\\ 0 & \\ldots & 1\\end{bmatrix}&\n",
        "\\boldsymbol{0}_{n,m} = \\mathtt{np.zeros((n,m))} &= \\begin{bmatrix}0 & 0 & \\ldots\\\\ 0 & 0 & \\ldots\\\\ \\vdots&\\vdots&\\vdots\\\\ 0 & \\ldots & 0\\end{bmatrix}\\\\\n",
        "\\boldsymbol{1}_{n,m} = \\mathtt{np.ones((n,m))} &= \\begin{bmatrix}1 & 1 & \\ldots\\\\ 1 & 1 & \\ldots\\\\ \\vdots&\\vdots&\\vdots\\\\ 1 & \\ldots & 1\\end{bmatrix}\\\\\n",
        "\\end{aligned}$$"
      ]
    },
    {
      "cell_type": "code",
      "execution_count": 9,
      "metadata": {
        "colab": {
          "base_uri": "https://localhost:8080/"
        },
        "id": "2KZ335xCB20E",
        "outputId": "41d420a5-0027-4c8e-af6d-1a683efff141"
      },
      "outputs": [
        {
          "name": "stdout",
          "output_type": "stream",
          "text": [
            "Matriz identidade de ordem 5:\n",
            "[[1. 0. 0. 0. 0.]\n",
            " [0. 1. 0. 0. 0.]\n",
            " [0. 0. 1. 0. 0.]\n",
            " [0. 0. 0. 1. 0.]\n",
            " [0. 0. 0. 0. 1.]]\n",
            "Matriz de zeros 5x3:\n",
            "[[0. 0. 0.]\n",
            " [0. 0. 0.]\n",
            " [0. 0. 0.]\n",
            " [0. 0. 0.]\n",
            " [0. 0. 0.]]\n",
            "Matriz de uns 3x1:\n",
            "[[1.]\n",
            " [1.]\n",
            " [1.]]\n"
          ]
        }
      ],
      "source": [
        "print(\"Matriz identidade de ordem 5:\")\n",
        "print(np.eye(5))\n",
        "print(\"Matriz de zeros 5x3:\")\n",
        "print(np.zeros((5,3)))\n",
        "print(\"Matriz de uns 3x1:\")\n",
        "print(np.ones((3,1)))"
      ]
    },
    {
      "cell_type": "markdown",
      "metadata": {
        "id": "3ZWF77kL5kF0"
      },
      "source": [
        "Além dessas matrizes notáveis, também podemos fazer matrizes aleatórias:\n",
        "\n",
        "`np.random.rand(n,m)` é uma matrix $n$ por $m$ onde $[\\mathtt{np.random.rand(n,m)}]_{ij} \\sim \\mathcal{U}(0,1)$.\n",
        "\n",
        "Ou seja, $[\\mathtt{np.random.rand(n,m)}]_{ij} \\in [0,1)$\n",
        "\n",
        "`np.random.randn(n,m)` é uma matrix $n$ por $m$ onde $[\\mathtt{np.random.randn(n,m)}]_{ij} \\sim \\mathcal{N}(0,1)$\n",
        "\n",
        "Ou seja, $[\\mathtt{np.random.randn(n,m)}]_{ij} \\in (-\\infty,+\\infty)$"
      ]
    },
    {
      "cell_type": "code",
      "execution_count": 10,
      "metadata": {
        "colab": {
          "base_uri": "https://localhost:8080/"
        },
        "id": "FBNqYHUy5kF1",
        "outputId": "9a923cc3-63e7-4bd2-9aac-ebdeb709c67e"
      },
      "outputs": [
        {
          "name": "stdout",
          "output_type": "stream",
          "text": [
            "Matriz 5x3 de números aleatórios amostrados de U(0,1):\n",
            "[[0.39230628 0.97893531 0.78383308]\n",
            " [0.23004006 0.48021699 0.42304992]\n",
            " [0.31400842 0.92540586 0.45814086]\n",
            " [0.5177518  0.64072256 0.36073204]\n",
            " [0.23854214 0.85554823 0.47170291]]\n",
            "Matriz 2x2 de números aleatórios amostrados de N(0,1):\n",
            "[[ 0.93308673 -1.24824893]\n",
            " [-1.78011769  0.84824376]]\n"
          ]
        }
      ],
      "source": [
        "print(\"Matriz 5x3 de números aleatórios amostrados de U(0,1):\")\n",
        "print(np.random.rand(5,3))\n",
        "print(\"Matriz 2x2 de números aleatórios amostrados de N(0,1):\")\n",
        "print(np.random.randn(2,2))"
      ]
    },
    {
      "cell_type": "markdown",
      "metadata": {
        "id": "HpiBGmIjmmXO"
      },
      "source": [
        "## Operações lineares"
      ]
    },
    {
      "cell_type": "markdown",
      "metadata": {
        "id": "hF53unHnsP2W"
      },
      "source": [
        "Produto de escalares por matrizes:\n",
        "$$\\begin{aligned}\n",
        "5\\boldsymbol{A} &= \\begin{bmatrix}2\\cdot 5 & 0\\cdot 5\\\\ 4\\cdot 5 & 6\\cdot 5\\\\ 8\\cdot 5 & 2\\cdot 5\\end{bmatrix}\\\\[0.3em]\n",
        "&= \\begin{bmatrix}10 & 0\\\\ 20 & 30\\\\ 40 & 10\\end{bmatrix}\n",
        "\\end{aligned}$$"
      ]
    },
    {
      "cell_type": "code",
      "execution_count": 11,
      "metadata": {
        "colab": {
          "base_uri": "https://localhost:8080/"
        },
        "id": "K1mE0VBilKIY",
        "outputId": "2716e2ba-10b1-4184-efc1-bd6eaff65f86"
      },
      "outputs": [
        {
          "name": "stdout",
          "output_type": "stream",
          "text": [
            "[[10  0]\n",
            " [20 30]\n",
            " [40 10]]\n"
          ]
        }
      ],
      "source": [
        "print(5 * A)"
      ]
    },
    {
      "cell_type": "markdown",
      "metadata": {
        "id": "MdEFzm9Bmvmc"
      },
      "source": [
        "Soma de matrizes:\n",
        "$$\\begin{aligned}\n",
        "\\boldsymbol{A}+\\boldsymbol{A} &= \\begin{bmatrix}2 & 0\\\\ 4 & 6\\\\ 8 & 2\\end{bmatrix}+\\begin{bmatrix}2 & 0\\\\ 4 & 6\\\\ 8 & 2\\end{bmatrix}\\\\[0.3em]\n",
        "&= \\begin{bmatrix}4 & 0\\\\ 8 & 12\\\\ 26 & 4\\end{bmatrix}\n",
        "\\end{aligned}$$"
      ]
    },
    {
      "cell_type": "code",
      "execution_count": 12,
      "metadata": {
        "colab": {
          "base_uri": "https://localhost:8080/"
        },
        "id": "mgxWPeBfmtgF",
        "outputId": "2c64edf9-88ae-45b6-818c-f45d1021daae"
      },
      "outputs": [
        {
          "name": "stdout",
          "output_type": "stream",
          "text": [
            "[[ 4  0]\n",
            " [ 8 12]\n",
            " [16  4]]\n"
          ]
        }
      ],
      "source": [
        "print(A + A)"
      ]
    },
    {
      "cell_type": "markdown",
      "metadata": {
        "id": "Z6MOwqaNnH1S",
        "tags": []
      },
      "source": [
        "Produto com broadcast (difusão) de um vetor por uma matriz:\n",
        "$$\\begin{aligned}\n",
        "\\boldsymbol{v}_1 \\bullet \\boldsymbol{A} &= \\begin{bmatrix}5 & 3\\end{bmatrix}\\bullet\\begin{bmatrix}2 & 0\\\\ 4 & 6\\\\ 8 & 2\\end{bmatrix}\\\\[0.3em]\n",
        "&= \\begin{bmatrix}5\\cdot 2 & 3\\cdot 0\\\\ 5\\cdot 4 & 3\\cdot 6\\\\ 5\\cdot 8 & 3\\cdot 2\\end{bmatrix}\\\\\n",
        "&= \\begin{bmatrix}10 & 0\\\\ 20 & 18\\\\ 40 & 6\\end{bmatrix}\\\\\n",
        "\\end{aligned}$$"
      ]
    },
    {
      "cell_type": "code",
      "execution_count": 13,
      "metadata": {
        "colab": {
          "base_uri": "https://localhost:8080/"
        },
        "id": "jAkvCHYfnCPF",
        "outputId": "c39fb76f-15cd-4d49-fd62-93306a43bb60"
      },
      "outputs": [
        {
          "name": "stdout",
          "output_type": "stream",
          "text": [
            "[[10  0]\n",
            " [20 18]\n",
            " [40  6]]\n"
          ]
        }
      ],
      "source": [
        "print(v1 * A)"
      ]
    },
    {
      "cell_type": "markdown",
      "metadata": {
        "id": "qKXp3XlQk4Vc"
      },
      "source": [
        "Soma com broadcast (difusão) de um vetor por uma matriz:\n",
        "$$\\begin{aligned}\n",
        "\\boldsymbol{v}_1 \\oplus \\boldsymbol{A} &= \\begin{bmatrix}5 & 3\\end{bmatrix}\\oplus\\begin{bmatrix}2 & 0\\\\ 4 & 6\\\\ 8 & 2\\end{bmatrix}\\\\[0.3em]\n",
        "&= \\begin{bmatrix}5 & 3\\\\ 5 & 3\\\\ 5 & 3\\end{bmatrix}+\\begin{bmatrix}2 & 0\\\\ 4 & 6\\\\ 8 & 2\\end{bmatrix}\\\\\n",
        "&= \\begin{bmatrix}7 & 3\\\\ 9 & 9\\\\ 13 & 5\\end{bmatrix}\\\\\n",
        "\\end{aligned}$$"
      ]
    },
    {
      "cell_type": "code",
      "execution_count": 14,
      "metadata": {
        "colab": {
          "base_uri": "https://localhost:8080/"
        },
        "id": "Kfr0uegMkws5",
        "outputId": "9e2cb2c9-1239-4404-cbaa-b88329cf6088"
      },
      "outputs": [
        {
          "name": "stdout",
          "output_type": "stream",
          "text": [
            "[[ 7  3]\n",
            " [ 9  9]\n",
            " [13  5]]\n"
          ]
        }
      ],
      "source": [
        "print(v1 + A)"
      ]
    },
    {
      "cell_type": "markdown",
      "metadata": {
        "id": "HtXNX0-45kF7"
      },
      "source": [
        "Cuidado com as dimensões das variáveis:"
      ]
    },
    {
      "cell_type": "code",
      "execution_count": 15,
      "metadata": {
        "colab": {
          "base_uri": "https://localhost:8080/"
        },
        "id": "kQ1gTxkteYEE",
        "outputId": "8cfcd8af-ae95-4df6-ea47-4803b4688b16"
      },
      "outputs": [
        {
          "name": "stdout",
          "output_type": "stream",
          "text": [
            "Vetor v2:\n",
            "[9 2 1] dimensão: (3,)\n",
            "Matriz A:\n",
            "[[2 0]\n",
            " [4 6]\n",
            " [8 2]] dimensão: (3, 2)\n",
            "operands could not be broadcast together with shapes (3,) (3,2) \n"
          ]
        }
      ],
      "source": [
        "print(\"Vetor v2:\")\n",
        "print(v2, \"dimensão:\", v2.shape)\n",
        "print(\"Matriz A:\")\n",
        "print(A, \"dimensão:\", A.shape)\n",
        "try:\n",
        "    v2 + A\n",
        "except Exception as e:\n",
        "    print(e)"
      ]
    },
    {
      "cell_type": "code",
      "execution_count": 16,
      "metadata": {
        "colab": {
          "base_uri": "https://localhost:8080/"
        },
        "id": "X5BP2ZSClM5t",
        "outputId": "4e686ea3-2e05-48da-9d6f-3250faa18bd9"
      },
      "outputs": [
        {
          "name": "stdout",
          "output_type": "stream",
          "text": [
            "Matriz A:\n",
            "[[2 0]\n",
            " [4 6]\n",
            " [8 2]] dimensão: (3, 2)\n",
            "Matriz B:\n",
            "[[1 3]\n",
            " [5 7]] dimensão: (2, 2)\n",
            "operands could not be broadcast together with shapes (3,2) (2,2) \n"
          ]
        }
      ],
      "source": [
        "print(\"Matriz A:\")\n",
        "print(A, \"dimensão:\", A.shape)\n",
        "print(\"Matriz B:\")\n",
        "print(B, \"dimensão:\", B.shape)\n",
        "try:\n",
        "    A + B\n",
        "except Exception as e:\n",
        "    print(e)"
      ]
    },
    {
      "cell_type": "markdown",
      "metadata": {
        "id": "hEUdmETI5kF8"
      },
      "source": [
        "## Operações não-lineares"
      ]
    },
    {
      "cell_type": "markdown",
      "metadata": {
        "id": "Jquo2nUB5kF9"
      },
      "source": [
        "$$\\begin{aligned}\n",
        "\\boldsymbol{A} &= \\begin{bmatrix}2 & 0\\\\ 4 & 6\\\\ 8 & 2\\end{bmatrix}\\\\\n",
        "\\mathtt{A ** 2} &= \\begin{bmatrix}2^2 & 0^2\\\\ 4^2 & 6^2\\\\ 8^2 & 2^2\\end{bmatrix}\n",
        "\\end{aligned}$$"
      ]
    },
    {
      "cell_type": "code",
      "execution_count": 17,
      "metadata": {
        "colab": {
          "base_uri": "https://localhost:8080/"
        },
        "id": "4ksNqctK5kF9",
        "outputId": "143de4bc-e356-4c26-f3e8-940c731d970f"
      },
      "outputs": [
        {
          "name": "stdout",
          "output_type": "stream",
          "text": [
            "[[ 4  0]\n",
            " [16 36]\n",
            " [64  4]]\n"
          ]
        }
      ],
      "source": [
        "print(A ** 2)"
      ]
    },
    {
      "cell_type": "markdown",
      "metadata": {
        "id": "Wna-KNE75kF-"
      },
      "source": [
        "$$\\begin{aligned}\n",
        "\\boldsymbol{A} &= \\begin{bmatrix}2 & 0\\\\ 4 & 6\\\\ 8 & 2\\end{bmatrix}\\\\\n",
        "\\mathtt{np.sqrt(A)} &= \\begin{bmatrix}\\sqrt{2} & \\sqrt{0}\\\\ \\sqrt{4} & \\sqrt{6}\\\\ \\sqrt{8} & \\sqrt{2}\\end{bmatrix}\\\\\n",
        "\\mathtt{A ** 0.5} &= \\begin{bmatrix}2^\\frac{1}{2} & 0^\\frac{1}{2}\\\\ 4^\\frac{1}{2} & 6^\\frac{1}{2}\\\\ 8^\\frac{1}{2} & 2^\\frac{1}{2}\\end{bmatrix}\n",
        "\\end{aligned}$$"
      ]
    },
    {
      "cell_type": "code",
      "execution_count": 18,
      "metadata": {
        "colab": {
          "base_uri": "https://localhost:8080/"
        },
        "id": "ZBUNARGA5kF-",
        "outputId": "a2c2e14a-492b-414d-c6a4-018349658851"
      },
      "outputs": [
        {
          "name": "stdout",
          "output_type": "stream",
          "text": [
            "[[1.41421356 0.        ]\n",
            " [2.         2.44948974]\n",
            " [2.82842712 1.41421356]]\n",
            "[[1.41421356 0.        ]\n",
            " [2.         2.44948974]\n",
            " [2.82842712 1.41421356]]\n"
          ]
        }
      ],
      "source": [
        "print(np.sqrt(A))\n",
        "print(A ** 0.5)"
      ]
    },
    {
      "cell_type": "markdown",
      "metadata": {
        "id": "neCw_GVc5kF_"
      },
      "source": [
        "## Operações de agregação"
      ]
    },
    {
      "cell_type": "markdown",
      "metadata": {
        "id": "KyGT4tcp5kF_"
      },
      "source": [
        "$$\\begin{aligned}\n",
        "\\boldsymbol{A} &= \\begin{bmatrix}2 & 0\\\\ 4 & 6\\\\ 8 & 2\\end{bmatrix}\\\\\n",
        "\\mathtt{np.mean(A)} &= \\frac{2 + 0 + 4 + 6 + 8 + 2}{2\\cdot 3}\\\\\n",
        "\\mathtt{np.sum(A)} &= 2 + 0 + 4 + 6 + 8 + 2\\\\\n",
        "\\mathtt{np.prod(A)} &= 2 \\cdot 0 \\cdot 4 \\cdot 6 \\cdot 8 \\cdot 2\\\\\n",
        "\\end{aligned}$$"
      ]
    },
    {
      "cell_type": "code",
      "execution_count": 19,
      "metadata": {
        "colab": {
          "base_uri": "https://localhost:8080/"
        },
        "id": "hOyp3AVq5kGA",
        "outputId": "701e4597-fc22-4cd0-b03b-e990a82caa95"
      },
      "outputs": [
        {
          "data": {
            "text/plain": [
              "(np.float64(3.6666666666666665), np.int64(22), np.int64(0))"
            ]
          },
          "execution_count": 19,
          "metadata": {},
          "output_type": "execute_result"
        }
      ],
      "source": [
        "np.mean(A), np.sum(A), np.prod(A)"
      ]
    },
    {
      "cell_type": "code",
      "execution_count": 20,
      "metadata": {
        "colab": {
          "base_uri": "https://localhost:8080/"
        },
        "id": "84XguWQy5kGA",
        "outputId": "fb6a5c0c-d73e-4295-b39e-209164dd0e67"
      },
      "outputs": [
        {
          "data": {
            "text/plain": [
              "(np.float64(3.6666666666666665), np.int64(22), np.int64(0))"
            ]
          },
          "execution_count": 20,
          "metadata": {},
          "output_type": "execute_result"
        }
      ],
      "source": [
        "A.mean(), A.sum(), A.prod()"
      ]
    },
    {
      "cell_type": "markdown",
      "metadata": {
        "id": "eTQkkoGF5kGB"
      },
      "source": [
        "$$\\begin{aligned}\n",
        "\\boldsymbol{A} &= \\begin{bmatrix}2 & 0\\\\ 4 & 6\\\\ 8 & 2\\end{bmatrix}\\\\\n",
        "\\mathtt{np.mean(A, axis=0)} &= \\frac{1}{3}\\begin{bmatrix}2 + 4 + 8 & 0 + 6 + 2\\end{bmatrix}\\\\\n",
        "\\mathtt{np.sum(A, axis=0)} &= \\begin{bmatrix}2 + 4 + 8 & 0 + 6 + 2\\end{bmatrix}\\\\\n",
        "\\mathtt{np.prod(A, axis=0)} &= \\begin{bmatrix}2 \\cdot 4 \\cdot 8 & 0 \\cdot 6 \\cdot 2\\end{bmatrix}\\\\\n",
        "\\end{aligned}$$"
      ]
    },
    {
      "cell_type": "code",
      "execution_count": 21,
      "metadata": {
        "colab": {
          "base_uri": "https://localhost:8080/"
        },
        "id": "3iEZONxx5kGC",
        "outputId": "8a5b2a25-b4c9-4c72-a64b-4c4523f5ae22"
      },
      "outputs": [
        {
          "data": {
            "text/plain": [
              "(array([4.66666667, 2.66666667]), array([14,  8]), array([64,  0]))"
            ]
          },
          "execution_count": 21,
          "metadata": {},
          "output_type": "execute_result"
        }
      ],
      "source": [
        "np.mean(A, axis=0), np.sum(A, axis=0), np.prod(A, axis=0)"
      ]
    },
    {
      "cell_type": "code",
      "execution_count": 22,
      "metadata": {
        "colab": {
          "base_uri": "https://localhost:8080/"
        },
        "id": "Ox86hDIQ5kGC",
        "outputId": "8c0dd6ee-f6be-478e-a0e8-0e19b5196e44"
      },
      "outputs": [
        {
          "data": {
            "text/plain": [
              "(array([4.66666667, 2.66666667]), array([14,  8]), array([64,  0]))"
            ]
          },
          "execution_count": 22,
          "metadata": {},
          "output_type": "execute_result"
        }
      ],
      "source": [
        "A.mean(axis=0), A.sum(axis=0), A.prod(axis=0)"
      ]
    },
    {
      "cell_type": "markdown",
      "metadata": {
        "id": "B2X2tKRm5kGC"
      },
      "source": [
        "$$\\begin{aligned}\n",
        "\\boldsymbol{A} &= \\begin{bmatrix}2 & 0\\\\ 4 & 6\\\\ 8 & 2\\end{bmatrix}\\\\\n",
        "\\mathtt{np.mean(A, axis=1)} &= \\frac{1}{2}\\begin{bmatrix}2 + 0 & 4 + 6 & 8 + 2\\end{bmatrix}\\\\\n",
        "\\mathtt{np.sum(A, axis=1)} &= \\begin{bmatrix}2 + 0 & 4 + 6 & 8 + 2\\end{bmatrix}\\\\\n",
        "\\mathtt{np.prod(A, axis=1)} &= \\begin{bmatrix}2 \\cdot 0 & 4 \\cdot 6 & 8 \\cdot 2\\end{bmatrix}\\\\\n",
        "\\end{aligned}$$"
      ]
    },
    {
      "cell_type": "code",
      "execution_count": 23,
      "metadata": {
        "colab": {
          "base_uri": "https://localhost:8080/"
        },
        "id": "f_11yzQo5kGD",
        "outputId": "a89fa0be-8998-44f5-fd0e-b73aeeedb47e"
      },
      "outputs": [
        {
          "data": {
            "text/plain": [
              "(array([1., 5., 5.]), array([ 2, 10, 10]), array([ 0, 24, 16]))"
            ]
          },
          "execution_count": 23,
          "metadata": {},
          "output_type": "execute_result"
        }
      ],
      "source": [
        "np.mean(A, axis=1), np.sum(A, axis=1), np.prod(A, axis=1)"
      ]
    },
    {
      "cell_type": "code",
      "execution_count": 24,
      "metadata": {
        "colab": {
          "base_uri": "https://localhost:8080/"
        },
        "id": "WiTX4Cfg5kGD",
        "outputId": "d2b9028c-2f3b-4fbc-f6df-c72184a11456"
      },
      "outputs": [
        {
          "data": {
            "text/plain": [
              "(array([1., 5., 5.]), array([ 2, 10, 10]), array([ 0, 24, 16]))"
            ]
          },
          "execution_count": 24,
          "metadata": {},
          "output_type": "execute_result"
        }
      ],
      "source": [
        "A.mean(axis=1), A.sum(axis=1), A.prod(axis=1)"
      ]
    },
    {
      "cell_type": "code",
      "execution_count": 25,
      "metadata": {
        "colab": {
          "base_uri": "https://localhost:8080/"
        },
        "id": "yi1tjRgl5kGE",
        "outputId": "7e851cc8-139e-4b47-a6cd-60216cf99e1d"
      },
      "outputs": [
        {
          "data": {
            "text/plain": [
              "array([[4.66666667, 2.66666667]])"
            ]
          },
          "execution_count": 25,
          "metadata": {},
          "output_type": "execute_result"
        }
      ],
      "source": [
        "np.mean(A, axis=0, keepdims=True)"
      ]
    },
    {
      "cell_type": "code",
      "execution_count": 26,
      "metadata": {
        "colab": {
          "base_uri": "https://localhost:8080/"
        },
        "id": "L4ZN7Vrm5kGE",
        "outputId": "fc9f35b0-a553-4bb1-ecd6-159af7948c8d"
      },
      "outputs": [
        {
          "data": {
            "text/plain": [
              "array([[4.66666667, 2.66666667]])"
            ]
          },
          "execution_count": 26,
          "metadata": {},
          "output_type": "execute_result"
        }
      ],
      "source": [
        "A.mean(axis=0, keepdims=True)"
      ]
    },
    {
      "cell_type": "code",
      "execution_count": 27,
      "metadata": {
        "colab": {
          "base_uri": "https://localhost:8080/"
        },
        "id": "SfnSbAjl5kGF",
        "outputId": "a8b4c3cd-00d7-4783-c403-11fe3ff2e914"
      },
      "outputs": [
        {
          "data": {
            "text/plain": [
              "array([[-2.66666667, -2.66666667],\n",
              "       [-0.66666667,  3.33333333],\n",
              "       [ 3.33333333, -0.66666667]])"
            ]
          },
          "execution_count": 27,
          "metadata": {},
          "output_type": "execute_result"
        }
      ],
      "source": [
        "A - A.mean(axis=0, keepdims=True)"
      ]
    },
    {
      "cell_type": "markdown",
      "metadata": {
        "id": "KfbeQa8DmjsG"
      },
      "source": [
        "## Multiplicação de Matrizes\n",
        "\n",
        "Para matrizes $\\boldsymbol{X} \\in \\mathbb{R}^{a\\times b}$ e $\\boldsymbol{Y} \\in \\mathbb{R}^{b\\times c}$, temos que\n",
        "$\\boldsymbol{XY} \\in \\mathbb{R}^{a\\times c}$. No Numpy, essa operação é representada por $\\texttt{X @ Y}$.\n",
        "\n",
        "A multiplicação é definida por:\n",
        "$$\\begin{aligned}\n",
        "(\\boldsymbol{XY})_{ij} = \\sum_k \\boldsymbol{X}_{ik}\\boldsymbol{Y}_{kj}\n",
        "\\end{aligned}$$"
      ]
    },
    {
      "cell_type": "code",
      "execution_count": 28,
      "metadata": {
        "colab": {
          "base_uri": "https://localhost:8080/"
        },
        "id": "gmHrXwu8khmU",
        "outputId": "1a387ef0-bded-4741-d4d8-4d477204be84"
      },
      "outputs": [
        {
          "name": "stdout",
          "output_type": "stream",
          "text": [
            "[[ 2  6]\n",
            " [34 54]\n",
            " [18 38]]\n",
            "Dimensão de A @ B: (3, 2)\n"
          ]
        }
      ],
      "source": [
        "print(A @ B)\n",
        "print(\"Dimensão de A @ B:\", (A@B).shape)"
      ]
    },
    {
      "cell_type": "markdown",
      "metadata": {
        "id": "J17VupaM5kGH"
      },
      "source": [
        "Cuidado com as dimensões das matrizes:"
      ]
    },
    {
      "cell_type": "code",
      "execution_count": 29,
      "metadata": {
        "colab": {
          "base_uri": "https://localhost:8080/"
        },
        "id": "4fXEq111mI3j",
        "outputId": "20b51d84-4569-4b00-f59c-67fada4129ef"
      },
      "outputs": [
        {
          "name": "stdout",
          "output_type": "stream",
          "text": [
            "matmul: Input operand 1 has a mismatch in its core dimension 0, with gufunc signature (n?,k),(k,m?)->(n?,m?) (size 3 is different from 2)\n"
          ]
        }
      ],
      "source": [
        "try:\n",
        "    B @ A\n",
        "except Exception as e:\n",
        "    print(e)"
      ]
    },
    {
      "cell_type": "code",
      "execution_count": 30,
      "metadata": {
        "colab": {
          "base_uri": "https://localhost:8080/"
        },
        "id": "yoshGOOdkoJq",
        "outputId": "9a1630c6-dc2f-4d55-943a-4fb71f43d41b"
      },
      "outputs": [
        {
          "name": "stdout",
          "output_type": "stream",
          "text": [
            "[ 28 332 204]\n",
            "[ 28 332 204]\n"
          ]
        }
      ],
      "source": [
        "print(A @ B @ v1)\n",
        "print((A @ B) @ v1)"
      ]
    },
    {
      "cell_type": "markdown",
      "metadata": {
        "id": "JZY4P3LcAZkL"
      },
      "source": [
        "### Inversão de matrizes\n",
        "Outra operação bastante comum é multiplicar uma matriz pela inversa dela...\n",
        "\n",
        "Seja $\\boldsymbol{B}$ uma matriz inversível, então $\\boldsymbol{B}^{-1} \\boldsymbol{B} = \\boldsymbol{I}$\n"
      ]
    },
    {
      "cell_type": "code",
      "execution_count": 31,
      "metadata": {
        "colab": {
          "base_uri": "https://localhost:8080/"
        },
        "id": "8BBG4KNVDVi-",
        "outputId": "21a55461-cafa-4fbd-d5db-f6980be37e2a"
      },
      "outputs": [
        {
          "name": "stdout",
          "output_type": "stream",
          "text": [
            "[[1 3]\n",
            " [5 7]]\n"
          ]
        }
      ],
      "source": [
        "print(B)"
      ]
    },
    {
      "cell_type": "code",
      "execution_count": 32,
      "metadata": {
        "colab": {
          "base_uri": "https://localhost:8080/"
        },
        "id": "kXYbc3mV5kGJ",
        "outputId": "df8db3fe-1fef-4c3a-8a18-b2996d48109c"
      },
      "outputs": [
        {
          "name": "stdout",
          "output_type": "stream",
          "text": [
            "[[-0.875  0.375]\n",
            " [ 0.625 -0.125]]\n"
          ]
        }
      ],
      "source": [
        "B_inv = np.linalg.inv(B)\n",
        "print(B_inv)"
      ]
    },
    {
      "cell_type": "code",
      "execution_count": 33,
      "metadata": {
        "colab": {
          "base_uri": "https://localhost:8080/"
        },
        "id": "AoEFF7FN5kGK",
        "outputId": "8a9325af-abce-40fc-d917-830e0f177eb2"
      },
      "outputs": [
        {
          "name": "stdout",
          "output_type": "stream",
          "text": [
            "[[1. 0.]\n",
            " [0. 1.]]\n"
          ]
        }
      ],
      "source": [
        "print(B_inv @ B)"
      ]
    },
    {
      "cell_type": "markdown",
      "metadata": {
        "id": "N2rxZkbw5kGK"
      },
      "source": [
        "A inversa pode ser usada no produto com vetores:\n",
        "$\\boldsymbol{B}^{-1} \\boldsymbol{v}_1$"
      ]
    },
    {
      "cell_type": "code",
      "execution_count": 34,
      "metadata": {
        "colab": {
          "base_uri": "https://localhost:8080/"
        },
        "id": "McWrAEwsEUz5",
        "outputId": "20a2e3d7-c706-4dc5-db88-8d1c86423b2f"
      },
      "outputs": [
        {
          "name": "stdout",
          "output_type": "stream",
          "text": [
            "[-3.25  2.75]\n"
          ]
        }
      ],
      "source": [
        "print(B_inv @ v1)"
      ]
    },
    {
      "cell_type": "markdown",
      "metadata": {
        "id": "rIK8beRdEZBQ"
      },
      "source": [
        "Porém, existe uma outra forma mais eficiente de computar a mesma coisa:\n",
        "\n",
        "Se $\\boldsymbol{B}^{-1} \\boldsymbol{v}_1 = \\boldsymbol{x}$, então $\\boldsymbol{B} \\boldsymbol{x} = \\boldsymbol{v}_1$.\n",
        "Ou seja, estamos resolvendo o sistema de equações lineares com coeficientes $\\boldsymbol{B}$ e resultado $\\boldsymbol{v}_1$"
      ]
    },
    {
      "cell_type": "code",
      "execution_count": 35,
      "metadata": {
        "colab": {
          "base_uri": "https://localhost:8080/"
        },
        "id": "ImCfS6qjEeQF",
        "outputId": "5cbfa644-a4d7-4bfc-b812-287c8b9360e6"
      },
      "outputs": [
        {
          "name": "stdout",
          "output_type": "stream",
          "text": [
            "[-3.25  2.75]\n"
          ]
        }
      ],
      "source": [
        "print(np.linalg.solve(B,v1))"
      ]
    },
    {
      "cell_type": "markdown",
      "metadata": {
        "id": "n24XQHP9FRUi"
      },
      "source": [
        "## Leitura de arquivos com dados\n",
        "\n",
        "Normalmente os dados na disciplina serão recebidos no formato CSV. Isso significa que o dado é estruturado da seguinte maneira:\n",
        "```\n",
        "idade,pressão_sanguínea # Um cabeçalho opcional\n",
        "39,144 # Dados separados por vírgulas ou outro separador\n",
        "47,220\n",
        "....\n",
        "```"
      ]
    },
    {
      "cell_type": "code",
      "execution_count": 36,
      "metadata": {
        "colab": {
          "base_uri": "https://localhost:8080/"
        },
        "id": "QOUfDIt7GPCb",
        "outputId": "81e9b968-8338-46a4-abcc-c3c545905517"
      },
      "outputs": [
        {
          "data": {
            "text/plain": [
              "array([[ 39., 144.],\n",
              "       [ 47., 220.],\n",
              "       [ 45., 138.],\n",
              "       [ 47., 145.],\n",
              "       [ 65., 162.],\n",
              "       [ 46., 142.],\n",
              "       [ 67., 170.],\n",
              "       [ 42., 124.],\n",
              "       [ 67., 158.],\n",
              "       [ 56., 154.],\n",
              "       [ 64., 162.],\n",
              "       [ 56., 150.],\n",
              "       [ 59., 140.],\n",
              "       [ 34., 110.],\n",
              "       [ 42., 128.],\n",
              "       [ 48., 130.],\n",
              "       [ 45., 135.],\n",
              "       [ 17., 114.],\n",
              "       [ 20., 116.],\n",
              "       [ 19., 124.],\n",
              "       [ 36., 136.],\n",
              "       [ 50., 142.],\n",
              "       [ 39., 120.],\n",
              "       [ 21., 120.],\n",
              "       [ 44., 160.],\n",
              "       [ 53., 158.],\n",
              "       [ 63., 144.],\n",
              "       [ 29., 130.],\n",
              "       [ 25., 125.],\n",
              "       [ 69., 175.]])"
            ]
          },
          "execution_count": 36,
          "metadata": {},
          "output_type": "execute_result"
        }
      ],
      "source": [
        "pressao_dataset = np.genfromtxt('./datasets/pressão.txt', delimiter=',', skip_header=1)\n",
        "pressao_dataset"
      ]
    },
    {
      "cell_type": "markdown",
      "metadata": {
        "id": "FmsfKXdh5kGN"
      },
      "source": [
        "```\n",
        "# idade, temperatura da água, comprimento\n",
        "14,25,620\n",
        "28,25,1315\n",
        "....\n",
        "```"
      ]
    },
    {
      "cell_type": "code",
      "execution_count": 37,
      "metadata": {
        "colab": {
          "base_uri": "https://localhost:8080/"
        },
        "id": "34fWMMwq5kGN",
        "outputId": "62a68e07-1a6e-406d-d2bd-7da6b0a08fcf"
      },
      "outputs": [
        {
          "data": {
            "text/plain": [
              "array([[  14.,   25.,  620.],\n",
              "       [  28.,   25., 1315.],\n",
              "       [  41.,   25., 2120.],\n",
              "       [  55.,   25., 2600.],\n",
              "       [  69.,   25., 3110.],\n",
              "       [  83.,   25., 3535.],\n",
              "       [  97.,   25., 3935.],\n",
              "       [ 111.,   25., 4465.],\n",
              "       [ 125.,   25., 4530.],\n",
              "       [ 139.,   25., 4570.],\n",
              "       [ 153.,   25., 4600.],\n",
              "       [  14.,   27.,  625.],\n",
              "       [  28.,   27., 1215.],\n",
              "       [  41.,   27., 2110.],\n",
              "       [  55.,   27., 2805.],\n",
              "       [  69.,   27., 3255.],\n",
              "       [  83.,   27., 4015.],\n",
              "       [  97.,   27., 4315.],\n",
              "       [ 111.,   27., 4495.],\n",
              "       [ 125.,   27., 4535.],\n",
              "       [ 139.,   27., 4600.],\n",
              "       [ 153.,   27., 4600.],\n",
              "       [  14.,   29.,  590.],\n",
              "       [  28.,   29., 1305.],\n",
              "       [  41.,   29., 2140.],\n",
              "       [  55.,   29., 2890.],\n",
              "       [  69.,   29., 3920.],\n",
              "       [  83.,   29., 3920.],\n",
              "       [  97.,   29., 4515.],\n",
              "       [ 111.,   29., 4520.],\n",
              "       [ 125.,   29., 4525.],\n",
              "       [ 139.,   29., 4565.],\n",
              "       [ 153.,   29., 4566.],\n",
              "       [  14.,   31.,  590.],\n",
              "       [  28.,   31., 1205.],\n",
              "       [  41.,   31., 1915.],\n",
              "       [  55.,   31., 2140.],\n",
              "       [  69.,   31., 2710.],\n",
              "       [  83.,   31., 3020.],\n",
              "       [  97.,   31., 3030.],\n",
              "       [ 111.,   31., 3040.],\n",
              "       [ 125.,   31., 3180.],\n",
              "       [ 139.,   31., 3257.],\n",
              "       [ 153.,   31., 3214.]])"
            ]
          },
          "execution_count": 37,
          "metadata": {},
          "output_type": "execute_result"
        }
      ],
      "source": [
        "peixe_dataset = np.genfromtxt('./datasets/peixe.txt', delimiter=',')\n",
        "peixe_dataset"
      ]
    },
    {
      "cell_type": "markdown",
      "metadata": {
        "id": "dDlFNckOEiwA"
      },
      "source": [
        "## Exercícios"
      ]
    },
    {
      "cell_type": "markdown",
      "metadata": {
        "id": "cC-WOVEAEsph"
      },
      "source": [
        "### Computar a fórmula da normalização escore-Z\n",
        "\n",
        "Dado um conjunto de dados $\\boldsymbol{X} = [\\boldsymbol{x}_1, \\boldsymbol{x}_1, \\ldots, \\boldsymbol{x}_N]$, a normalização por escore-Z é dada por:\n",
        "$$\\tilde{\\boldsymbol{x_i}} = \\frac{\\boldsymbol{x_i} - \\boldsymbol{\\mu}}{\\boldsymbol{\\sigma}}$$\n",
        "\n",
        "Onde:\n",
        "$$\\begin{aligned}\n",
        "\\boldsymbol{\\mu} &= \\frac{1}{N}\\sum_i^N \\boldsymbol{x_i}\\\\\n",
        "\\boldsymbol{\\sigma} &= \\sqrt{\\frac{1}{N-1}\\sum_i^N (\\boldsymbol{x_i}-\\boldsymbol{\\mu})^2}\\\\\n",
        "\\end{aligned}$$\n",
        "\n",
        "A \"desnormalização\" pode ser feita por:\n",
        "$$\\boldsymbol{x_i} = \\boldsymbol{\\sigma}\\tilde{\\boldsymbol{x_i}} + \\boldsymbol{\\mu}$$\n",
        "\n",
        "Use a fórmula para normalizar o conjunto de dados `peixe` sem usar nenhum `for` ou `while`."
      ]
    },
    {
      "cell_type": "code",
      "execution_count": 38,
      "metadata": {
        "id": "h8CusBik5kGO",
        "tags": []
      },
      "outputs": [],
      "source": [
        "class Normalizacao:\n",
        "    def __init__(self, X):\n",
        "        # Inicializa os atributos\n",
        "        self.desvios_padroes = None\n",
        "        self.medias          = None\n",
        "        self.x = X\n",
        "        self.size = self.x.shape[1]\n",
        "\n",
        "    # Função para calcular a média de cada coluna\n",
        "    def mean_(self):\n",
        "        # Verificando a quantidade de colunas\n",
        "        \n",
        "\n",
        "        # Calcula a média de cada coluna\n",
        "        self.medias = [ np.around(np.mean(self.x[:, i]), 2) for i in range(self.size)]\n",
        "\n",
        "        # Retorna o próprio objeto\n",
        "        return self\n",
        "\n",
        "    def std_(self):\n",
        "        # Calcula a média\n",
        "        self.mean_()\n",
        "\n",
        "        # Calcula o desvio padrão de cada coluna\n",
        "        self.desvios_padroes = [\n",
        "            np.sqrt(np.mean( (self.x[:, i] - self.medias[i])**2) ) for i in range(self.size)\n",
        "        ]\n",
        "        return self\n",
        "\n",
        "    def transformacao(self):\n",
        "        # Chamando funções para calcular média e desvio padrão\n",
        "        self.std_()\n",
        "\n",
        "        # Aplica a normalização z-score\n",
        "        for i in range(self.x.shape[1]):\n",
        "            self.x[:, i] = (self.x[:, i] - self.medias[i]) / self.desvios_padroes[i]\n",
        "        return self.x\n",
        "\n",
        "    def inversa_transformacao(self):\n",
        "        try:\n",
        "            for i in range(self.x.shape[1]):\n",
        "                self.x[:, i] = self.desvios_padroes[i] * self.x[:, i] + self.medias[i]\n",
        "        except Exception as e:\n",
        "            print(\"talvez você não normalizou os dados ainda\")\n",
        "        return self.x"
      ]
    },
    {
      "cell_type": "code",
      "execution_count": 39,
      "metadata": {
        "colab": {
          "base_uri": "https://localhost:8080/"
        },
        "id": "p1valdFS-AAL",
        "outputId": "063e22c7-5a02-4646-9740-d73060cdced2"
      },
      "outputs": [],
      "source": [
        "norm = Normalizacao(peixe_dataset)"
      ]
    },
    {
      "cell_type": "code",
      "execution_count": 40,
      "metadata": {
        "colab": {
          "base_uri": "https://localhost:8080/"
        },
        "id": "X8Y8M08S-r_a",
        "outputId": "01fc054d-72e9-4aed-f723-10f0ccde9e91"
      },
      "outputs": [
        {
          "name": "stdout",
          "output_type": "stream",
          "text": [
            "talvez você não normalizou os dados ainda\n"
          ]
        },
        {
          "data": {
            "text/plain": [
              "array([[  14.,   25.,  620.],\n",
              "       [  28.,   25., 1315.],\n",
              "       [  41.,   25., 2120.],\n",
              "       [  55.,   25., 2600.],\n",
              "       [  69.,   25., 3110.],\n",
              "       [  83.,   25., 3535.],\n",
              "       [  97.,   25., 3935.],\n",
              "       [ 111.,   25., 4465.],\n",
              "       [ 125.,   25., 4530.],\n",
              "       [ 139.,   25., 4570.],\n",
              "       [ 153.,   25., 4600.],\n",
              "       [  14.,   27.,  625.],\n",
              "       [  28.,   27., 1215.],\n",
              "       [  41.,   27., 2110.],\n",
              "       [  55.,   27., 2805.],\n",
              "       [  69.,   27., 3255.],\n",
              "       [  83.,   27., 4015.],\n",
              "       [  97.,   27., 4315.],\n",
              "       [ 111.,   27., 4495.],\n",
              "       [ 125.,   27., 4535.],\n",
              "       [ 139.,   27., 4600.],\n",
              "       [ 153.,   27., 4600.],\n",
              "       [  14.,   29.,  590.],\n",
              "       [  28.,   29., 1305.],\n",
              "       [  41.,   29., 2140.],\n",
              "       [  55.,   29., 2890.],\n",
              "       [  69.,   29., 3920.],\n",
              "       [  83.,   29., 3920.],\n",
              "       [  97.,   29., 4515.],\n",
              "       [ 111.,   29., 4520.],\n",
              "       [ 125.,   29., 4525.],\n",
              "       [ 139.,   29., 4565.],\n",
              "       [ 153.,   29., 4566.],\n",
              "       [  14.,   31.,  590.],\n",
              "       [  28.,   31., 1205.],\n",
              "       [  41.,   31., 1915.],\n",
              "       [  55.,   31., 2140.],\n",
              "       [  69.,   31., 2710.],\n",
              "       [  83.,   31., 3020.],\n",
              "       [  97.,   31., 3030.],\n",
              "       [ 111.,   31., 3040.],\n",
              "       [ 125.,   31., 3180.],\n",
              "       [ 139.,   31., 3257.],\n",
              "       [ 153.,   31., 3214.]])"
            ]
          },
          "execution_count": 40,
          "metadata": {},
          "output_type": "execute_result"
        }
      ],
      "source": [
        "norm.inversa_transformacao()"
      ]
    },
    {
      "cell_type": "markdown",
      "metadata": {
        "id": "pUBYCHMz5kGO"
      },
      "source": [
        "### Encontrar raízes de funções\n",
        "\n",
        "Dada uma função $f$, o seguinte procedimento (método de Newton-Raphson) consegue encontrar aproximar zeros desta função:\n",
        "\n",
        "1. Inicialize $\\tilde{x}_0$ com um chute inicial e escolha uma tolerância $\\epsilon$;\n",
        "2. Compute: $$\\tilde{x}_{t} = \\tilde{x}_{t-1} - \\frac{f(\\tilde{x}_{t-1})}{f'(\\tilde{x}_{t-1})}$$\n",
        "3. Repita o passo 2 até que $f(\\tilde{x}_t) \\leq \\epsilon$.\n",
        "\n",
        "Implemente esse procedimento para $f(x) = x^2 - 2$, teste seu resultado computando $\\tilde{x} \\cdot \\tilde{x}$."
      ]
    },
    {
      "cell_type": "code",
      "execution_count": 41,
      "metadata": {
        "id": "fyb-EOMD5kGP",
        "tags": []
      },
      "outputs": [],
      "source": [
        "def metodo_new_raphson(f, derivada, init=1, epsilon=1e-3):\n",
        "    while True:\n",
        "        if abs(f(init)) < epsilon:\n",
        "            break\n",
        "        init = init - (f(init) / derivada(init))\n",
        "    return init"
      ]
    },
    {
      "cell_type": "code",
      "execution_count": 42,
      "metadata": {
        "colab": {
          "base_uri": "https://localhost:8080/"
        },
        "id": "nKgtQSQl_QKS",
        "outputId": "e269b89b-0646-4625-c278-421f09078b04"
      },
      "outputs": [
        {
          "data": {
            "text/plain": [
              "1.4142156862745099"
            ]
          },
          "execution_count": 42,
          "metadata": {},
          "output_type": "execute_result"
        }
      ],
      "source": [
        "f = lambda x: x**2 - 2\n",
        "derivada = lambda x: 2 * x\n",
        "metodo_new_raphson(f, derivada)"
      ]
    },
    {
      "cell_type": "code",
      "execution_count": 43,
      "metadata": {
        "colab": {
          "base_uri": "https://localhost:8080/"
        },
        "id": "FmiOeeYa_Up1",
        "outputId": "3c91bf39-5329-4dc4-b535-fa17184bdf19"
      },
      "outputs": [
        {
          "data": {
            "text/plain": [
              "6.007304882871267e-06"
            ]
          },
          "execution_count": 43,
          "metadata": {},
          "output_type": "execute_result"
        }
      ],
      "source": [
        "f(metodo_new_raphson(f, derivada))"
      ]
    },
    {
      "cell_type": "markdown",
      "metadata": {},
      "source": [
        "&nbsp;"
      ]
    },
    {
      "cell_type": "markdown",
      "metadata": {},
      "source": [
        "---------------"
      ]
    },
    {
      "cell_type": "markdown",
      "metadata": {},
      "source": [
        "### Definindo X e Y"
      ]
    },
    {
      "cell_type": "code",
      "execution_count": 44,
      "metadata": {},
      "outputs": [],
      "source": [
        "X = peixe_dataset[:, [0, 1]]\n",
        "y = peixe_dataset[:, 2]"
      ]
    },
    {
      "cell_type": "markdown",
      "metadata": {},
      "source": [
        "Normalizando dados"
      ]
    },
    {
      "cell_type": "code",
      "execution_count": 45,
      "metadata": {},
      "outputs": [],
      "source": [
        "norm = Normalizacao(X)\n",
        "X_normalizado = norm.transformacao()"
      ]
    },
    {
      "cell_type": "markdown",
      "metadata": {
        "id": "H_uKlCmQ5kGP"
      },
      "source": [
        "# Regressão linear via mínimos quadrados ordinários (OLS)\n",
        "\n",
        "Como visto na aula de regressão linear, dado o seguinte problema:\n",
        "$$\\begin{aligned}\n",
        "\\hat{\\boldsymbol{y}} = \\boldsymbol{X}\\boldsymbol{w}\\\\\n",
        "\\text{Queremos encontrar:}\\\\\n",
        "\\hat{\\boldsymbol{w}} = \\arg\\min_{\\boldsymbol{w}} ||\\boldsymbol{y} - \\boldsymbol{X}\\boldsymbol{w}||^2\n",
        "\\end{aligned}$$\n",
        "\n",
        "Como visto, sabemos que:\n",
        "$$\\hat{\\boldsymbol{w}} = (\\boldsymbol{X}^{\\top}\\boldsymbol{X})^{-1} \\boldsymbol{X}^{\\top}\\boldsymbol{y}$$\n",
        "\n",
        "Obtenha um modelo linear para predizer o comprimento de um peixe a partir de sua idade e da temperatura da água. Para isso, encontre o $\\hat{\\boldsymbol{w}}$ pro dataset `peixe` onde:\n",
        "$$\\boldsymbol{X} = [\\mathbf{1}^{\\top} \\;,\\; \\mathtt{peixe\\underline{}dataset[:,[0,1]}]\\\\\n",
        "\\boldsymbol{y} = \\mathtt{peixe\\underline{}dataset[:,[2]]}$$\n",
        "\n",
        "Sem utilizar estrutura de repetição alguma, calcule a raíz do erro quadrático médio:\n",
        "$$\\mathrm{RMSE} = \\sqrt{\\frac{1}{n}\\sum_i^n (\\boldsymbol{y} - \\hat{\\boldsymbol{y}})^2}$$"
      ]
    },
    {
      "cell_type": "code",
      "execution_count": null,
      "metadata": {
        "id": "9dWbkINe5kGP",
        "tags": []
      },
      "outputs": [],
      "source": [
        "class RegressaoLinearOLS:\n",
        "    def __init__(self, X, y):\n",
        "        self.X = X\n",
        "        self.y = y \n",
        "        self.coeficientes = None\n",
        "    \n",
        "    def ajusta(self):\n",
        "        # Adiciona uma coluna de 1s para o termo de interceptor\n",
        "        X_ = np.c_[np.ones((self.X.shape[0], 1)), self.X]\n",
        "        \n",
        "        # Cálculo dos coeficientes usando a fórmula dos mínimos quadrados\n",
        "        self.coeficientes = np.linalg.inv(X_.T @ X_) @ X_.T @ self.y\n",
        "        \n",
        "        return self\n",
        "    def predic(self, X):\n",
        "        X_ =\n",
        "        return X @ self.coeficientes"
      ]
    },
    {
      "cell_type": "code",
      "execution_count": 47,
      "metadata": {},
      "outputs": [],
      "source": [
        "def RMSE(ytrue, pred):\n",
        "    return np.sqrt(np.mean((ytrue - pred) ** 2))"
      ]
    },
    {
      "cell_type": "markdown",
      "metadata": {
        "id": "WTuX1HYu5kGQ"
      },
      "source": [
        "# Regressão linear via gradiente descendente (GD)\n",
        "\n",
        "Sendo $\\alpha$ um passo de aprendizagem, $N$ o número de observações disponíveis e $t$ a iteração atual do algoritmo, os parâmetros $\\boldsymbol{w}$ podem ser atualizados via algoritmo GD:\n",
        "\n",
        "$$\\boldsymbol{w}(t) = \\boldsymbol{w}(t-1) + \\alpha \\frac{1}{N}\\sum_{i=1}^{N} e_i(t-1) \\boldsymbol{x}_i,$$\n",
        "$$\\text{em que } e_i(t-1) = y_i - \\boldsymbol{w}^{\\top}(t-1)\\boldsymbol{x}_i$$\n",
        "\n",
        "Normalize os dados retirando a média e dividindo pelo desvio padrão (entrada e saída). Na predição, desfaça a normalização para computar o RMSE."
      ]
    },
    {
      "cell_type": "code",
      "execution_count": 48,
      "metadata": {
        "id": "gOURJNgl5kGQ"
      },
      "outputs": [],
      "source": [
        "class RegressaoLinearGD:\n",
        "    def __init__(self, X, y, learning_rate=0.01, epochs=1_00):\n",
        "        self.X = X\n",
        "        self.y = y\n",
        "        self.learning_rate = learning_rate\n",
        "        self.epochs = epochs\n",
        "    \n",
        "    def ajusta(self):\n",
        "        # Adicionando a coluna interceptor\n",
        "        X_ = np.c_[np.ones((self.X.shape[0], 1)), self.X]\n",
        "        X_ = X_.astype(np.float32)\n",
        "\n",
        "        # Inicializa os coeficientes aleatoriamente\n",
        "        self.coeficientes = np.random.randn(X_.shape[1])\n",
        "        self.interceptor = np.array([0.0], dtype=np.float32)\n",
        "\n",
        "        for i in range(self.epochs):\n",
        "            y_pred = self.predict(self.X)\n",
        "        \n",
        "            self.coeficientes = self.coeficientes + self.learning_rate * np.mean((self.y - y_pred) * X_, axis=0)\n",
        "            self.interceptor  = self.interceptor + self.learning_rate * np.mean(self.y - y_pred)\n",
        "        return self\n",
        "    \n",
        "    def predict(self, X):\n",
        "        return X @ self.coeficientes"
      ]
    },
    {
      "cell_type": "markdown",
      "metadata": {
        "id": "qk1Efmen5kGQ"
      },
      "source": [
        "# Regressão linear via gradiente descendente estocástico (SGD)\n",
        "\n",
        "Sendo $\\alpha$ um passo de aprendizagem, $N$ o número de observações disponíveis e $t$ a iteração atual do algoritmo, os parâmetros $\\boldsymbol{w}$ podem ser atualizados via algoritmo SGD:\n",
        "\n",
        "$$\\boldsymbol{w}(t) = \\boldsymbol{w}(t-1) + \\alpha e_i(t-1) \\boldsymbol{x}_i,$$\n",
        "$$\\text{em que } e_i(t-1) = y_i - \\boldsymbol{w}^{\\top}(t-1)\\boldsymbol{x}_i$$\n",
        "\n",
        "Normalize os dados retirando a média e dividindo pelo desvio padrão (entrada e saída). Na predição, desfaça a normalização para computar o RMSE."
      ]
    },
    {
      "cell_type": "code",
      "execution_count": 49,
      "metadata": {
        "id": "mpRc9QS85kGQ"
      },
      "outputs": [],
      "source": [
        "class RegressaoLinearSGD:\n",
        "    def __init__(self, X, y, learning_rate=0.01, epochs=1_00):\n",
        "        self.X = X\n",
        "        self.y = y\n",
        "        self.learning_rate = learning_rate\n",
        "        self.epochs = epochs\n",
        "    \n",
        "    def ajusta(self):\n",
        "        # Inicializa os coeficientes aleatoriamente\n",
        "        self.coeficientes = np.random.randn(X.shape[1])\n",
        "        self.interceptor = np.array([0.0], dtype=np.float32)\n",
        "        \n",
        "        # Criando um array de índices para embaralhar os dados\n",
        "        index = np.arange(self.X.shape[0])\n",
        "        for i in range(self.epochs):\n",
        "            index_random = np.random.permutation(index) \n",
        "            for i in index_random:\n",
        "                xi = self.X[i, :].reshape(1, -1)\n",
        "                yi = self.y[i].reshape(1, -1)\n",
        "\n",
        "                y_pred = self.predict(xi)\n",
        "        \n",
        "                self.coeficientes = self.coeficientes + self.learning_rate * (yi - y_pred) * xi\n",
        "\n",
        "                self.interceptor  = self.interceptor + self.learning_rate * (yi - y_pred)\n",
        "        return self\n",
        "    \n",
        "    def predict(self, X):\n",
        "        return np.dot(X, self.coeficientes.T) + self.interceptor"
      ]
    },
    {
      "cell_type": "code",
      "execution_count": 50,
      "metadata": {},
      "outputs": [
        {
          "data": {
            "text/plain": [
              "<__main__.RegressaoLinearSGD at 0x266d4c7a090>"
            ]
          },
          "execution_count": 50,
          "metadata": {},
          "output_type": "execute_result"
        }
      ],
      "source": [
        "SGB = RegressaoLinearSGD(X_normalizado, y, learning_rate=0.01, epochs=1000)\n",
        "SGB.ajusta()"
      ]
    },
    {
      "cell_type": "code",
      "execution_count": 51,
      "metadata": {},
      "outputs": [
        {
          "data": {
            "text/plain": [
              "0.8056005629978332"
            ]
          },
          "execution_count": 51,
          "metadata": {},
          "output_type": "execute_result"
        }
      ],
      "source": [
        "from sklearn.metrics import r2_score\n",
        "r2_score(y, SGB.predict(X_normalizado))"
      ]
    },
    {
      "cell_type": "code",
      "execution_count": 52,
      "metadata": {},
      "outputs": [
        {
          "data": {
            "text/plain": [
              "np.float64(1768.9863769084948)"
            ]
          },
          "execution_count": 52,
          "metadata": {},
          "output_type": "execute_result"
        }
      ],
      "source": [
        "ypred = SGB.predict(X_normalizado)\n",
        "RMSE(y, ypred)"
      ]
    },
    {
      "cell_type": "code",
      "execution_count": 54,
      "metadata": {},
      "outputs": [
        {
          "ename": "ValueError",
          "evalue": "matmul: Input operand 1 has a mismatch in its core dimension 0, with gufunc signature (n?,k),(k,m?)->(n?,m?) (size 3 is different from 2)",
          "output_type": "error",
          "traceback": [
            "\u001b[31m---------------------------------------------------------------------------\u001b[39m",
            "\u001b[31mValueError\u001b[39m                                Traceback (most recent call last)",
            "\u001b[36mCell\u001b[39m\u001b[36m \u001b[39m\u001b[32mIn[54]\u001b[39m\u001b[32m, line 2\u001b[39m\n\u001b[32m      1\u001b[39m ols = RegressaoLinearOLS(X_normalizado, y).ajusta()\n\u001b[32m----> \u001b[39m\u001b[32m2\u001b[39m ypred = \u001b[43mols\u001b[49m\u001b[43m.\u001b[49m\u001b[43mpredict\u001b[49m\u001b[43m(\u001b[49m\u001b[43mX_normalizado\u001b[49m\u001b[43m)\u001b[49m\n\u001b[32m      3\u001b[39m RMSE(y, ypred)\n",
            "\u001b[36mCell\u001b[39m\u001b[36m \u001b[39m\u001b[32mIn[46]\u001b[39m\u001b[32m, line 16\u001b[39m, in \u001b[36mRegressaoLinearOLS.predict\u001b[39m\u001b[34m(self, X)\u001b[39m\n\u001b[32m     15\u001b[39m \u001b[38;5;28;01mdef\u001b[39;00m\u001b[38;5;250m \u001b[39m\u001b[34mpredict\u001b[39m(\u001b[38;5;28mself\u001b[39m, X):\n\u001b[32m---> \u001b[39m\u001b[32m16\u001b[39m     \u001b[38;5;28;01mreturn\u001b[39;00m \u001b[43mX\u001b[49m\u001b[43m \u001b[49m\u001b[43m@\u001b[49m\u001b[43m \u001b[49m\u001b[38;5;28;43mself\u001b[39;49m\u001b[43m.\u001b[49m\u001b[43mcoeficientes\u001b[49m\n",
            "\u001b[31mValueError\u001b[39m: matmul: Input operand 1 has a mismatch in its core dimension 0, with gufunc signature (n?,k),(k,m?)->(n?,m?) (size 3 is different from 2)"
          ]
        }
      ],
      "source": [
        "ols = RegressaoLinearOLS(X_normalizado, y).ajusta()\n",
        "ypred = ols.predict(X_normalizado)\n",
        "RMSE(y, ypred)"
      ]
    }
  ],
  "metadata": {
    "colab": {
      "provenance": [],
      "toc_visible": true
    },
    "kernelspec": {
      "display_name": "venv",
      "language": "python",
      "name": "python3"
    },
    "language_info": {
      "codemirror_mode": {
        "name": "ipython",
        "version": 3
      },
      "file_extension": ".py",
      "mimetype": "text/x-python",
      "name": "python",
      "nbconvert_exporter": "python",
      "pygments_lexer": "ipython3",
      "version": "3.12.10"
    },
    "varInspector": {
      "cols": {
        "lenName": 16,
        "lenType": 16,
        "lenVar": 40
      },
      "kernels_config": {
        "python": {
          "delete_cmd_postfix": "",
          "delete_cmd_prefix": "del ",
          "library": "var_list.py",
          "varRefreshCmd": "print(var_dic_list())"
        },
        "r": {
          "delete_cmd_postfix": ") ",
          "delete_cmd_prefix": "rm(",
          "library": "var_list.r",
          "varRefreshCmd": "cat(var_dic_list()) "
        }
      },
      "types_to_exclude": [
        "module",
        "function",
        "builtin_function_or_method",
        "instance",
        "_Feature"
      ],
      "window_display": false
    }
  },
  "nbformat": 4,
  "nbformat_minor": 0
}
