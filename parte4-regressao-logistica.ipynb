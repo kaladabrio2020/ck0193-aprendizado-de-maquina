{
 "cells": [
  {
   "cell_type": "markdown",
   "id": "dc21d370",
   "metadata": {},
   "source": [
    "## Regressão Logistica"
   ]
  },
  {
   "cell_type": "code",
   "execution_count": 2,
   "id": "de1ed33a",
   "metadata": {
    "ExecuteTime": {
     "end_time": "2025-10-12T13:02:26.575158Z",
     "start_time": "2025-10-12T13:02:26.565381Z"
    }
   },
   "outputs": [],
   "source": [
    "import keras \n",
    "import pandas as pd\n",
    "import tensorflow as tf \n",
    "import seaborn as sea\n",
    "import matplotlib.pyplot as plt\n",
    "from pyprind.progbar import ProgBar"
   ]
  },
  {
   "cell_type": "code",
   "execution_count": 3,
   "id": "ea19c1aa",
   "metadata": {
    "ExecuteTime": {
     "end_time": "2025-10-12T13:02:26.676216Z",
     "start_time": "2025-10-12T13:02:26.661449Z"
    }
   },
   "outputs": [],
   "source": [
    "class modelo(tf.Module):\n",
    "    def __init__(self, name=None, n_features=1, seed=42):\n",
    "        super().__init__(name)\n",
    "\n",
    "        # Inicializando peso aleatóriamente\n",
    "        tf.random.set_seed(seed=seed)\n",
    "\n",
    "\n",
    "        rnd = tf.random.normal(shape=[1, n_features], dtype=tf.float32)\n",
    "    \n",
    "        ## Adicionando uma coluna de 1 = interceptor    \n",
    "        params = tf.concat([\n",
    "            tf.ones_like(rnd[:, 0:1]),\n",
    "            rnd\n",
    "        ], axis=1)\n",
    "        \n",
    "        self.params = tf.Variable(initial_value=params, name='params', dtype=tf.float32)\n",
    "\n",
    "        \n",
    "    def __call__(self, X):\n",
    "        X_ = tf.concat([tf.ones_like(X[:, 0:1]), X], axis=1)\n",
    "        return tf.matmul(X_, self.params, transpose_b=True)\n",
    "\n",
    "    def summary(self):\n",
    "        print(f'Params: {self.params.numpy().tolist()}')"
   ]
  },
  {
   "cell_type": "markdown",
   "id": "791284be",
   "metadata": {},
   "source": [
    "### Classificação\n",
    "\n",
    "1. **Classificação Binária :** Somente duas classes\n",
    "2. **Classificação Multiclasse :** Mais de duas classes "
   ]
  },
  {
   "cell_type": "code",
   "execution_count": 4,
   "id": "25eefe38",
   "metadata": {
    "ExecuteTime": {
     "end_time": "2025-10-12T13:02:26.777865Z",
     "start_time": "2025-10-12T13:02:26.713215Z"
    }
   },
   "outputs": [
    {
     "data": {
      "text/html": [
       "<div>\n",
       "<style scoped>\n",
       "    .dataframe tbody tr th:only-of-type {\n",
       "        vertical-align: middle;\n",
       "    }\n",
       "\n",
       "    .dataframe tbody tr th {\n",
       "        vertical-align: top;\n",
       "    }\n",
       "\n",
       "    .dataframe thead th {\n",
       "        text-align: right;\n",
       "    }\n",
       "</style>\n",
       "<table border=\"1\" class=\"dataframe\">\n",
       "  <thead>\n",
       "    <tr style=\"text-align: right;\">\n",
       "      <th></th>\n",
       "      <th>Id</th>\n",
       "      <th>SepalLengthCm</th>\n",
       "      <th>SepalWidthCm</th>\n",
       "      <th>PetalLengthCm</th>\n",
       "      <th>PetalWidthCm</th>\n",
       "      <th>Species</th>\n",
       "    </tr>\n",
       "  </thead>\n",
       "  <tbody>\n",
       "    <tr>\n",
       "      <th>0</th>\n",
       "      <td>1</td>\n",
       "      <td>5.1</td>\n",
       "      <td>3.5</td>\n",
       "      <td>1.4</td>\n",
       "      <td>0.2</td>\n",
       "      <td>Iris-setosa</td>\n",
       "    </tr>\n",
       "    <tr>\n",
       "      <th>1</th>\n",
       "      <td>2</td>\n",
       "      <td>4.9</td>\n",
       "      <td>3.0</td>\n",
       "      <td>1.4</td>\n",
       "      <td>0.2</td>\n",
       "      <td>Iris-setosa</td>\n",
       "    </tr>\n",
       "    <tr>\n",
       "      <th>2</th>\n",
       "      <td>3</td>\n",
       "      <td>4.7</td>\n",
       "      <td>3.2</td>\n",
       "      <td>1.3</td>\n",
       "      <td>0.2</td>\n",
       "      <td>Iris-setosa</td>\n",
       "    </tr>\n",
       "    <tr>\n",
       "      <th>3</th>\n",
       "      <td>4</td>\n",
       "      <td>4.6</td>\n",
       "      <td>3.1</td>\n",
       "      <td>1.5</td>\n",
       "      <td>0.2</td>\n",
       "      <td>Iris-setosa</td>\n",
       "    </tr>\n",
       "    <tr>\n",
       "      <th>4</th>\n",
       "      <td>5</td>\n",
       "      <td>5.0</td>\n",
       "      <td>3.6</td>\n",
       "      <td>1.4</td>\n",
       "      <td>0.2</td>\n",
       "      <td>Iris-setosa</td>\n",
       "    </tr>\n",
       "  </tbody>\n",
       "</table>\n",
       "</div>"
      ],
      "text/plain": [
       "   Id  SepalLengthCm  SepalWidthCm  PetalLengthCm  PetalWidthCm      Species\n",
       "0   1            5.1           3.5            1.4           0.2  Iris-setosa\n",
       "1   2            4.9           3.0            1.4           0.2  Iris-setosa\n",
       "2   3            4.7           3.2            1.3           0.2  Iris-setosa\n",
       "3   4            4.6           3.1            1.5           0.2  Iris-setosa\n",
       "4   5            5.0           3.6            1.4           0.2  Iris-setosa"
      ]
     },
     "execution_count": null,
     "metadata": {},
     "output_type": "execute_result"
    }
   ],
   "source": [
    "iris = pd.read_csv('datasets/Iris.csv')\n",
    "iris.head()"
   ]
  },
  {
   "cell_type": "code",
   "execution_count": 5,
   "id": "3c11ad5b",
   "metadata": {
    "ExecuteTime": {
     "end_time": "2025-10-12T13:02:26.907391Z",
     "start_time": "2025-10-12T13:02:26.885145Z"
    }
   },
   "outputs": [],
   "source": [
    "iris.drop(columns=['Id'], inplace=True)"
   ]
  },
  {
   "cell_type": "markdown",
   "id": "816c35ff",
   "metadata": {},
   "source": [
    "### Classificação Binária"
   ]
  },
  {
   "cell_type": "code",
   "execution_count": 6,
   "id": "b70d3dae",
   "metadata": {
    "ExecuteTime": {
     "end_time": "2025-10-12T13:02:26.947058Z",
     "start_time": "2025-10-12T13:02:26.931167Z"
    }
   },
   "outputs": [],
   "source": [
    "iris['class'] = iris['Species'].map({'Iris-setosa': 0, 'Iris-versicolor': 1, 'Iris-virginica': 2})"
   ]
  },
  {
   "cell_type": "code",
   "execution_count": 7,
   "id": "54caa34d",
   "metadata": {
    "ExecuteTime": {
     "end_time": "2025-10-12T13:02:27.017265Z",
     "start_time": "2025-10-12T13:02:26.982512Z"
    }
   },
   "outputs": [
    {
     "data": {
      "text/html": [
       "<div>\n",
       "<style scoped>\n",
       "    .dataframe tbody tr th:only-of-type {\n",
       "        vertical-align: middle;\n",
       "    }\n",
       "\n",
       "    .dataframe tbody tr th {\n",
       "        vertical-align: top;\n",
       "    }\n",
       "\n",
       "    .dataframe thead th {\n",
       "        text-align: right;\n",
       "    }\n",
       "</style>\n",
       "<table border=\"1\" class=\"dataframe\">\n",
       "  <thead>\n",
       "    <tr style=\"text-align: right;\">\n",
       "      <th></th>\n",
       "      <th>SepalLengthCm</th>\n",
       "      <th>SepalWidthCm</th>\n",
       "      <th>Species</th>\n",
       "      <th>class</th>\n",
       "    </tr>\n",
       "  </thead>\n",
       "  <tbody>\n",
       "    <tr>\n",
       "      <th>0</th>\n",
       "      <td>5.1</td>\n",
       "      <td>3.5</td>\n",
       "      <td>Iris-setosa</td>\n",
       "      <td>0</td>\n",
       "    </tr>\n",
       "    <tr>\n",
       "      <th>1</th>\n",
       "      <td>4.9</td>\n",
       "      <td>3.0</td>\n",
       "      <td>Iris-setosa</td>\n",
       "      <td>0</td>\n",
       "    </tr>\n",
       "    <tr>\n",
       "      <th>2</th>\n",
       "      <td>4.7</td>\n",
       "      <td>3.2</td>\n",
       "      <td>Iris-setosa</td>\n",
       "      <td>0</td>\n",
       "    </tr>\n",
       "    <tr>\n",
       "      <th>3</th>\n",
       "      <td>4.6</td>\n",
       "      <td>3.1</td>\n",
       "      <td>Iris-setosa</td>\n",
       "      <td>0</td>\n",
       "    </tr>\n",
       "    <tr>\n",
       "      <th>4</th>\n",
       "      <td>5.0</td>\n",
       "      <td>3.6</td>\n",
       "      <td>Iris-setosa</td>\n",
       "      <td>0</td>\n",
       "    </tr>\n",
       "  </tbody>\n",
       "</table>\n",
       "</div>"
      ],
      "text/plain": [
       "   SepalLengthCm  SepalWidthCm      Species  class\n",
       "0            5.1           3.5  Iris-setosa      0\n",
       "1            4.9           3.0  Iris-setosa      0\n",
       "2            4.7           3.2  Iris-setosa      0\n",
       "3            4.6           3.1  Iris-setosa      0\n",
       "4            5.0           3.6  Iris-setosa      0"
      ]
     },
     "execution_count": null,
     "metadata": {},
     "output_type": "execute_result"
    }
   ],
   "source": [
    "subset = iris.loc[iris['class'].isin([0, 1])].iloc[:,[0, 1, 4, 5]]\n",
    "subset.head()"
   ]
  },
  {
   "cell_type": "code",
   "execution_count": 8,
   "id": "808f73ec",
   "metadata": {
    "ExecuteTime": {
     "end_time": "2025-10-12T13:02:27.623572Z",
     "start_time": "2025-10-12T13:02:27.148459Z"
    }
   },
   "outputs": [
    {
     "data": {
      "image/png": "[encoded data removed]",
      "text/plain": [
       "<Figure size 640x480 with 1 Axes>"
      ]
     },
     "metadata": {},
     "output_type": "display_data"
    }
   ],
   "source": [
    "sea.scatterplot(x='SepalLengthCm', y='SepalWidthCm', hue='Species', data=subset)\n",
    "plt.show()"
   ]
  },
  {
   "cell_type": "markdown",
   "id": "44870a4b",
   "metadata": {},
   "source": [
    "Função Sigmoid\n",
    "\n",
    "$$\\sigma(z) = \\frac{1}{1+exp(-z)}$$"
   ]
  },
  {
   "cell_type": "code",
   "execution_count": 9,
   "id": "ebb9f167",
   "metadata": {
    "ExecuteTime": {
     "end_time": "2025-10-12T13:02:27.723671Z",
     "start_time": "2025-10-12T13:02:27.712422Z"
    }
   },
   "outputs": [],
   "source": [
    "def sigmoid(z):\n",
    "    return 1 / (1 + tf.exp(-z))"
   ]
  },
  {
   "cell_type": "code",
   "execution_count": 10,
   "id": "8e2ffe9b",
   "metadata": {
    "ExecuteTime": {
     "end_time": "2025-10-12T13:02:28.530246Z",
     "start_time": "2025-10-12T13:02:27.758612Z"
    }
   },
   "outputs": [
    {
     "data": {
      "image/png": "[encoded data removed]",
      "text/plain": [
       "<Figure size 640x480 with 1 Axes>"
      ]
     },
     "metadata": {},
     "output_type": "display_data"
    }
   ],
   "source": [
    "plt.plot(sigmoid(tf.linspace(-10, 10, 100)))\n",
    "plt.show()"
   ]
  },
  {
   "cell_type": "markdown",
   "id": "dc4d56d2",
   "metadata": {},
   "source": [
    "`gradiente`"
   ]
  },
  {
   "cell_type": "code",
   "execution_count": 11,
   "id": "eb68ca1d",
   "metadata": {
    "ExecuteTime": {
     "end_time": "2025-10-12T13:02:28.614637Z",
     "start_time": "2025-10-12T13:02:28.596745Z"
    }
   },
   "outputs": [],
   "source": [
    "def gradiente(x, y, name_model='modelo', epochs=1000, lr=0.01):\n",
    "    model = modelo(name=name_model, n_features=x.shape[1])\n",
    "    N = x.shape[0]\n",
    "    \n",
    "    x  = tf.Variable(x, dtype=tf.float32)\n",
    "    #\n",
    "    x_ = tf.concat([tf.ones_like(x[:, 0:1]), x], axis=1)\n",
    "    y  = tf.Variable(y, dtype=tf.float32)\n",
    "\n",
    "    progbar = ProgBar(epochs, title='Treinando modelo', stream=1)\n",
    "    for epoch in range(epochs):\n",
    "        pred = tf.matmul(x_, model.params, transpose_b=True)\n",
    "\n",
    "        pred = sigmoid(pred)\n",
    "\n",
    "        grad = lr * (1/N) * tf.matmul(x_, y - pred, transpose_a=True)\n",
    "\n",
    "        grad = tf.reshape(grad, [1, -1])\n",
    "\n",
    "        model.params.assign_add(grad)\n",
    "\n",
    "        # Printa em epocas\n",
    "        progbar.update(1, item_id=f'Epochs : {epoch}')\n",
    "    return model"
   ]
  },
  {
   "cell_type": "code",
   "execution_count": 12,
   "id": "2740fa31",
   "metadata": {
    "ExecuteTime": {
     "end_time": "2025-10-12T13:02:28.649695Z",
     "start_time": "2025-10-12T13:02:28.638088Z"
    }
   },
   "outputs": [],
   "source": [
    "X =  iris[iris['class'].isin([0, 1])][['SepalLengthCm', 'SepalWidthCm']].values.astype('float32')\n",
    "y =  iris[iris['class'].isin([0, 1])]['class'].values.reshape(-1, 1).astype('float32')"
   ]
  },
  {
   "cell_type": "code",
   "execution_count": 13,
   "id": "c30074da",
   "metadata": {},
   "outputs": [],
   "source": [
    "X = (X - X.mean(axis=0))/X.std(axis=0)"
   ]
  },
  {
   "cell_type": "code",
   "execution_count": 14,
   "id": "ec61c555",
   "metadata": {
    "ExecuteTime": {
     "end_time": "2025-10-12T13:02:32.477650Z",
     "start_time": "2025-10-12T13:02:28.676802Z"
    }
   },
   "outputs": [
    {
     "name": "stdout",
     "output_type": "stream",
     "text": [
      "Treinando modelo\n",
      "0% [##############################] 100% | ETA: 00:00:00 | Item ID: Epochs : 999\n",
      "Total time elapsed: 00:00:01\n"
     ]
    }
   ],
   "source": [
    "model_result = gradiente(x=X, y=y, name_model='logistic', epochs=1000, lr=0.01)"
   ]
  },
  {
   "cell_type": "code",
   "execution_count": 15,
   "id": "520715f98c847d06",
   "metadata": {
    "ExecuteTime": {
     "end_time": "2025-10-12T13:02:32.538923Z",
     "start_time": "2025-10-12T13:02:32.511064Z"
    }
   },
   "outputs": [],
   "source": [
    "def plot_fronteira_decisao(model, x, y):\n",
    "    import  numpy as np\n",
    "    # Garante que x e y sejam arrays numpy\n",
    "    x = x\n",
    "    y = y.ravel()\n",
    "\n",
    "    # Gera uma grade de pontos\n",
    "    x_min, x_max = x[:, 0].min() - 1, x[:, 0].max() + 1\n",
    "    y_min, y_max = x[:, 1].min() - 1, x[:, 1].max() + 1\n",
    "    xx, yy = np.meshgrid(np.linspace(x_min, x_max, 200),\n",
    "                         np.linspace(y_min, y_max, 200))\n",
    "\n",
    "    # Cria o grid de entrada (com o bias = 1)\n",
    "    grid = np.c_[np.ones((xx.ravel().shape[0], 1)),\n",
    "                 xx.ravel(), yy.ravel()]\n",
    "\n",
    "    # Calcula a predição\n",
    "    params = model.params.numpy()  # converte os pesos do modelo para numpy\n",
    "    pred = tf.sigmoid(tf.matmul(grid, params, transpose_b=True))\n",
    "    Z = np.where(pred.numpy() >= 0.5, 1, 0)\n",
    "    Z = Z.reshape(xx.shape)\n",
    "\n",
    "    # Faz o plot\n",
    "    plt.figure(figsize=(8, 6))\n",
    "    plt.contourf(xx, yy, Z, alpha=0.3, cmap='RdYlBu')\n",
    "    plt.scatter(x[:, 0], x[:, 1], c=y, cmap='bwr', edgecolors='k')\n",
    "    plt.title('Fronteira de decisão')\n",
    "    plt.xlabel('Feature 1')\n",
    "    plt.ylabel('Feature 2')\n",
    "    plt.show()"
   ]
  },
  {
   "cell_type": "code",
   "execution_count": 16,
   "id": "610a951d142cdb76",
   "metadata": {
    "ExecuteTime": {
     "end_time": "2025-10-12T13:02:38.144182Z",
     "start_time": "2025-10-12T13:02:32.571817Z"
    }
   },
   "outputs": [
    {
     "name": "stdout",
     "output_type": "stream",
     "text": [
      "Treinando modelo\n",
      "0% [##############################] 100% | ETA: 00:00:00 | Item ID: Epochs : 999\n",
      "Total time elapsed: 00:00:01\n"
     ]
    },
    {
     "data": {
      "image/png": "[encoded data removed]",
      "text/plain": [
       "<Figure size 800x600 with 1 Axes>"
      ]
     },
     "metadata": {},
     "output_type": "display_data"
    }
   ],
   "source": [
    "modelo_treinado = gradiente(X, y, epochs=1000, lr=0.01)\n",
    "plot_fronteira_decisao(modelo_treinado, X, y)"
   ]
  },
  {
   "cell_type": "code",
   "execution_count": 17,
   "id": "15b57d23",
   "metadata": {},
   "outputs": [],
   "source": [
    "pred = (sigmoid(model_result(X)) >= 0.5).numpy().astype(int)"
   ]
  },
  {
   "cell_type": "code",
   "execution_count": 18,
   "id": "4316a27f40338d27",
   "metadata": {
    "ExecuteTime": {
     "end_time": "2025-10-12T13:02:38.254754Z",
     "start_time": "2025-10-12T13:02:38.243807Z"
    }
   },
   "outputs": [
    {
     "name": "stdout",
     "output_type": "stream",
     "text": [
      "              precision    recall  f1-score   support\n",
      "\n",
      "         0.0       1.00      0.98      0.99        50\n",
      "         1.0       0.98      1.00      0.99        50\n",
      "\n",
      "    accuracy                           0.99       100\n",
      "   macro avg       0.99      0.99      0.99       100\n",
      "weighted avg       0.99      0.99      0.99       100\n",
      "\n"
     ]
    }
   ],
   "source": [
    "from sklearn.metrics import classification_report\n",
    "\n",
    "print(classification_report(y,pred))"
   ]
  },
  {
   "cell_type": "markdown",
   "id": "b8da99a2",
   "metadata": {},
   "source": [
    "`Gradiente estocastico`"
   ]
  },
  {
   "cell_type": "code",
   "execution_count": 19,
   "id": "c269a793",
   "metadata": {},
   "outputs": [],
   "source": [
    "def gradiente_estocatisco(x, y, name_model='modelo', epochs=1000, lr=0.01):\n",
    "    model = modelo(name=name_model, n_features=x.shape[1])\n",
    "    N = x.shape[0]\n",
    "    \n",
    "    x  = tf.Variable(x, dtype=tf.float32)\n",
    "    #\n",
    "    x_ = tf.concat([tf.ones_like(x[:, 0:1]), x], axis=1)\n",
    "    y  = tf.Variable(y, dtype=tf.float32)\n",
    "\n",
    "    index = tf.range(start=0, limit=x.shape[1], dtype=tf.int32, name='indices')\n",
    "\n",
    "    progbar = ProgBar(epochs, title='Treinando modelo', stream=1)\n",
    "    for epoch in range(epochs):\n",
    "        embaralhar = tf.random.shuffle(index)\n",
    "\n",
    "        for idx in embaralhar:\n",
    "            xi = x_[idx, :]\n",
    "            yi = y[idx]\n",
    "\n",
    "            pred = tf.matmul(xi, model.params, transpose_b=True)\n",
    "\n",
    "            pred = sigmoid(pred)\n",
    "\n",
    "            grad = lr * (1/N) * tf.matmul(xi, yi - pred, transpose_a=True)\n",
    "\n",
    "            grad = tf.reshape(grad, [1, -1])\n",
    "\n",
    "            model.params.assign_add(grad)\n",
    "\n",
    "            # Printa em epocas\n",
    "        progbar.update(1, item_id=f'Epochs : {epoch}')\n",
    "    return model"
   ]
  },
  {
   "cell_type": "code",
   "execution_count": null,
   "id": "468493c1",
   "metadata": {},
   "outputs": [],
   "source": [
    "model = gradiente_estocatisco(X, y, name_model='sgd')"
   ]
  },
  {
   "cell_type": "code",
   "execution_count": null,
   "id": "b702db5b",
   "metadata": {},
   "outputs": [
    {
     "name": "stdout",
     "output_type": "stream",
     "text": [
      "Params: [[0.2951146960258484, 1.6599935293197632, -1.646945595741272]]\n"
     ]
    }
   ],
   "source": [
    "model.summary()"
   ]
  },
  {
   "cell_type": "code",
   "execution_count": null,
   "id": "ecbc1149",
   "metadata": {},
   "outputs": [],
   "source": [
    "pred = ( sigmoid(model(X)) >= .5).numpy().astype(int)"
   ]
  },
  {
   "cell_type": "code",
   "execution_count": null,
   "id": "4572a392",
   "metadata": {},
   "outputs": [
    {
     "name": "stdout",
     "output_type": "stream",
     "text": [
      "              precision    recall  f1-score   support\n",
      "\n",
      "         0.0       1.00      0.98      0.99        50\n",
      "         1.0       0.98      1.00      0.99        50\n",
      "\n",
      "    accuracy                           0.99       100\n",
      "   macro avg       0.99      0.99      0.99       100\n",
      "weighted avg       0.99      0.99      0.99       100\n",
      "\n"
     ]
    }
   ],
   "source": [
    "from sklearn.metrics import classification_report\n",
    "\n",
    "print(classification_report(y,pred))"
   ]
  },
  {
   "cell_type": "code",
   "execution_count": null,
   "id": "c5654159",
   "metadata": {},
   "outputs": [],
   "source": []
  }
 ],
 "metadata": {
  "kernelspec": {
   "display_name": ".venv",
   "language": "python",
   "name": "python3"
  },
  "language_info": {
   "name": "python"
  }
 },
 "nbformat": 4,
 "nbformat_minor": 5
}
