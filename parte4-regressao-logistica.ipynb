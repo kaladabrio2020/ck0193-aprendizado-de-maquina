{
 "cells": [
  {
   "cell_type": "markdown",
   "id": "dc21d370",
   "metadata": {},
   "source": [
    "## Regressão Logistica"
   ]
  },
  {
   "cell_type": "code",
   "execution_count": null,
   "id": "de1ed33a",
   "metadata": {},
   "outputs": [
    {
     "ename": "",
     "evalue": "",
     "output_type": "error",
     "traceback": [
      "\u001b[1;31mThe kernel failed to start as the Python Environment 'Python 3.12.10' is no longer available. Consider selecting another kernel or refreshing the list of Python Environments."
     ]
    }
   ],
   "source": [
    "import keras \n",
    "import pandas as pd\n",
    "import tensorflow as tf \n",
    "import seaborn as sea\n",
    "import matplotlib.pyplot as plt\n",
    "from  pyprind.progbar import ProgBar"
   ]
  },
  {
   "cell_type": "code",
   "execution_count": null,
   "id": "8d80133e",
   "metadata": {},
   "outputs": [],
   "source": [
    "class modelo(tf.Module):\n",
    "    def __init__(self, name=None, n_features=1, seed=42):\n",
    "        super().__init__(name)\n",
    "\n",
    "        # Inicializando peso aleatóriamente\n",
    "        tf.random.set_seed(seed=seed)\n",
    "\n",
    "\n",
    "        rnd = tf.random.normal(shape=[1, n_features], dtype=tf.float32)\n",
    "    \n",
    "        ## Adicionando uma coluna de 1 = interceptor    \n",
    "        params = tf.concat([\n",
    "            tf.ones_like(rnd[:, 0:1]),\n",
    "            rnd\n",
    "        ], axis=1)\n",
    "        \n",
    "        self.params = tf.Variable(initial_value=params, name='params', dtype=tf.float32)\n",
    "\n",
    "        \n",
    "    def __call__(self, X):\n",
    "        X_ = tf.concat([tf.ones_like(X[:, 0:1]), X], axis=1)\n",
    "        return tf.matmul(X_, self.params, transpose_b=True)\n",
    "\n",
    "    def summary(self):\n",
    "        print(f'Params: {self.params.numpy().tolist()}')"
   ]
  },
  {
   "cell_type": "markdown",
   "id": "791284be",
   "metadata": {},
   "source": [
    "### Classificação\n",
    "\n",
    "1. **Classificação Binária :** Somente duas classes\n",
    "2. **Classificação Multiclasse :** Mais de duas classes "
   ]
  },
  {
   "cell_type": "code",
   "execution_count": null,
   "id": "25eefe38",
   "metadata": {},
   "outputs": [],
   "source": [
    "iris = pd.read_csv('datasets/Iris.csv')\n",
    "iris.head()"
   ]
  },
  {
   "cell_type": "code",
   "execution_count": null,
   "id": "3c11ad5b",
   "metadata": {},
   "outputs": [],
   "source": [
    "iris.drop(columns=['Id'], inplace=True)"
   ]
  },
  {
   "cell_type": "markdown",
   "id": "816c35ff",
   "metadata": {},
   "source": [
    "### Classificação Binária"
   ]
  },
  {
   "cell_type": "code",
   "execution_count": null,
   "id": "b70d3dae",
   "metadata": {},
   "outputs": [],
   "source": [
    "iris['class'] = iris['Species'].map({'Iris-setosa': 0, 'Iris-versicolor': 1, 'Iris-virginica': 2})"
   ]
  },
  {
   "cell_type": "code",
   "execution_count": null,
   "id": "54caa34d",
   "metadata": {},
   "outputs": [],
   "source": [
    "subset = iris.loc[iris['class'].isin([0, 1])].iloc[:,[0, 1, 4, 5]]\n",
    "subset.head()"
   ]
  },
  {
   "cell_type": "code",
   "execution_count": null,
   "id": "808f73ec",
   "metadata": {},
   "outputs": [],
   "source": [
    "sea.scatterplot(x='SepalLengthCm', y='SepalWidthCm', hue='Species', data=subset)\n",
    "plt.show()"
   ]
  },
  {
   "cell_type": "markdown",
   "id": "6f9514ae",
   "metadata": {},
   "source": [
    "A"
   ]
  },
  {
   "cell_type": "markdown",
   "id": "44870a4b",
   "metadata": {},
   "source": [
    "Função Sigmoid\n",
    "\n",
    "$$\\sigma(z) = \\frac{1}{1+exp(-z)}$$"
   ]
  },
  {
   "cell_type": "code",
   "execution_count": null,
   "id": "ebb9f167",
   "metadata": {},
   "outputs": [],
   "source": [
    "def sigmoid(z):\n",
    "    return 1 / (1 + tf.exp(-z))"
   ]
  },
  {
   "cell_type": "code",
   "execution_count": null,
   "id": "8e2ffe9b",
   "metadata": {},
   "outputs": [],
   "source": [
    "plt.plot(sigmoid(tf.linspace(-10, 10, 100)))"
   ]
  },
  {
   "cell_type": "code",
   "execution_count": null,
   "id": "eb68ca1d",
   "metadata": {},
   "outputs": [],
   "source": [
    "def gradiente(x, y, name_model='modelo', epochs=1000, lr=0.01):\n",
    "    model = modelo(name=name_model, n_features=x.shape[1])\n",
    "    N = x.shape[0]\n",
    "    \n",
    "    x  = tf.Variable(x, dtype=tf.float32)\n",
    "    #\n",
    "    x_ = tf.concat([tf.ones_like(x[:, 0:1]), x], axis=1)\n",
    "    y  = tf.Variable(y, dtype=tf.float32)\n",
    "\n",
    "\n",
    "    for epoch in range(epochs):\n",
    "        pred = tf.matmul(x_, a.params, transpose_b=True)\n",
    "\n",
    "        pred = sigmoid(pred)\n",
    "\n",
    "        grad = lr * (1/N) * tf.matmul(x_, y - pred, transpose_a=True)\n",
    "\n",
    "        grad = tf.reshape(grad, [1, -1])\n",
    "\n",
    "        model.params.assign_add(grad)\n",
    "\n",
    "    return model"
   ]
  },
  {
   "cell_type": "code",
   "execution_count": null,
   "id": "cb9c635b",
   "metadata": {},
   "outputs": [],
   "source": [
    "a.params.assign_add"
   ]
  },
  {
   "cell_type": "code",
   "execution_count": null,
   "id": "2740fa31",
   "metadata": {},
   "outputs": [],
   "source": [
    "X =  iris[['SepalLengthCm', 'SepalWidthCm']].values.astype('float32')\n",
    "y =  iris['class'].values.reshape(-1, 1).astype('float32')"
   ]
  },
  {
   "cell_type": "code",
   "execution_count": null,
   "id": "ec61c555",
   "metadata": {},
   "outputs": [],
   "source": [
    "model_result = gradiente(x=X, y=y, name_model='logistic', epochs=1000, lr=0.01) "
   ]
  },
  {
   "cell_type": "code",
   "execution_count": null,
   "id": "12f1d48a",
   "metadata": {},
   "outputs": [],
   "source": []
  }
 ],
 "metadata": {
  "kernelspec": {
   "display_name": ".venv",
   "language": "python",
   "name": "python3"
  },
  "language_info": {
   "codemirror_mode": {
    "name": "ipython",
    "version": 3
   },
   "file_extension": ".py",
   "mimetype": "text/x-python",
   "name": "python",
   "nbconvert_exporter": "python",
   "pygments_lexer": "ipython3",
   "version": "3.12.10"
  }
 },
 "nbformat": 4,
 "nbformat_minor": 5
}
