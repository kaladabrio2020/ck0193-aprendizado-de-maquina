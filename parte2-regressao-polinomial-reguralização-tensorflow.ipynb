{
 "cells": [
  {
   "cell_type": "markdown",
   "id": "437addd9",
   "metadata": {},
   "source": [
    "# Regressão Polinomial"
   ]
  },
  {
   "cell_type": "code",
   "execution_count": 71,
   "id": "83f11455",
   "metadata": {},
   "outputs": [],
   "source": [
    "import pyprind\n",
    "import tensorflow as tf\n",
    "import matplotlib.pyplot as plt\n",
    "import itertools\n",
    "\n",
    "from algoritmos_tensorflow.regressao import modelo_simples, gradiente"
   ]
  },
  {
   "cell_type": "markdown",
   "id": "2faf0fcf",
   "metadata": {},
   "source": [
    "A **regressão polinomial** é um tipo de **regressão linear** em que a relação entre a variável independente (x) e a variável dependente (y) é modelada como um **polinômio** de grau (n).\n",
    "\n",
    "A ideia é expandir o modelo linear tradicional $((y = \\beta_0 + \\beta_1x))$ para incluir termos com potências de $(x)$, como $(x^2, x^3, \\dots, x^n)$. Assim, o modelo geral fica:\n",
    "\n",
    "$$\n",
    "\n",
    "y = \\beta_0 + \\beta_1 x + \\beta_2 x^2 + \\beta_3 x^3 + \\dots + \\beta_n x^n + \\varepsilon\n",
    "\n",
    "$$\n",
    "\n",
    "* Quando (n=1), temos a **regressão linear simples**.\n",
    "* Quando (n=2), temos uma parábola.\n",
    "* Para graus maiores, o modelo pode capturar relações mais complexas entre as variáveis.\n",
    "\n",
    " **Características principais**:\n",
    "\n",
    "* É **linear nos parâmetros** ((\\beta_i)), mesmo que seja polinomial nas variáveis.\n",
    "* Útil para ajustar **curvas não lineares**.\n",
    "* Deve-se ter cuidado com **overfitting**, pois polinômios de grau muito alto podem ajustar perfeitamente os dados de treino, mas generalizar mal em novos dados.\n",
    "\n"
   ]
  },
  {
   "cell_type": "code",
   "execution_count": 72,
   "id": "a0ef7a36",
   "metadata": {},
   "outputs": [],
   "source": [
    "# Your dataset\n",
    "altura      = tf.constant(\n",
    "    value = [1.087, 1.613, 0.953, 1.003, 1.156, 0.978, 1.092, 0.572, 0.940, 0.597, 0.838, 1.473], \n",
    "    name  ='Altura',\n",
    "    dtype = tf.float32\n",
    ")\n",
    "altura = tf.reshape(altura, [-1, 1])\n",
    "\n",
    "comprimento = tf.constant(\n",
    "    value = [37, 50, 34, 36, 43, 28, 37, 20, 34, 30, 38, 47], \n",
    "    name  ='Comprimento',\n",
    "    dtype = tf.float32\n",
    ")\n",
    "comprimento = tf.reshape(comprimento, [-1, 1])"
   ]
  },
  {
   "cell_type": "code",
   "execution_count": 73,
   "id": "b80f44aa",
   "metadata": {},
   "outputs": [],
   "source": [
    "X_ = tf.concat([altura, comprimento], axis=1)"
   ]
  },
  {
   "cell_type": "code",
   "execution_count": 74,
   "id": "1143430c",
   "metadata": {},
   "outputs": [],
   "source": [
    "def gerar_combinacoes(X, degraus):\n",
    "    l, c = X.shape\n",
    "\n",
    "    new_x = tf.Variable(tf.ones((l, 1)), dtype=tf.float32)\n",
    "\n",
    "    # Para cada grau será feito a poly\n",
    "    for grau in range(degraus):\n",
    "        # Combinacoes de grau\n",
    "        combinacoes = itertools.combinations_with_replacement(range(c), grau+1)\n",
    "\n",
    "        # Para cada combinação\n",
    "        for comb in combinacoes:\n",
    "\n",
    "            prod = tf.Variable(tf.ones((l)), dtype=tf.float32)\n",
    "            for i in range(len(comb)):\n",
    "                prod = tf.math.multiply(prod, X_[:, comb[i]])\n",
    "\n",
    "            prod  = tf.reshape(prod, [-1, 1])\n",
    "            new_x = tf.concat([new_x, prod], 1)\n",
    "\n",
    "    return new_x[:, 1:]"
   ]
  },
  {
   "cell_type": "code",
   "execution_count": 75,
   "id": "005ff7ae",
   "metadata": {},
   "outputs": [],
   "source": [
    "x_new = gerar_combinacoes(altura, 5)"
   ]
  },
  {
   "cell_type": "code",
   "execution_count": 76,
   "id": "af43f1d4",
   "metadata": {},
   "outputs": [
    {
     "data": {
      "text/plain": [
       "<tf.Tensor: shape=(12, 5), dtype=float32, numpy=\n",
       "array([[ 1.087     ,  1.181569  ,  1.2843655 ,  1.3961054 ,  1.5175666 ],\n",
       "       [ 1.613     ,  2.6017692 ,  4.196654  ,  6.7692027 , 10.918724  ],\n",
       "       [ 0.953     ,  0.908209  ,  0.8655232 ,  0.82484365,  0.786076  ],\n",
       "       [ 1.003     ,  1.006009  ,  1.009027  ,  1.0120541 ,  1.0150902 ],\n",
       "       [ 1.156     ,  1.336336  ,  1.5448045 ,  1.785794  ,  2.064378  ],\n",
       "       [ 0.978     ,  0.95648396,  0.9354413 ,  0.9148616 ,  0.8947346 ],\n",
       "       [ 1.092     ,  1.192464  ,  1.3021706 ,  1.4219704 ,  1.5527916 ],\n",
       "       [ 0.572     ,  0.32718402,  0.18714927,  0.10704939,  0.06123225],\n",
       "       [ 0.94      ,  0.8836    ,  0.830584  ,  0.78074896,  0.733904  ],\n",
       "       [ 0.597     ,  0.356409  ,  0.21277618,  0.12702738,  0.07583535],\n",
       "       [ 0.838     ,  0.702244  ,  0.5884805 ,  0.49314663,  0.41325688],\n",
       "       [ 1.473     ,  2.1697292 ,  3.1960113 ,  4.707725  ,  6.934479  ]],\n",
       "      dtype=float32)>"
      ]
     },
     "execution_count": 76,
     "metadata": {},
     "output_type": "execute_result"
    }
   ],
   "source": [
    "x_new"
   ]
  },
  {
   "cell_type": "code",
   "execution_count": 77,
   "id": "6c4a4c78",
   "metadata": {},
   "outputs": [],
   "source": [
    "model = modelo_simples(features=5)"
   ]
  },
  {
   "cell_type": "code",
   "execution_count": 78,
   "id": "b9933bb1",
   "metadata": {},
   "outputs": [
    {
     "name": "stderr",
     "output_type": "stream",
     "text": [
      "modelo_1\n",
      "0% [##############################] 100% | ETA: 00:00:00 | Item ID: Epoch 999 - Loss: 0.00012\n",
      "Total time elapsed: 00:00:01\n"
     ]
    },
    {
     "data": {
      "text/plain": [
       "<algoritmos_tensorflow.modelo.modelo_simples at 0x251b5782a20>"
      ]
     },
     "execution_count": 78,
     "metadata": {},
     "output_type": "execute_result"
    }
   ],
   "source": [
    "model, perda = gradiente(x_new, altura, model, learning_rate=0.01, epochs=1000, salvar_perda=True)\n",
    "model"
   ]
  },
  {
   "cell_type": "code",
   "execution_count": 79,
   "id": "36a954fc",
   "metadata": {},
   "outputs": [
    {
     "data": {
      "image/png": "[encoded data removed]",
      "text/plain": [
       "<Figure size 640x480 with 1 Axes>"
      ]
     },
     "metadata": {},
     "output_type": "display_data"
    }
   ],
   "source": [
    "plt.plot(x_new[:,3], altura.numpy().flatten(), 'ro')\n",
    "plt.plot(x_new[:,3], model(x_new).numpy().flatten(), 'b-')\n",
    "plt.show()"
   ]
  },
  {
   "cell_type": "markdown",
   "id": "a1fe299c",
   "metadata": {},
   "source": [
    "&nbsp;"
   ]
  },
  {
   "cell_type": "code",
   "execution_count": 80,
   "id": "1d447121",
   "metadata": {},
   "outputs": [],
   "source": [
    "def erro_quadratico_medio(y, ypred):\n",
    "    return tf.reduce_mean((y - ypred)**2)"
   ]
  },
  {
   "cell_type": "markdown",
   "id": "de690bde",
   "metadata": {},
   "source": [
    "&nbsp;"
   ]
  },
  {
   "cell_type": "markdown",
   "id": "8631b5c7",
   "metadata": {},
   "source": [
    "---------------------\n"
   ]
  },
  {
   "cell_type": "markdown",
   "id": "27dc3d37",
   "metadata": {},
   "source": [
    "## Regularização"
   ]
  },
  {
   "cell_type": "markdown",
   "id": "4cae6275",
   "metadata": {},
   "source": [
    "* Generalização\n",
    "    * Overfitting (sobreajuste) : Ocorre quando o modelo se ajusta demasiadamente aos dados usados para encontrar seus parametros.\n",
    "    * Underfitting (subajuste) : Ocorre quando o modelo não se ajusta bem aos dados de treinamento\n",
    "\n",
    "> Ideia de evitar isso é a regularização"
   ]
  },
  {
   "cell_type": "markdown",
   "id": "e91825f7",
   "metadata": {},
   "source": [
    "### L2 (Ridge)\n",
    "\n",
    "* quanto maior o valor $\\alpha$  mais proximo os parametros se aproxima de zero\n",
    "\n",
    "$$\n",
    "\\sum_{d=0}^d w^2_{d}\n",
    "$$\n",
    "\n",
    "> Isso é adicionado no processo de minimização ou no OLS"
   ]
  },
  {
   "cell_type": "markdown",
   "id": "cabc34c0",
   "metadata": {},
   "source": [
    "### Para o Gradiente descente\n",
    "\n",
    "```pseudo\n",
    "alpha <- define (0.01 geralmente)\n",
    "w_0   <- inicia aleatoriamente\n",
    "w_0   <- inicia aleatoriamente\n",
    "loss  <- loss_fn(ytrue, ypred) \n",
    "\n",
    "PARA I EM 1 ATÉ MAX_ITER:\n",
    "    w_0 <- w_0 + alpha * ( E_w0 - lamdba * sum(w_0**2) ) \n",
    "    w_1 <- w_1 + alpha * E_w1\n",
    "\n",
    "    loss <- loss_fn(ytrue, ypred) \n",
    "```"
   ]
  },
  {
   "cell_type": "code",
   "execution_count": 81,
   "id": "d87edc3d",
   "metadata": {},
   "outputs": [],
   "source": [
    "def gradiente(x, y, model, lambda_=0.01, learning_rate=0.01, epochs=1000, loss=erro_quadratico_medio, salvar_perda = False):\n",
    "    pgbar = pyprind.ProgBar(epochs, title=model.name, monitor=True)\n",
    "\n",
    "    perda = []\n",
    "\n",
    "    for epoch in range(epochs):\n",
    "        ypred = model(x)\n",
    "\n",
    "        # Atualizando pesos\n",
    "        # Atualizando o coeficiente : w = w + lr * np.mean((y - w * x) * x)\n",
    "        model.coeficiente = model.coeficiente + learning_rate * ( tf.reduce_mean((y - ypred) * x , axis=0) * lambda_ * tf.reduce_mean(model.coeficiente**2))\n",
    "\n",
    "        # Atualizando o intercept : w = w + lr * np.mean(y - w * x) \n",
    "        model.interceptor = model.interceptor + learning_rate * tf.reduce_mean(y - ypred)\n",
    "\n",
    "        pgbar.update(1, item_id=f'Epoch {epoch} - Loss: {loss(y, ypred):.5f}')\n",
    "        \n",
    "        if salvar_perda:\n",
    "            perda.append(loss(y, ypred))\n",
    "    \n",
    "    return model if not salvar_perda else (model, perda)"
   ]
  },
  {
   "cell_type": "code",
   "execution_count": 82,
   "id": "16779893",
   "metadata": {},
   "outputs": [
    {
     "name": "stderr",
     "output_type": "stream",
     "text": [
      "gd_rigularizado\n",
      "0% [##############################] 100% | ETA: 00:00:00 | Item ID: Epoch 999 - Loss: 13.00483\n",
      "Total time elapsed: 00:00:02\n"
     ]
    },
    {
     "data": {
      "text/plain": [
       "<algoritmos_tensorflow.modelo.modelo_simples at 0x251b6b9ba40>"
      ]
     },
     "execution_count": 82,
     "metadata": {},
     "output_type": "execute_result"
    }
   ],
   "source": [
    "model = modelo_simples(name='gd_rigularizado')\n",
    "model, perda = gradiente(altura, comprimento, model, lambda_=0.1, learning_rate=0.01, epochs=1000, salvar_perda=True)\n",
    "model"
   ]
  },
  {
   "cell_type": "code",
   "execution_count": 83,
   "id": "a5e71094",
   "metadata": {},
   "outputs": [
    {
     "data": {
      "text/plain": [
       "'Intercept: [14.19723129272461] | Coeficiente: [[21.62380027770996]]'"
      ]
     },
     "execution_count": 83,
     "metadata": {},
     "output_type": "execute_result"
    }
   ],
   "source": [
    "model.summary()"
   ]
  },
  {
   "cell_type": "code",
   "execution_count": 85,
   "id": "bc3902de",
   "metadata": {},
   "outputs": [
    {
     "data": {
      "text/plain": [
       "[<matplotlib.lines.Line2D at 0x251b302e930>]"
      ]
     },
     "execution_count": 85,
     "metadata": {},
     "output_type": "execute_result"
    },
    {
     "data": {
      "image/png": "[encoded data removed]",
      "text/plain": [
       "<Figure size 640x480 with 1 Axes>"
      ]
     },
     "metadata": {},
     "output_type": "display_data"
    }
   ],
   "source": [
    "plt.plot(perda)"
   ]
  },
  {
   "cell_type": "markdown",
   "id": "d83e254b",
   "metadata": {},
   "source": [
    "### Para SGD\n",
    "\n",
    "```pseudo\n",
    "Gradiente descendente Estocatico\n",
    "\n",
    "alpha <- define (0.01 geralmente)\n",
    "w_0   <- inicia aleatoriamente\n",
    "w_0   <- inicia aleatoriamente\n",
    "loss  <- loss_fn(ytrue, ypred) \n",
    "\n",
    "PARA I EM 1 ATÉ MAX_EPOCAS:\n",
    "    XI <- X(PERMUTAÇÃO)\n",
    "    YI <- Y(PERMUTAÇÃO)\n",
    "    PARA J EM 1 ATÉ N_INSTANCIA:\n",
    "        w_0 <- w_0 + alpha * Ei_w0 - LAMBDA * w_0**2\n",
    "        w_1 <- w_1 + alpha * Ei_w1(xi)\n",
    "\n",
    "    loss <- loss_fn(ytrue, ypred) \n",
    "\n",
    "```"
   ]
  },
  {
   "cell_type": "code",
   "execution_count": null,
   "id": "418a8088",
   "metadata": {},
   "outputs": [],
   "source": []
  }
 ],
 "metadata": {
  "kernelspec": {
   "display_name": "venv",
   "language": "python",
   "name": "python3"
  },
  "language_info": {
   "codemirror_mode": {
    "name": "ipython",
    "version": 3
   },
   "file_extension": ".py",
   "mimetype": "text/x-python",
   "name": "python",
   "nbconvert_exporter": "python",
   "pygments_lexer": "ipython3",
   "version": "3.12.10"
  }
 },
 "nbformat": 4,
 "nbformat_minor": 5
}
