{
 "cells": [
  {
   "cell_type": "markdown",
   "id": "27d183cb",
   "metadata": {},
   "source": [
    "## Regressão Linear"
   ]
  },
  {
   "cell_type": "code",
   "execution_count": 444,
   "id": "54a45f9d",
   "metadata": {},
   "outputs": [],
   "source": [
    "import pyprind\n",
    "import tensorflow as tf \n",
    "import matplotlib.pyplot as plt"
   ]
  },
  {
   "cell_type": "markdown",
   "id": "6e2cbb92",
   "metadata": {},
   "source": [
    "### Regressão Linear Simples"
   ]
  },
  {
   "cell_type": "code",
   "execution_count": 445,
   "id": "2d51755d",
   "metadata": {},
   "outputs": [],
   "source": [
    "# Your dataset\n",
    "altura      = tf.constant(\n",
    "    value = [1.087, 1.613, 0.953, 1.003, 1.156, 0.978, 1.092, 0.572, 0.940, 0.597, 0.838, 1.473], \n",
    "    name  ='Altura',\n",
    "    dtype = tf.float32\n",
    ")\n",
    "comprimento = tf.constant(\n",
    "    value = [37, 50, 34, 36, 43, 28, 37, 20, 34, 30, 38, 47], \n",
    "    name  ='Comprimento',\n",
    "    dtype = tf.float32\n",
    ")"
   ]
  },
  {
   "cell_type": "code",
   "execution_count": 446,
   "id": "e2f7d25c",
   "metadata": {},
   "outputs": [],
   "source": [
    "altura = tf.reshape(altura, [-1, 1])\n",
    "comprimento = tf.reshape(comprimento, [-1, 1])"
   ]
  },
  {
   "cell_type": "code",
   "execution_count": 447,
   "id": "0091cb83",
   "metadata": {},
   "outputs": [
    {
     "data": {
      "image/png": "[encoded data removed]",
      "text/plain": [
       "<Figure size 640x480 with 1 Axes>"
      ]
     },
     "metadata": {},
     "output_type": "display_data"
    }
   ],
   "source": [
    "plt.plot(altura, comprimento, 'ro')\n",
    "plt.show()"
   ]
  },
  {
   "cell_type": "markdown",
   "id": "5e63c529",
   "metadata": {},
   "source": [
    "• A coluna Altura é a entrada do nosso modelo.\n",
    "\n",
    "• A coluna Comprimento é a sa ́ıda do nosso modelo.\n",
    "\n",
    "• Nosso conjunto de dados é formado por 12 alturas e 12\n",
    "comprimentos correspondentes.\n",
    "\n",
    "• Matematicamente, temos:\n",
    "$D = \\{(x1,y1),··· ,(x2,y2)\\}= \\{(xi ,yi )\\}_{12i}=1$,\n",
    "em que $x_i$  ́e a i - ́esima entrada e yi  ́e a i-ésima sa ́ıda.\n",
    "\n",
    "• Objetivo: Encontrar uma relação entre xi e yi que forne ̧ca uma\n",
    "predicao $\\bar yi$ o mais proximo poss ́ıvel da saida real y"
   ]
  },
  {
   "cell_type": "markdown",
   "id": "a0e37d0d",
   "metadata": {},
   "source": [
    "#### Modelo\n",
    "$$y_i =  w_0 + w_1 x_i$$"
   ]
  },
  {
   "cell_type": "markdown",
   "id": "9487f4de",
   "metadata": {},
   "source": [
    "> Queremos minimizar error do valor real e valor predito"
   ]
  },
  {
   "cell_type": "markdown",
   "id": "5738dd05",
   "metadata": {},
   "source": [
    "$$ J = \\min_{w_0, w_1} \\frac{1}{2N} \\sum^N_{i=1}(y_i - (w_0 + w_1 x_i))^2$$"
   ]
  },
  {
   "cell_type": "markdown",
   "id": "eb4a075d",
   "metadata": {},
   "source": [
    "> Para minimizar o error quadrático médio do valor predito e real será feito o metodo da descida o gradiente, para tal derivamos em relação a $w_0$ e $w_1$"
   ]
  },
  {
   "cell_type": "markdown",
   "id": "a59f36b5",
   "metadata": {},
   "source": [
    "Para achar o minimo derivamos essa função objetivos"
   ]
  },
  {
   "cell_type": "markdown",
   "id": "4acfb87f",
   "metadata": {},
   "source": [
    "* **Para $w_0$**\n",
    "\n",
    "$\\large \\frac{\\partial J}{\\partial w_0}$\n",
    "\n",
    "$\\frac{\\partial J}{\\partial w_0} = \\frac{\\partial}{\\partial w_0}\\frac{1}{2N} \\sum^N_{i=1}(y_i - (w_0 + w_1 x_i))^2$\n",
    "\n",
    "$\\frac{\\partial J}{\\partial w_0} =  2\\frac{1}{2N} \\sum^N_{i=1}(y_i - (w_0 + w_1 x_i))(-1), \\text{corta o 2}$\n",
    "\n",
    "$\\frac{\\partial J}{\\partial w_0} =  \\frac{1}{N} \\sum^N_{i=1}(y_i - (w_0 + w_1 x_i))(-1)$\n",
    "\n",
    "\n",
    "$\\frac{\\partial J}{\\partial w_0} =  \\frac{1}{N} \\sum^N_{i=1}(y_i - w_0 - w_1 x_i)(-1)$\n",
    "\n",
    "\n",
    "$\\frac{\\partial J}{\\partial w_0} =  -1\\cdot\\frac{1}{N} \\sum^N_{i=1}(y_i - w_0 - w_1x_i)$\n",
    "\n",
    "$E_{w_0} = \\frac{\\partial J}{\\partial w_0}$"
   ]
  },
  {
   "cell_type": "markdown",
   "id": "284f4a3d",
   "metadata": {},
   "source": [
    "* **Para $w_1$**"
   ]
  },
  {
   "cell_type": "markdown",
   "id": "78e6f4fb",
   "metadata": {},
   "source": [
    "$\\large \\frac{\\partial J}{\\partial w_1}$\n",
    "\n",
    "$\\frac{\\partial J}{\\partial w_1} = \\frac{\\partial}{\\partial w_0}\\frac{1}{2N} \\sum^N_{i=1}(y_i - w_0 - w_1 x_i)^2$\n",
    "\n",
    "$\\frac{\\partial J}{\\partial w_1} =  2\\frac{1}{2N} \\sum^N_{i=1}(y_i - w_0 - w_1 x_i)(-w_1), \\text{corta o 2}$\n",
    "\n",
    "$\\frac{\\partial J}{\\partial w_1} =  \\frac{1}{N} \\sum^N_{i=1}(y_i - w_0 - w_1 x_i)(-1*w_1)$\n",
    "\n",
    "$\\frac{\\partial J}{\\partial w_1} =  -\\frac{1}{N} \\sum^N_{i=1}(y_i - w_0 - w_1 x_i)(x_i)$\n",
    "\n",
    "$E_{w1} = \\frac{\\partial J}{\\partial w_1}$"
   ]
  },
  {
   "cell_type": "markdown",
   "id": "fa1016c6",
   "metadata": {},
   "source": [
    "&nbsp;"
   ]
  },
  {
   "cell_type": "code",
   "execution_count": 448,
   "id": "7942ffdb",
   "metadata": {},
   "outputs": [],
   "source": [
    "def erro_quadratico_medio(y_true, y_pred):\n",
    "    return tf.reduce_mean(tf.square(y_true - y_pred))"
   ]
  },
  {
   "cell_type": "markdown",
   "id": "f432d7e8",
   "metadata": {},
   "source": [
    "#### Gradiente descedente(GD)"
   ]
  },
  {
   "cell_type": "markdown",
   "id": "07bd8640",
   "metadata": {},
   "source": [
    "```pseudo\n",
    "alpha <- define (0.01 geralmente)\n",
    "w_0   <- inicia aleatoriamente\n",
    "w_0   <- inicia aleatoriamente\n",
    "loss  <- loss_fn(ytrue, ypred) \n",
    "\n",
    "PARA I EM 1 ATÉ MAX_ITER:\n",
    "    w_0 <- w_0 + alpha * E_w0 \n",
    "    w_1 <- w_1 + alpha * E_w1\n",
    "\n",
    "    loss <- loss_fn(ytrue, ypred) \n",
    "```"
   ]
  },
  {
   "cell_type": "code",
   "execution_count": 449,
   "id": "cf29e01e",
   "metadata": {},
   "outputs": [],
   "source": [
    "class modelo_simples(tf.Module):\n",
    "    def __init__(self, name='modelo_1', features=1, seed=32):\n",
    "        super().__init__(name)\n",
    "        # Seed \n",
    "        tf.random.set_seed(seed)\n",
    "\n",
    "        self.interceptor = tf.Variable([0.0], name='interceptor', dtype=tf.float32, trainable=True)\n",
    "        self.coeficiente = tf.Variable(tf.random.uniform(shape=[1, features]), name='coeficiente', dtype=tf.float32, trainable=True)\n",
    "    \n",
    "    def __call__(self, X):\n",
    "        return tf.matmul(X, self.coeficiente, transpose_b=True) + self.interceptor\n",
    "    \n",
    "    def summary(self):\n",
    "        return f'Intercept: {self.interceptor.numpy().tolist()} | Coeficiente: {self.coeficiente.numpy().tolist()}'"
   ]
  },
  {
   "cell_type": "code",
   "execution_count": 490,
   "id": "9b360643",
   "metadata": {},
   "outputs": [],
   "source": [
    "def gradiente(x, y, model, learning_rate=0.01, epochs=1000, loss=erro_quadratico_medio, salvar_perda = False):\n",
    "    pgbar = pyprind.ProgBar(epochs, title=model.name, monitor=True)\n",
    "\n",
    "    perda = []\n",
    "\n",
    "    for epoch in range(epochs):\n",
    "        ypred = model(x)\n",
    "\n",
    "        # Atualizando pesos\n",
    "        # Atualizando o coeficiente : w = w + lr * np.mean((y - w * x) * x)\n",
    "        model.coeficiente = model.coeficiente + learning_rate * tf.reduce_mean((y - ypred) * x , axis=0)\n",
    "\n",
    "        # Atualizando o intercept : w = w + lr * np.mean(y - w * x) \n",
    "        model.interceptor = model.interceptor + learning_rate * tf.reduce_mean(y - ypred)\n",
    "\n",
    "        pgbar.update(1, item_id=f'Epoch {epoch} - Loss: {loss(y, ypred):.5f}')\n",
    "        \n",
    "        if salvar_perda:\n",
    "            perda.append(loss(y, ypred))\n",
    "    \n",
    "    return model if not salvar_perda else (model, perda)"
   ]
  },
  {
   "cell_type": "code",
   "execution_count": 491,
   "id": "f37dfe05",
   "metadata": {},
   "outputs": [],
   "source": [
    "model = modelo_simples(name = 'modelo_1', features = 1)"
   ]
  },
  {
   "cell_type": "code",
   "execution_count": 492,
   "id": "173ed50a",
   "metadata": {},
   "outputs": [
    {
     "name": "stderr",
     "output_type": "stream",
     "text": [
      "modelo_1\n",
      "0% [##############################] 100% | ETA: 00:00:00 | Item ID: Epoch 99 - Loss: 34.495155\n",
      "Total time elapsed: 00:00:01\n"
     ]
    }
   ],
   "source": [
    "model, perda = gradiente(x=altura, y=comprimento, model=model, epochs=1_00, salvar_perda=True)"
   ]
  },
  {
   "cell_type": "code",
   "execution_count": 493,
   "id": "1d27af86",
   "metadata": {},
   "outputs": [
    {
     "data": {
      "image/png": "[encoded data removed]",
      "text/plain": [
       "<Figure size 1000x500 with 2 Axes>"
      ]
     },
     "metadata": {},
     "output_type": "display_data"
    }
   ],
   "source": [
    "fig, ax = plt.subplots( nrows=1, ncols=2, figsize=(10, 5) )\n",
    "\n",
    "ax[0].plot(altura, comprimento, 'ro')\n",
    "ax[0].plot(altura, model(altura), 'b')\n",
    "\n",
    "ax[1].plot(perda)\n",
    "plt.show()"
   ]
  },
  {
   "cell_type": "code",
   "execution_count": 453,
   "id": "bc0bcbeb",
   "metadata": {},
   "outputs": [
    {
     "data": {
      "text/plain": [
       "'Intercept: [14.824074745178223] | Coeficiente: [[16.823469161987305]]'"
      ]
     },
     "execution_count": 453,
     "metadata": {},
     "output_type": "execute_result"
    }
   ],
   "source": [
    "model.summary()"
   ]
  },
  {
   "cell_type": "markdown",
   "id": "4be3843d",
   "metadata": {},
   "source": [
    "&nbsp;"
   ]
  },
  {
   "cell_type": "markdown",
   "id": "bd2c7f84",
   "metadata": {},
   "source": [
    "#### Gradiente descendente Estocatico(SGD)"
   ]
  },
  {
   "cell_type": "markdown",
   "id": "269d7712",
   "metadata": {},
   "source": [
    "```pseudo\n",
    "Gradiente descendente Estocatico\n",
    "\n",
    "alpha <- define (0.01 geralmente)\n",
    "w_0   <- inicia aleatoriamente\n",
    "w_0   <- inicia aleatoriamente\n",
    "loss  <- loss_fn(ytrue, ypred) \n",
    "\n",
    "PARA I EM 1 ATÉ MAX_EPOCAS:\n",
    "    XI <- X(PERMUTAÇÃO)\n",
    "    YI <- Y(PERMUTAÇÃO)\n",
    "    PARA J EM 1 ATÉ N_INSTANCIA:\n",
    "        w_0 <- w_0 + alpha * Ei_w0\n",
    "        w_1 <- w_1 + alpha * Ei_w1(xi)\n",
    "\n",
    "    loss <- loss_fn(ytrue, ypred) \n",
    "\n",
    "```"
   ]
  },
  {
   "cell_type": "code",
   "execution_count": null,
   "id": "a0a0b7ac",
   "metadata": {},
   "outputs": [],
   "source": [
    "def gradiente_descedente_estocatico(x, y, model, learning_rate=0.01, epochs=1000, loss=erro_quadratico_medio, salvar_perda = False):\n",
    "    pgbar = pyprind.ProgBar(epochs//2, title=model.name, monitor=True)\n",
    "    perda = []\n",
    "    indices = tf.range(start=0, limit=len(x), delta=1)\n",
    "    for i in range(epochs):\n",
    "        # Embaralhando os dados\n",
    "        embaralhar = tf.random.shuffle(indices)\n",
    "      \n",
    "\n",
    "        # Atualizando pesos\n",
    "        for index in embaralhar:\n",
    "\n",
    "            xi_ = tf.reshape(x[index, :], [1, -1])\n",
    "            yi_ = y[index]\n",
    "            pred = model(xi_)\n",
    "\n",
    "            # Atualizando pesos\n",
    "            # Atualizando o coeficiente : w = w + lr * np.mean((y - w * x) * x)\n",
    "            model.coeficiente = model.coeficiente + learning_rate * (yi_ - pred) * xi_\n",
    "\n",
    "            # Atualizando o intercept : w = w + lr * np.mean(y - w * x) \n",
    "            model.interceptor = model.interceptor + learning_rate * (yi_ - pred)\n",
    "\n",
    "        pgbar.update(1, item_id=f'Epoch {i} - Loss: {loss(y, pred):.5f}')\n",
    "        \n",
    "        if salvar_perda: perda.append(loss(y, pred))\n",
    " \n",
    "\n",
    "    return model if not salvar_perda else (model, perda)"
   ]
  },
  {
   "cell_type": "code",
   "execution_count": 486,
   "id": "cda8b954",
   "metadata": {},
   "outputs": [],
   "source": [
    "model = modelo_simples(name='modelo_1', features=altura.shape[1])"
   ]
  },
  {
   "cell_type": "code",
   "execution_count": 487,
   "id": "d5cd675a",
   "metadata": {},
   "outputs": [
    {
     "name": "stderr",
     "output_type": "stream",
     "text": [
      "modelo_1\n",
      "0% [#####] 100% | ETA: 00:00:00 | Item ID: Epoch 4 - Loss: 322.66171\n",
      "Total time elapsed: 00:00:00\n"
     ]
    }
   ],
   "source": [
    "model, perda = gradiente_descedente_estocatico(x=altura, y=comprimento, model=model, epochs=1_0, salvar_perda=True)"
   ]
  },
  {
   "cell_type": "code",
   "execution_count": 456,
   "id": "1b70358c",
   "metadata": {},
   "outputs": [
    {
     "data": {
      "text/plain": [
       "(<tf.Tensor: shape=(1, 1), dtype=float32, numpy=array([[17.674679]], dtype=float32)>,\n",
       " <tf.Tensor: shape=(1, 1), dtype=float32, numpy=array([[15.416361]], dtype=float32)>)"
      ]
     },
     "execution_count": 456,
     "metadata": {},
     "output_type": "execute_result"
    }
   ],
   "source": [
    "model.coeficiente, model.interceptor"
   ]
  },
  {
   "cell_type": "code",
   "execution_count": 457,
   "id": "78fb23d0",
   "metadata": {},
   "outputs": [
    {
     "data": {
      "image/png": "[encoded data removed]",
      "text/plain": [
       "<Figure size 1000x500 with 2 Axes>"
      ]
     },
     "metadata": {},
     "output_type": "display_data"
    }
   ],
   "source": [
    "fig, ax = plt.subplots( nrows=1, ncols=2, figsize=(10, 5) )\n",
    "\n",
    "ax[0].plot(altura, comprimento, 'ro')\n",
    "ax[0].plot(altura, model(altura), 'b')\n",
    "\n",
    "ax[1].plot(perda)\n",
    "plt.show()"
   ]
  },
  {
   "cell_type": "code",
   "execution_count": 458,
   "id": "f9b6b98b",
   "metadata": {},
   "outputs": [
    {
     "name": "stderr",
     "output_type": "stream",
     "text": [
      "modelo_1\n"
     ]
    },
    {
     "name": "stderr",
     "output_type": "stream",
     "text": [
      "0% [#####] 100% | ETA: 00:00:00 | Item ID: Epoch 4 - Loss: 388.06754\n",
      "Total time elapsed: 00:00:01\n"
     ]
    }
   ],
   "source": [
    "sgd = gradiente_descedente_estocatico(\n",
    "    tf.concat([altura, altura**2], axis=1), comprimento, epochs=10\n",
    ")"
   ]
  },
  {
   "cell_type": "markdown",
   "id": "cddd65d8",
   "metadata": {},
   "source": [
    "&nbsp;"
   ]
  },
  {
   "cell_type": "markdown",
   "id": "80a2960e",
   "metadata": {},
   "source": [
    "----------------\n"
   ]
  },
  {
   "cell_type": "markdown",
   "id": "44d15bd7",
   "metadata": {},
   "source": [
    "### Usando tape do tensorflow"
   ]
  },
  {
   "cell_type": "code",
   "execution_count": 459,
   "id": "a5366713",
   "metadata": {},
   "outputs": [],
   "source": [
    "import keras"
   ]
  },
  {
   "cell_type": "code",
   "execution_count": 483,
   "id": "dfa5110e",
   "metadata": {},
   "outputs": [],
   "source": [
    "def fit(x, y, model, learning_rate=0.01, epochs=1000, optimizer='sgd', loss=erro_quadratico_medio, salvar_perda = False):\n",
    "\n",
    "    optim = None \n",
    "    \n",
    "    pgbar = pyprind.ProgBar(epochs//2, title=model.name, monitor=True)\n",
    "    \n",
    "    match optimizer:\n",
    "        case 'sgd' : optim = keras.optimizers.SGD(learning_rate=learning_rate)\n",
    "        case 'adam': optim = keras.optimizers.Adam(learning_rate=learning_rate)\n",
    "        case _ : optim = keras.optimizers.SGD(learning_rate=learning_rate)\n",
    "    \n",
    "    for epoch in range(epochs):\n",
    "        with tf.GradientTape() as tape:\n",
    "            ypred = model(x)\n",
    "            loss_ = loss(y, ypred)\n",
    "\n",
    "        # Atualizando pesos\n",
    "        grad = tape.gradient(loss_, model.trainable_variables)\n",
    "\n",
    "        # Atualizando o coeficiente : w = w + lr * np.mean((y - w * x) * x)\n",
    "        optim.apply_gradients(zip(grad, model.trainable_variables))\n",
    "\n",
    "        pgbar.update(1, item_id=f'Epoch {epoch} - Loss: {loss(y, ypred):.5f}')\n",
    "        \n",
    "        if salvar_perda:\n",
    "            perda.append(loss(y, ypred))\n",
    "    \n",
    "    return model if not salvar_perda else (model, perda)"
   ]
  },
  {
   "cell_type": "code",
   "execution_count": 461,
   "id": "e003196b",
   "metadata": {},
   "outputs": [
    {
     "name": "stderr",
     "output_type": "stream",
     "text": [
      "modelo_1\n",
      "0% [##############################] 100% | ETA: 00:00:00 | Item ID: Epoch 49 - Loss: 34.446621\n",
      "Total time elapsed: 00:00:02\n"
     ]
    }
   ],
   "source": [
    "model, perda = fit(x=altura, y=comprimento, epochs=1_00, salvar_perda=True)"
   ]
  },
  {
   "cell_type": "code",
   "execution_count": 462,
   "id": "e2d0407f",
   "metadata": {},
   "outputs": [
    {
     "data": {
      "text/plain": [
       "'Intercept: [16.43293571472168] | Coeficiente: [[18.969268798828125]]'"
      ]
     },
     "execution_count": 462,
     "metadata": {},
     "output_type": "execute_result"
    }
   ],
   "source": [
    "model.summary()"
   ]
  },
  {
   "cell_type": "code",
   "execution_count": 463,
   "id": "a34e3971",
   "metadata": {},
   "outputs": [
    {
     "data": {
      "text/plain": [
       "(<tf.Variable 'coeficiente:0' shape=(1, 1) dtype=float32, numpy=array([[18.969269]], dtype=float32)>,\n",
       " <tf.Variable 'interceptor:0' shape=(1,) dtype=float32, numpy=array([16.432936], dtype=float32)>)"
      ]
     },
     "execution_count": 463,
     "metadata": {},
     "output_type": "execute_result"
    }
   ],
   "source": [
    "model.trainable_variables"
   ]
  },
  {
   "cell_type": "markdown",
   "id": "d4863e70",
   "metadata": {},
   "source": [
    "## Regressão Multipla"
   ]
  },
  {
   "cell_type": "code",
   "execution_count": 464,
   "id": "275a6665",
   "metadata": {},
   "outputs": [],
   "source": [
    "peso = tf.constant(\n",
    "    value=[18.141, 42.404, 16.100, 13.605, 23.583, 7.710, \n",
    "           17.460, 3.855, 14.966, 4.308, 9.524, 35.828],\n",
    "    name='Peso',\n",
    "    dtype=tf.float32\n",
    ")\n",
    "peso = tf.reshape(peso, [-1, 1])"
   ]
  },
  {
   "cell_type": "code",
   "execution_count": 465,
   "id": "784fda80",
   "metadata": {},
   "outputs": [],
   "source": [
    "class regressao_multipla(tf.Module):\n",
    "    def __init__(self, name='modelo_1'):\n",
    "        super().__init__(name)\n",
    "        # Coeficientes\n",
    "        self.params = None\n",
    "\n",
    "\n",
    "    def OLS(self, x, y):     \n",
    "        # Adicionando uma coluna de 1 = interceptor\n",
    "        ones = tf.reshape(tf.ones_like(x[:, 0]), [-1, 1])\n",
    "        Xi   = tf.concat([ones, x], axis=1)\n",
    "\n",
    "        # (X^T X)^-1 \n",
    "        P1 = tf.matmul( a=Xi, b=Xi, transpose_a=True)\n",
    "        P2 = tf.linalg.inv(P1)\n",
    "\n",
    "        # inv * x^T * y\n",
    "        self.params = tf.matmul(P2, tf.matmul(Xi, y, transpose_a=True))\n",
    "\n",
    "        return self\n",
    "    \n",
    "    def __call__(self, x):\n",
    "        xi = tf.reshape(tf.ones_like(x[:, 0]), [-1, 1])\n",
    "        xi = tf.concat([xi, x], axis=1)\n",
    "        return tf.matmul(xi, self.params)"
   ]
  },
  {
   "cell_type": "code",
   "execution_count": 466,
   "id": "d7918265",
   "metadata": {},
   "outputs": [],
   "source": [
    "X = tf.concat([altura, peso], axis=1)\n",
    "Y = comprimento"
   ]
  },
  {
   "cell_type": "code",
   "execution_count": 467,
   "id": "48e47dc3",
   "metadata": {},
   "outputs": [
    {
     "data": {
      "text/plain": [
       "<__main__.regressao_multipla at 0x1f56053b170>"
      ]
     },
     "execution_count": 467,
     "metadata": {},
     "output_type": "execute_result"
    }
   ],
   "source": [
    "model = regressao_multipla()\n",
    "model.OLS(tf.reshape(X[:, 0], [-1, 1]), Y)"
   ]
  },
  {
   "cell_type": "code",
   "execution_count": 468,
   "id": "f7d2bd4b",
   "metadata": {},
   "outputs": [
    {
     "data": {
      "text/plain": [
       "<tf.Tensor: shape=(2, 1), dtype=float32, numpy=\n",
       "array([[11.47345 ],\n",
       "       [24.087006]], dtype=float32)>"
      ]
     },
     "execution_count": 468,
     "metadata": {},
     "output_type": "execute_result"
    }
   ],
   "source": [
    "model.params"
   ]
  },
  {
   "cell_type": "code",
   "execution_count": 469,
   "id": "83ab519b",
   "metadata": {},
   "outputs": [
    {
     "data": {
      "text/plain": [
       "<tf.Tensor: shape=(), dtype=float32, numpy=10.713692665100098>"
      ]
     },
     "execution_count": 469,
     "metadata": {},
     "output_type": "execute_result"
    }
   ],
   "source": [
    "erro_quadratico_medio(Y, pred)"
   ]
  },
  {
   "cell_type": "markdown",
   "id": "ed86adb7",
   "metadata": {},
   "source": [
    "-----"
   ]
  },
  {
   "cell_type": "markdown",
   "id": "4b9f4ee3",
   "metadata": {},
   "source": [
    "## Normalizacao"
   ]
  },
  {
   "cell_type": "code",
   "execution_count": 470,
   "id": "9bcf5e45",
   "metadata": {},
   "outputs": [],
   "source": [
    "class Normalizacao:\n",
    "    def __init__(self, X):\n",
    "        # Inicializa os atributos\n",
    "        self.desvios_padroes = None\n",
    "        self.medias          = None\n",
    "        self.x = X\n",
    "        self.size = self.x.shape[1]\n",
    "\n",
    "    # Função para calcular a média de cada coluna\n",
    "    def mean_(self):\n",
    "        # Calcula a média de cada coluna\n",
    "        self.medias = [ tf.round(tf.reduce_mean(self.x[:, i]), 2) for i in range(self.size)]\n",
    "\n",
    "        # Retorna o próprio objeto\n",
    "        return self\n",
    "\n",
    "    def std_(self):\n",
    "        # Calcula a média\n",
    "        self.mean_()\n",
    "\n",
    "        # Calcula o desvio padrão de cada coluna\n",
    "        self.desvios_padroes = [\n",
    "            tf.math.sqrt(tf.reduce_mean( (self.x[:, i] - self.medias[i])**2) ) for i in range(self.size)\n",
    "        ]\n",
    "        return self\n",
    "\n",
    "    def transformacao(self):\n",
    "        # Chamando funções para calcular média e desvio padrão\n",
    "        self.std_()\n",
    "        # Aplica a normalização z-score\n",
    "        self.x = (self.x - self.medias) / self.desvios_padroes\n",
    "        return self.x\n",
    "\n",
    "    def inversa_transformacao(self):\n",
    "        try:\n",
    "            return tf.multiply(self.desvios_padroes, self.x)  + self.medias\n",
    "        except Exception as e:\n",
    "            print(\"talvez você não normalizou os dados ainda\")\n",
    "        return self.x"
   ]
  }
 ],
 "metadata": {
  "kernelspec": {
   "display_name": "venv",
   "language": "python",
   "name": "python3"
  },
  "language_info": {
   "codemirror_mode": {
    "name": "ipython",
    "version": 3
   },
   "file_extension": ".py",
   "mimetype": "text/x-python",
   "name": "python",
   "nbconvert_exporter": "python",
   "pygments_lexer": "ipython3",
   "version": "3.12.10"
  }
 },
 "nbformat": 4,
 "nbformat_minor": 5
}
