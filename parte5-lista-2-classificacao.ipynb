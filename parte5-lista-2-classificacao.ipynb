{
 "cells": [
  {
   "cell_type": "code",
   "execution_count": 230,
   "id": "cc7bd456",
   "metadata": {},
   "outputs": [],
   "source": [
    "from pyprind.progbar import ProgBar\n",
    "import numpy as np\n",
    "import seaborn as sns\n",
    "import matplotlib.pyplot as plt\n",
    "import pandas as pd"
   ]
  },
  {
   "cell_type": "markdown",
   "id": "2d7776e6",
   "metadata": {},
   "source": [
    "### Algoritmos "
   ]
  },
  {
   "cell_type": "code",
   "execution_count": 231,
   "id": "02123803",
   "metadata": {},
   "outputs": [],
   "source": [
    "class regressao_logistica:\n",
    "    def __init__(self, X, y, tipo='gradiente', epochs=1_00, learning_rate=0.01, salvar_processo=False):\n",
    "        # Adicionando a coluna interceptor\n",
    "        self.X_ = np.c_[ np.ones(shape=(X.shape[0], 1), dtype=np.float32), X]\n",
    "\n",
    "\n",
    "        # Tipo de alg usado\n",
    "        self.tipo   = tipo\n",
    "\n",
    "        # Caso seja de multiclasse muda a estrategia\n",
    "        self.multiclasse = True if len(np.unique(y))>2 else False\n",
    "        self.epochs = epochs\n",
    "        self.learning_rate = learning_rate\n",
    "        self.salvar_processo = salvar_processo\n",
    "\n",
    "        if self.multiclasse:\n",
    "            self.classes = np.unique(y)\n",
    "            self.coeficientes = np.random.rand( len(self.classes), self.X_.shape[1])\n",
    "        else:\n",
    "            self.coeficientes  = np.random.rand(1, self.X_.shape[1])\n",
    "\n",
    "\n",
    "        # Fazendo reshape na target caso necessario\n",
    "        self.y  = y.reshape(-1, 1) if len(y.shape) == 1 else y\n",
    "\n",
    "        #Se for multiclasse é feito o one hot encoding\n",
    "        if self.multiclasse and self.y.shape[1] == 1:\n",
    "            onehot = np.zeros((self.X_.shape[0], len(self.classes)))\n",
    "            for i, c in enumerate(self.classes):\n",
    "                onehot[:, i] = (self.y.ravel() == c).astype(float)\n",
    "            self.y = onehot\n",
    "\n",
    "    def ajuste(self):\n",
    "        match self.tipo:\n",
    "            case 'gradiente': \n",
    "                self.gradiente()\n",
    "            case _: \n",
    "                self.gradiente()\n",
    "    \n",
    "    def gradiente(self):\n",
    "        progbar = ProgBar(self.epochs, title='Treinando modelo - gradiente', stream=1)\n",
    "        self.processo = []\n",
    "        M = self.X_.shape[0]\n",
    "        for epoch in range(self.epochs):\n",
    "            # Faz a predição com base se é multiclasses ou não\n",
    "            pred = self.predicao_ajuste(self.X_)\n",
    "\n",
    "            # Caso seja multiclasse usará a função softmax caso contrario a sigmoid\n",
    "            pred = self.sigmoid(pred) if not(self.multiclasse) else self.softmax(pred)  \n",
    "\n",
    "            grad = self.learning_rate * ((1/M) * (self.y - pred).T.dot(self.X_))\n",
    "\n",
    "            self.coeficientes -= grad\n",
    "\n",
    "            perda = self.cross_entropy(pred)\n",
    "\n",
    "            progbar.update(1, item_id=f'Epoch {epoch} - perda {perda:.4f}')\n",
    "            if self.salvar_processo: \n",
    "                self.processo.append( perda )\n",
    "    \n",
    " \n",
    "    def cross_entropy(self, pred):\n",
    "        return -1*np.mean(\n",
    "            self.y * np.log1p(pred) + ( 1 - self.y ) * np.log1p(1 -  pred)\n",
    "        )\n",
    "\n",
    "    # Função sigmoid\n",
    "    def sigmoid(self, x):\n",
    "        return 1 / (1 + np.exp(-x))\n",
    "\n",
    "    # Função sofmax para multiclasses\n",
    "    def softmax(self, x):\n",
    "        exp_x = np.exp(x - np.max(x, axis=1, keepdims=True))\n",
    "        return exp_x / np.sum(exp_x, axis=1, keepdims=True)\n",
    "    \n",
    "    def predicao_ajuste(self, x):\n",
    "        return np.dot(x, self.coeficientes.T)\n",
    "\n",
    "    def predicao(self, x):\n",
    "        M = x.shape[0]\n",
    "        x_ = np.c_[ np.ones(shape=(M, 1), dtype=np.float32), x]\n",
    "\n",
    "        if self.multiclasse:\n",
    "            return np.argmax(self.softmax(np.dot(x_,self.coeficientes.T)), axis=1).reshape(-1, 1)\n",
    "            \n",
    "        return self.sigmoid(np.dot(x_,self.coeficientes.T))\n"
   ]
  },
  {
   "cell_type": "markdown",
   "id": "8769ddb6",
   "metadata": {},
   "source": [
    "`Gassian`"
   ]
  },
  {
   "cell_type": "code",
   "execution_count": 232,
   "id": "bc788782",
   "metadata": {},
   "outputs": [],
   "source": [
    "class Gaussian:\n",
    "    def __init__(self, X, y):\n",
    "        self.X = X\n",
    "        self.y = y\n",
    "        self.classes = np.unique(y)\n",
    "        # Quantidade de classes, instancias e colunas sucessivamente\n",
    "        self.S = len(self.classes)\n",
    "        self.N = self.X.shape[0]\n",
    "        self.M = self.X.shape[1]\n",
    "\n",
    "    def ajuste(self):\n",
    "        # Cria uma array para guardar objetos [omega e pi]\n",
    "        self.omega_pi = np.empty((self.S, self.S), dtype=object)\n",
    "        self.sigma = np.zeros((self.M, self.M))\n",
    "        for c in range(self.S):\n",
    "\n",
    "            # Seleciona o array contendo uma respetiva classe\n",
    "            sub_x = self.X[np.hstack(self.y == c), :] \n",
    "\n",
    "            # Calcula omega e pi\n",
    "            self.omega_pi[c, 0] = len(sub_x)/self.N\n",
    "            self.omega_pi[c, 1] = np.mean(sub_x, axis=0)\n",
    "        \n",
    "            sub_x = self.X[np.hstack(self.y == c), :]\n",
    "            self.sigma += (sub_x - self.omega_pi[c, 1]).T.dot( (sub_x - self.omega_pi[c, 1]) )\n",
    "            \n",
    "\n",
    "        self.sigma = self.sigma/self.N \n",
    "        self.sigma_inv = np.linalg.inv(self.sigma)  \n",
    "        return self\n",
    "    \n",
    "    def predicao(self, x):      \n",
    "        deltas = []\n",
    "        for c in range(self.S):\n",
    "            pi_c = self.omega_pi[c, 0]\n",
    "            om_c = self.omega_pi[c, 1]\n",
    "\n",
    "            parte_1 = x @ self.sigma_inv @ om_c \n",
    "            parte_2 = 0.5 * om_c.T @ self.sigma_inv @ om_c + np.log(pi_c)\n",
    "            \n",
    "            delta = parte_1 - parte_2\n",
    "            deltas.append(delta)\n",
    "\n",
    "        deltas = np.array(deltas) \n",
    "        pred = np.array(self.classes[np.argmax(deltas, axis=0)])\n",
    "        return pred.reshape(-1, 1)\n"
   ]
  },
  {
   "cell_type": "markdown",
   "id": "6a6cca92",
   "metadata": {},
   "source": [
    "`Naive bayes`"
   ]
  },
  {
   "cell_type": "code",
   "execution_count": 233,
   "id": "45357a41",
   "metadata": {},
   "outputs": [],
   "source": [
    "class NaiveBayesGaussiano:\n",
    "    def __init__(self, X, y):\n",
    "        self.X = X\n",
    "        self.y = y\n",
    "        \n",
    "        self.classes = np.unique(y)\n",
    "        # Quantidade de classes, instancias e colunas sucessivamente\n",
    "        self.S = len(self.classes)  \n",
    "        self.N = self.X.shape[0]    \n",
    "        self.M = self.X.shape[1]\n",
    "    \n",
    "    def ajuste(self):\n",
    "        # Cria uma array para guardar objetos [omega e pi]\n",
    "        self.omega_pi = np.empty((self.S, 2), dtype=object)\n",
    "        self.sigma_diag = np.zeros((self.S, self.M))\n",
    "        for c in range(self.S):\n",
    "            # Seleciona o array contendo uma respetiva classe\n",
    "            sub_x = self.X[np.hstack(self.y == self.classes[c]), :]\n",
    "            N_k = len(sub_x)\n",
    "            \n",
    "            # PI = N_k / N\n",
    "            self.omega_pi[c, 0] = N_k / self.N\n",
    "            \n",
    "            # omega_dk = MEAN(x_id)\n",
    "            self.omega_pi[c, 1] = np.mean(sub_x, axis=0)\n",
    "            \n",
    "            # Variância diagonal\n",
    "            self.sigma_diag[c, :] = np.var(sub_x, axis=0, ddof=0)\n",
    "\n",
    "        return self\n",
    "            \n",
    "          \n",
    "\n",
    "    def predicao(self, x):\n",
    "\n",
    "        deltas = []\n",
    "        \n",
    "        for c in range(self.S):\n",
    "            pi_c = self.omega_pi[c, 0]  \n",
    "            om_c = self.omega_pi[c, 1]  \n",
    "            var_c = self.sigma_diag[c, :] \n",
    "          \n",
    "            # parte 1\n",
    "            parte_1 = np.sum(x * om_c / var_c, axis=1) - 0.5 * np.sum(om_c**2 / var_c)\n",
    "            \n",
    "            # parte 2\n",
    "            parte_2 = 0.5 * np.sum(np.log(2 * np.pi * var_c)) - np.log(pi_c)\n",
    "            \n",
    "            deltas.append(parte_1 - parte_2)\n",
    "        deltas = np.array(deltas)\n",
    "        \n",
    "        pred =  np.array(self.classes[np.argmax(deltas, axis=0)])\n",
    "\n",
    "        return pred.reshape(-1, 1)"
   ]
  },
  {
   "cell_type": "markdown",
   "id": "e01cf4d4",
   "metadata": {},
   "source": [
    "`Metricas`"
   ]
  },
  {
   "cell_type": "code",
   "execution_count": 234,
   "id": "40e69ffc",
   "metadata": {},
   "outputs": [],
   "source": [
    "def acuracia(ytrue, ypred):\n",
    "    return np.divide((ytrue == ypred).astype(int).sum(), ytrue.shape[0])\n",
    "\n",
    "def acuracia_por_classe(ytrue, ypred):\n",
    "    dicionario = { 'classes':[],  'total':[], 'acertos':[], 'acuracia':[] }\n",
    "\n",
    "    for i in np.unique(ytrue, sorted=True):\n",
    "        acertos = np.sum((ytrue == i) & (ypred == i))\n",
    "        total   = np.sum(ytrue == i)\n",
    "        \n",
    "        acuracia_i = round(acertos / total, 5)\n",
    "\n",
    "        dicionario['classes'].append(f'rotulo {i}')\n",
    "        dicionario['total'].append(total)\n",
    "        dicionario['acertos'].append(acertos)\n",
    "        dicionario['acuracia'].append(acuracia_i)\n",
    "\n",
    "    \n",
    "    result = pd.DataFrame(dicionario)\n",
    "    return result.set_index('classes')"
   ]
  },
  {
   "cell_type": "code",
   "execution_count": 235,
   "id": "22464e10",
   "metadata": {},
   "outputs": [],
   "source": [
    "def train_test(X, y, test_size = 0.2, seed=1):\n",
    "    rnd = np.random.RandomState(seed)\n",
    "\n",
    "    index = np.arange(X.shape[0])\n",
    "    rnd.shuffle(index)\n",
    "    test_index = index[:int(X.shape[0] * test_size)]\n",
    "    train_index = index[int(X.shape[0] * test_size):]\n",
    "\n",
    "    xtest = X[test_index]\n",
    "    ytest = y[test_index]\n",
    "\n",
    "    xtrain = X[train_index]\n",
    "    ytrain = y[train_index]\n",
    "\n",
    "    return xtrain, ytrain, xtest, ytest"
   ]
  },
  {
   "cell_type": "code",
   "execution_count": 236,
   "id": "6d0cc3d2",
   "metadata": {},
   "outputs": [],
   "source": [
    "def trat_dfs_acu_por_classe(result):\n",
    "    dfs = [df for sublist in result for df in sublist]\n",
    "\n",
    "    for i, df in enumerate(dfs):\n",
    "        df['fold'] = i + 1\n",
    "\n",
    "    df_geral = pd.concat(dfs).reset_index()\n",
    "    return df_geral.groupby('classes')[['total','acertos','acuracia']].agg(['mean', 'std'])"
   ]
  },
  {
   "cell_type": "markdown",
   "id": "bc2b5277",
   "metadata": {},
   "source": [
    "&nbsp;"
   ]
  },
  {
   "cell_type": "markdown",
   "id": "36fce5ef",
   "metadata": {},
   "source": [
    "---------------"
   ]
  },
  {
   "cell_type": "markdown",
   "id": "f0fdc82c",
   "metadata": {},
   "source": [
    "# Questão 1"
   ]
  },
  {
   "cell_type": "code",
   "execution_count": 237,
   "id": "b87a603f",
   "metadata": {},
   "outputs": [],
   "source": [
    "from sklearn.preprocessing import StandardScaler"
   ]
  },
  {
   "cell_type": "markdown",
   "id": "1b9940f8",
   "metadata": {},
   "source": [
    "Considere o conjunto de dados disponível em breastcancer.csv, organizado em 31 colunas, sendo as 30 primeiras colunas os atributos e a última coluna a saída. Os 30 atributos coletados de exames médicos são usados no diagnóstico do câncer de mama, sendo 1 a classe positiva e 0 a classe negativa. Maiores detalhes sobre os dados podem ser conferidos em https://scikit-learn.org/stable/datasets/toy_dataset.html#breast-cancer-dataset."
   ]
  },
  {
   "cell_type": "code",
   "execution_count": 238,
   "id": "331a94f5",
   "metadata": {},
   "outputs": [
    {
     "data": {
      "text/plain": [
       "(569, 31)"
      ]
     },
     "execution_count": null,
     "metadata": {},
     "output_type": "execute_result"
    }
   ],
   "source": [
    "# Lendo arquivo\n",
    "breast = np.loadtxt(fname='lista\\\\lista_02_ama\\\\dataset\\\\breastcancer.csv', delimiter=',')\n",
    "breast.shape"
   ]
  },
  {
   "cell_type": "code",
   "execution_count": 239,
   "id": "651621be",
   "metadata": {},
   "outputs": [],
   "source": [
    "X = breast[:, :30].astype(np.float32)\n",
    "X_scalery = breast[:, -1].astype(np.float32).reshape(-1, 1)"
   ]
  },
  {
   "cell_type": "code",
   "execution_count": 240,
   "id": "cb868d1f",
   "metadata": {},
   "outputs": [],
   "source": [
    "y = breast[:, 30:].astype(np.float32)"
   ]
  },
  {
   "cell_type": "code",
   "execution_count": 241,
   "id": "11bf91b7",
   "metadata": {},
   "outputs": [],
   "source": [
    "scaler = StandardScaler()\n",
    "X_scaler = scaler.fit_transform(X)"
   ]
  },
  {
   "cell_type": "code",
   "execution_count": 242,
   "id": "1879b357",
   "metadata": {},
   "outputs": [],
   "source": [
    "xtrain, ytrain, xtest, ytest = train_test(X_scaler, y)"
   ]
  },
  {
   "cell_type": "code",
   "execution_count": 243,
   "id": "abd7d901",
   "metadata": {},
   "outputs": [
    {
     "data": {
      "text/plain": [
       "((456, 1), (456, 30))"
      ]
     },
     "execution_count": null,
     "metadata": {},
     "output_type": "execute_result"
    }
   ],
   "source": [
    "ytrain.shape, xtrain.shape"
   ]
  },
  {
   "cell_type": "markdown",
   "id": "e1ebd675",
   "metadata": {},
   "source": [
    "## a. Considerando uma validação cruzada em 10 folds, avalie modelos de classificação binária nos dados em questão. Para tanto, use as abordagens abaixo:"
   ]
  },
  {
   "cell_type": "code",
   "execution_count": 244,
   "id": "81e6f331",
   "metadata": {},
   "outputs": [],
   "source": [
    "def folds(X, y, modelo, test_size=0.25, k=10, metrics=[], metrics_df=[]):\n",
    "    metrics_list = []\n",
    "    metrics_list_df = []\n",
    "    for i in range(k):\n",
    "        xtrain_fold, ytrain_fold, xtest_fold, ytest_fold = train_test(X, y, test_size, seed=None)\n",
    "\n",
    "        model = modelo(xtrain_fold, ytrain_fold)\n",
    "        model.ajuste()\n",
    "\n",
    "        pred = model.predicao(xtest_fold)\n",
    "        \n",
    "        pred = (pred >= 0.5).astype(int) if not(np.any(pred.astype(int)==1)) else pred\n",
    "        \n",
    "        metrics_list.append([i(ytest_fold, pred) for i in metrics])\n",
    "        metrics_list_df.append([i(ytest_fold, pred) for i in metrics_df])\n",
    "    \n",
    "    return metrics_list, metrics_list_df"
   ]
  },
  {
   "cell_type": "markdown",
   "id": "36838c57",
   "metadata": {},
   "source": [
    "`Logistica GD`"
   ]
  },
  {
   "cell_type": "code",
   "execution_count": 245,
   "id": "0755ef57",
   "metadata": {},
   "outputs": [
    {
     "name": "stdout",
     "output_type": "stream",
     "text": [
      "Treinando modelo - gradiente\n",
      "0% [##############################] 100% | ETA: 00:00:00 | Item ID: Epoch 99 - perda -0.5956\n",
      "Total time elapsed: 00:00:00\n",
      "Treinando modelo - gradiente\n",
      "0% [##############################] 100% | ETA: 00:00:00 | Item ID: Epoch 99 - perda -0.5910\n",
      "Total time elapsed: 00:00:00\n",
      "Treinando modelo - gradiente\n",
      "0% [##############################] 100% | ETA: 00:00:00 | Item ID: Epoch 99 - perda -0.6071\n",
      "Total time elapsed: 00:00:00\n",
      "Treinando modelo - gradiente\n",
      "0% [##############################] 100% | ETA: 00:00:00 | Item ID: Epoch 99 - perda -0.5767\n",
      "Total time elapsed: 00:00:00\n",
      "Treinando modelo - gradiente\n",
      "0% [##############################] 100% | ETA: 00:00:00 | Item ID: Epoch 99 - perda -0.6126\n",
      "Total time elapsed: 00:00:00\n",
      "Treinando modelo - gradiente\n",
      "0% [##############################] 100% | ETA: 00:00:00 | Item ID: Epoch 99 - perda -0.6121\n",
      "Total time elapsed: 00:00:00\n",
      "Treinando modelo - gradiente\n",
      "0% [##############################] 100% | ETA: 00:00:00 | Item ID: Epoch 99 - perda -0.5821\n",
      "Total time elapsed: 00:00:00\n",
      "Treinando modelo - gradiente\n",
      "0% [##############################] 100% | ETA: 00:00:00 | Item ID: Epoch 99 - perda -0.6040\n",
      "Total time elapsed: 00:00:00\n",
      "Treinando modelo - gradiente\n",
      "0% [##############################] 100% | ETA: 00:00:00 | Item ID: Epoch 99 - perda -0.5702\n",
      "Total time elapsed: 00:00:00\n",
      "Treinando modelo - gradiente\n",
      "0% [##############################] 100% | ETA: 00:00:00 | Item ID: Epoch 99 - perda -0.5845\n",
      "Total time elapsed: 00:00:00\n"
     ]
    }
   ],
   "source": [
    "result_log, result_log_df = folds(xtrain, ytrain, regressao_logistica, metrics=[acuracia], metrics_df=[acuracia_por_classe])"
   ]
  },
  {
   "cell_type": "markdown",
   "id": "458c7275",
   "metadata": {},
   "source": [
    "`gaussiano`"
   ]
  },
  {
   "cell_type": "code",
   "execution_count": 246,
   "id": "46032456",
   "metadata": {},
   "outputs": [],
   "source": [
    "result_adg, result_adg_df  = folds(xtrain, ytrain, Gaussian, metrics=[acuracia], metrics_df=[acuracia_por_classe])"
   ]
  },
  {
   "cell_type": "markdown",
   "id": "eef0b3f3",
   "metadata": {},
   "source": [
    "`Naive bayes`"
   ]
  },
  {
   "cell_type": "code",
   "execution_count": 247,
   "id": "0a5ae55d",
   "metadata": {},
   "outputs": [],
   "source": [
    "result_naive,  result_naive_df = folds(xtrain, ytrain, NaiveBayesGaussiano, metrics=[acuracia], metrics_df=[acuracia_por_classe])"
   ]
  },
  {
   "cell_type": "markdown",
   "id": "4e9b2d7a",
   "metadata": {},
   "source": [
    "## b) Para cada modelo criado, reporte valor médio e desvio padrão da acurácia global e da acurácia por classe."
   ]
  },
  {
   "cell_type": "markdown",
   "id": "045a991c",
   "metadata": {},
   "source": [
    "### Acuracia"
   ]
  },
  {
   "cell_type": "code",
   "execution_count": 248,
   "id": "0bfc2259",
   "metadata": {},
   "outputs": [
    {
     "data": {
      "image/png": "[encoded data removed]",
      "text/plain": [
       "<Figure size 640x480 with 1 Axes>"
      ]
     },
     "metadata": {},
     "output_type": "display_data"
    }
   ],
   "source": [
    "plt.plot(result_log, label='Logistica')\n",
    "plt.plot(result_adg, label='Análise do discriminante Gaussiano')\n",
    "plt.plot(result_naive, label='Naive Bayes')\n",
    "plt.legend()\n",
    "plt.show()"
   ]
  },
  {
   "cell_type": "code",
   "execution_count": 249,
   "id": "60bf15cd",
   "metadata": {},
   "outputs": [
    {
     "data": {
      "text/html": [
       "<div>\n",
       "<style scoped>\n",
       "    .dataframe tbody tr th:only-of-type {\n",
       "        vertical-align: middle;\n",
       "    }\n",
       "\n",
       "    .dataframe tbody tr th {\n",
       "        vertical-align: top;\n",
       "    }\n",
       "\n",
       "    .dataframe thead th {\n",
       "        text-align: right;\n",
       "    }\n",
       "</style>\n",
       "<table border=\"1\" class=\"dataframe\">\n",
       "  <thead>\n",
       "    <tr style=\"text-align: right;\">\n",
       "      <th></th>\n",
       "      <th>Logistica</th>\n",
       "      <th>Análise do discriminante Gaussiano</th>\n",
       "      <th>Naive Bayes</th>\n",
       "    </tr>\n",
       "  </thead>\n",
       "  <tbody>\n",
       "    <tr>\n",
       "      <th>Média</th>\n",
       "      <td>0.699123</td>\n",
       "      <td>0.957018</td>\n",
       "      <td>0.926316</td>\n",
       "    </tr>\n",
       "    <tr>\n",
       "      <th>Desvio Padrão</th>\n",
       "      <td>0.346087</td>\n",
       "      <td>0.013842</td>\n",
       "      <td>0.037668</td>\n",
       "    </tr>\n",
       "  </tbody>\n",
       "</table>\n",
       "</div>"
      ],
      "text/plain": [
       "               Logistica  Análise do discriminante Gaussiano  Naive Bayes\n",
       "Média           0.699123                            0.957018     0.926316\n",
       "Desvio Padrão   0.346087                            0.013842     0.037668"
      ]
     },
     "execution_count": null,
     "metadata": {},
     "output_type": "execute_result"
    }
   ],
   "source": [
    "results = pd.DataFrame({\n",
    "    'Logistica':[ np.mean(result_log),np.std(result_log)],\n",
    "    'Análise do discriminante Gaussiano':[ np.mean(result_adg),  np.std(result_adg)],\n",
    "    'Naive Bayes':[np.mean(result_naive), np.std(result_naive)],\n",
    "}, index=['Média', 'Desvio Padrão'])\n",
    "\n",
    "results"
   ]
  },
  {
   "cell_type": "code",
   "execution_count": 250,
   "id": "92094da9",
   "metadata": {},
   "outputs": [
    {
     "data": {
      "image/png": "[encoded data removed]",
      "text/plain": [
       "<Figure size 1200x600 with 1 Axes>"
      ]
     },
     "metadata": {},
     "output_type": "display_data"
    }
   ],
   "source": [
    "results_melt = results.reset_index().melt(id_vars='index', var_name='Modelo', value_name='Valor')\n",
    "\n",
    "plt.figure(figsize=(12, 6))\n",
    "ax = sns.barplot(data=results_melt, x='Modelo', y='Valor', hue='index')\n",
    "\n",
    "for p in ax.patches:\n",
    "    valor = p.get_height()\n",
    "    ax.text(\n",
    "        p.get_x() + p.get_width()/2, valor + 0.002,\n",
    "        f'{valor:.3f}',\n",
    "        ha='center', va='bottom', fontsize=12, fontweight='bold'\n",
    "    )\n",
    "    \n",
    "plt.show()"
   ]
  },
  {
   "cell_type": "markdown",
   "id": "d8e7f97c",
   "metadata": {},
   "source": [
    "### Acuracia por classe"
   ]
  },
  {
   "cell_type": "code",
   "execution_count": 251,
   "id": "0dfb9d6d",
   "metadata": {},
   "outputs": [
    {
     "data": {
      "text/html": [
       "<div>\n",
       "<style scoped>\n",
       "    .dataframe tbody tr th:only-of-type {\n",
       "        vertical-align: middle;\n",
       "    }\n",
       "\n",
       "    .dataframe tbody tr th {\n",
       "        vertical-align: top;\n",
       "    }\n",
       "\n",
       "    .dataframe thead tr th {\n",
       "        text-align: left;\n",
       "    }\n",
       "\n",
       "    .dataframe thead tr:last-of-type th {\n",
       "        text-align: right;\n",
       "    }\n",
       "</style>\n",
       "<table border=\"1\" class=\"dataframe\">\n",
       "  <thead>\n",
       "    <tr>\n",
       "      <th></th>\n",
       "      <th colspan=\"2\" halign=\"left\">total</th>\n",
       "      <th colspan=\"2\" halign=\"left\">acertos</th>\n",
       "      <th colspan=\"2\" halign=\"left\">acuracia</th>\n",
       "    </tr>\n",
       "    <tr>\n",
       "      <th></th>\n",
       "      <th>mean</th>\n",
       "      <th>std</th>\n",
       "      <th>mean</th>\n",
       "      <th>std</th>\n",
       "      <th>mean</th>\n",
       "      <th>std</th>\n",
       "    </tr>\n",
       "    <tr>\n",
       "      <th>classes</th>\n",
       "      <th></th>\n",
       "      <th></th>\n",
       "      <th></th>\n",
       "      <th></th>\n",
       "      <th></th>\n",
       "      <th></th>\n",
       "    </tr>\n",
       "  </thead>\n",
       "  <tbody>\n",
       "    <tr>\n",
       "      <th>rotulo 0.0</th>\n",
       "      <td>73.3</td>\n",
       "      <td>3.802046</td>\n",
       "      <td>50.7</td>\n",
       "      <td>27.02283</td>\n",
       "      <td>0.689646</td>\n",
       "      <td>0.364539</td>\n",
       "    </tr>\n",
       "    <tr>\n",
       "      <th>rotulo 1.0</th>\n",
       "      <td>40.7</td>\n",
       "      <td>3.802046</td>\n",
       "      <td>29.0</td>\n",
       "      <td>15.21695</td>\n",
       "      <td>0.715826</td>\n",
       "      <td>0.366497</td>\n",
       "    </tr>\n",
       "  </tbody>\n",
       "</table>\n",
       "</div>"
      ],
      "text/plain": [
       "           total           acertos            acuracia          \n",
       "            mean       std    mean       std      mean       std\n",
       "classes                                                         \n",
       "rotulo 0.0  73.3  3.802046    50.7  27.02283  0.689646  0.364539\n",
       "rotulo 1.0  40.7  3.802046    29.0  15.21695  0.715826  0.366497"
      ]
     },
     "execution_count": null,
     "metadata": {},
     "output_type": "execute_result"
    }
   ],
   "source": [
    "trat_dfs_acu_por_classe(result_log_df)"
   ]
  },
  {
   "cell_type": "code",
   "execution_count": 252,
   "id": "a0027eda",
   "metadata": {},
   "outputs": [
    {
     "data": {
      "text/html": [
       "<div>\n",
       "<style scoped>\n",
       "    .dataframe tbody tr th:only-of-type {\n",
       "        vertical-align: middle;\n",
       "    }\n",
       "\n",
       "    .dataframe tbody tr th {\n",
       "        vertical-align: top;\n",
       "    }\n",
       "\n",
       "    .dataframe thead tr th {\n",
       "        text-align: left;\n",
       "    }\n",
       "\n",
       "    .dataframe thead tr:last-of-type th {\n",
       "        text-align: right;\n",
       "    }\n",
       "</style>\n",
       "<table border=\"1\" class=\"dataframe\">\n",
       "  <thead>\n",
       "    <tr>\n",
       "      <th></th>\n",
       "      <th colspan=\"2\" halign=\"left\">total</th>\n",
       "      <th colspan=\"2\" halign=\"left\">acertos</th>\n",
       "      <th colspan=\"2\" halign=\"left\">acuracia</th>\n",
       "    </tr>\n",
       "    <tr>\n",
       "      <th></th>\n",
       "      <th>mean</th>\n",
       "      <th>std</th>\n",
       "      <th>mean</th>\n",
       "      <th>std</th>\n",
       "      <th>mean</th>\n",
       "      <th>std</th>\n",
       "    </tr>\n",
       "    <tr>\n",
       "      <th>classes</th>\n",
       "      <th></th>\n",
       "      <th></th>\n",
       "      <th></th>\n",
       "      <th></th>\n",
       "      <th></th>\n",
       "      <th></th>\n",
       "    </tr>\n",
       "  </thead>\n",
       "  <tbody>\n",
       "    <tr>\n",
       "      <th>rotulo 0.0</th>\n",
       "      <td>71.0</td>\n",
       "      <td>2.905933</td>\n",
       "      <td>69.9</td>\n",
       "      <td>2.726414</td>\n",
       "      <td>0.984655</td>\n",
       "      <td>0.012462</td>\n",
       "    </tr>\n",
       "    <tr>\n",
       "      <th>rotulo 1.0</th>\n",
       "      <td>43.0</td>\n",
       "      <td>2.905933</td>\n",
       "      <td>39.2</td>\n",
       "      <td>3.047768</td>\n",
       "      <td>0.911572</td>\n",
       "      <td>0.035078</td>\n",
       "    </tr>\n",
       "  </tbody>\n",
       "</table>\n",
       "</div>"
      ],
      "text/plain": [
       "           total           acertos            acuracia          \n",
       "            mean       std    mean       std      mean       std\n",
       "classes                                                         \n",
       "rotulo 0.0  71.0  2.905933    69.9  2.726414  0.984655  0.012462\n",
       "rotulo 1.0  43.0  2.905933    39.2  3.047768  0.911572  0.035078"
      ]
     },
     "execution_count": null,
     "metadata": {},
     "output_type": "execute_result"
    }
   ],
   "source": [
    "trat_dfs_acu_por_classe(result_adg_df)"
   ]
  },
  {
   "cell_type": "code",
   "execution_count": 253,
   "id": "cf95dae0",
   "metadata": {},
   "outputs": [
    {
     "data": {
      "text/html": [
       "<div>\n",
       "<style scoped>\n",
       "    .dataframe tbody tr th:only-of-type {\n",
       "        vertical-align: middle;\n",
       "    }\n",
       "\n",
       "    .dataframe tbody tr th {\n",
       "        vertical-align: top;\n",
       "    }\n",
       "\n",
       "    .dataframe thead tr th {\n",
       "        text-align: left;\n",
       "    }\n",
       "\n",
       "    .dataframe thead tr:last-of-type th {\n",
       "        text-align: right;\n",
       "    }\n",
       "</style>\n",
       "<table border=\"1\" class=\"dataframe\">\n",
       "  <thead>\n",
       "    <tr>\n",
       "      <th></th>\n",
       "      <th colspan=\"2\" halign=\"left\">total</th>\n",
       "      <th colspan=\"2\" halign=\"left\">acertos</th>\n",
       "      <th colspan=\"2\" halign=\"left\">acuracia</th>\n",
       "    </tr>\n",
       "    <tr>\n",
       "      <th></th>\n",
       "      <th>mean</th>\n",
       "      <th>std</th>\n",
       "      <th>mean</th>\n",
       "      <th>std</th>\n",
       "      <th>mean</th>\n",
       "      <th>std</th>\n",
       "    </tr>\n",
       "    <tr>\n",
       "      <th>classes</th>\n",
       "      <th></th>\n",
       "      <th></th>\n",
       "      <th></th>\n",
       "      <th></th>\n",
       "      <th></th>\n",
       "      <th></th>\n",
       "    </tr>\n",
       "  </thead>\n",
       "  <tbody>\n",
       "    <tr>\n",
       "      <th>rotulo 0.0</th>\n",
       "      <td>70.7</td>\n",
       "      <td>4.270051</td>\n",
       "      <td>69.5</td>\n",
       "      <td>4.672615</td>\n",
       "      <td>0.982740</td>\n",
       "      <td>0.013099</td>\n",
       "    </tr>\n",
       "    <tr>\n",
       "      <th>rotulo 1.0</th>\n",
       "      <td>43.3</td>\n",
       "      <td>4.270051</td>\n",
       "      <td>36.1</td>\n",
       "      <td>4.332051</td>\n",
       "      <td>0.835982</td>\n",
       "      <td>0.092173</td>\n",
       "    </tr>\n",
       "  </tbody>\n",
       "</table>\n",
       "</div>"
      ],
      "text/plain": [
       "           total           acertos            acuracia          \n",
       "            mean       std    mean       std      mean       std\n",
       "classes                                                         \n",
       "rotulo 0.0  70.7  4.270051    69.5  4.672615  0.982740  0.013099\n",
       "rotulo 1.0  43.3  4.270051    36.1  4.332051  0.835982  0.092173"
      ]
     },
     "execution_count": null,
     "metadata": {},
     "output_type": "execute_result"
    }
   ],
   "source": [
    "trat_dfs_acu_por_classe(result_naive_df)"
   ]
  },
  {
   "cell_type": "markdown",
   "id": "1facac57",
   "metadata": {},
   "source": [
    "# Questão 2"
   ]
  },
  {
   "cell_type": "markdown",
   "id": "d7ced8c5",
   "metadata": {},
   "source": [
    "Considere o conjunto de dados disponível em vehicle.csv, organizado em 19 colunas, sendo as 18 primeiras colunas os atributos e a última coluna a saída. Os 18 atributos caracterizam a silhueta de veículos, extraídos pelo método HIPS (Hierarchical Image Processing System). A tarefa consiste em classificar o veículo em 4 classes (bus, opel, saab, e van). Maiores detalhes sobre os dados podem ser conferidos em https://www.openml.org/search?type=data&sort=runs&id=54."
   ]
  },
  {
   "cell_type": "code",
   "execution_count": 254,
   "id": "ae1dc2f1",
   "metadata": {},
   "outputs": [],
   "source": [
    "veiculos = np.loadtxt(fname='lista\\\\lista_02_ama\\\\dataset\\\\vehicle.csv', delimiter=',')"
   ]
  },
  {
   "cell_type": "code",
   "execution_count": 255,
   "id": "58e73fd4",
   "metadata": {},
   "outputs": [],
   "source": [
    "X = veiculos[:, :18].astype(np.float32)\n",
    "y = veiculos[:, 18:]"
   ]
  },
  {
   "cell_type": "code",
   "execution_count": 256,
   "id": "6a52da0c",
   "metadata": {},
   "outputs": [],
   "source": [
    "scaler = StandardScaler()\n",
    "X_scaler = scaler.fit_transform(X)"
   ]
  },
  {
   "cell_type": "code",
   "execution_count": 257,
   "id": "4709427a",
   "metadata": {},
   "outputs": [],
   "source": [
    "xtrain, ytrain, xtest, ytest = train_test(X_scaler, y)"
   ]
  },
  {
   "cell_type": "markdown",
   "id": "6b2321a3",
   "metadata": {},
   "source": [
    "## 1. Considerando uma validação cruzada em 10 folds, avalie modelos de classificação multiclasse nos dados em questão. Para tanto, use as abordagens abaixo:\n",
    "\n",
    "* Regressão softmax (treinado com GD ou SGD);\n",
    "* Análise do discriminante Gaussiano;\n",
    "* Naive Bayes Gaussiano;"
   ]
  },
  {
   "cell_type": "markdown",
   "id": "cce14b57",
   "metadata": {},
   "source": [
    "`SGD`"
   ]
  },
  {
   "cell_type": "code",
   "execution_count": 258,
   "id": "49a17fbd",
   "metadata": {},
   "outputs": [
    {
     "name": "stdout",
     "output_type": "stream",
     "text": [
      "Treinando modelo - gradiente\n",
      "0% [##############################] 100% | ETA: 00:00:00 | Item ID: Epoch 99 - perda -0.3972\n",
      "Total time elapsed: 00:00:00\n",
      "Treinando modelo - gradiente\n",
      "0% [##############################] 100% | ETA: 00:00:00 | Item ID: Epoch 99 - perda -0.4289\n",
      "Total time elapsed: 00:00:00\n",
      "Treinando modelo - gradiente\n",
      "0% [##############################] 100% | ETA: 00:00:00 | Item ID: Epoch 99 - perda -0.4471\n",
      "Total time elapsed: 00:00:00\n",
      "Treinando modelo - gradiente\n",
      "0% [##############################] 100% | ETA: 00:00:00 | Item ID: Epoch 99 - perda -0.4343\n",
      "Total time elapsed: 00:00:00\n",
      "Treinando modelo - gradiente\n",
      "0% [##############################] 100% | ETA: 00:00:00 | Item ID: Epoch 99 - perda -0.4208\n",
      "Total time elapsed: 00:00:00\n",
      "Treinando modelo - gradiente\n",
      "0% [##############################] 100% | ETA: 00:00:00 | Item ID: Epoch 99 - perda -0.4630\n",
      "Total time elapsed: 00:00:00\n",
      "Treinando modelo - gradiente\n",
      "0% [##############################] 100% | ETA: 00:00:00 | Item ID: Epoch 99 - perda -0.4109\n",
      "Total time elapsed: 00:00:00\n",
      "Treinando modelo - gradiente\n",
      "0% [##############################] 100% | ETA: 00:00:00 | Item ID: Epoch 99 - perda -0.4004\n",
      "Total time elapsed: 00:00:00\n",
      "Treinando modelo - gradiente\n",
      "0% [##############################] 100% | ETA: 00:00:00 | Item ID: Epoch 99 - perda -0.4256\n",
      "Total time elapsed: 00:00:00\n",
      "Treinando modelo - gradiente\n",
      "0% [##############################] 100% | ETA: 00:00:00 | Item ID: Epoch 99 - perda -0.4058\n",
      "Total time elapsed: 00:00:00\n"
     ]
    }
   ],
   "source": [
    "result_log, result_log_df  = folds(xtrain, ytrain, regressao_logistica, metrics=[acuracia], metrics_df=[acuracia_por_classe])"
   ]
  },
  {
   "cell_type": "markdown",
   "id": "96bf099d",
   "metadata": {},
   "source": [
    "`gaussian`"
   ]
  },
  {
   "cell_type": "code",
   "execution_count": 259,
   "id": "7beeef35",
   "metadata": {},
   "outputs": [],
   "source": [
    "result_adg, result_adg_df  = folds(xtrain, ytrain, Gaussian, metrics=[acuracia], metrics_df=[acuracia_por_classe])"
   ]
  },
  {
   "cell_type": "markdown",
   "id": "0f9632be",
   "metadata": {},
   "source": [
    "`naive bayes`"
   ]
  },
  {
   "cell_type": "code",
   "execution_count": 260,
   "id": "5d7b881d",
   "metadata": {},
   "outputs": [],
   "source": [
    "result_naive,  result_naive_df = folds(xtrain, ytrain, NaiveBayesGaussiano, metrics=[acuracia], metrics_df=[acuracia_por_classe])"
   ]
  },
  {
   "cell_type": "markdown",
   "id": "9e86f4e9",
   "metadata": {},
   "source": [
    "## 2. Para cada modelo criado, reporte valor médio e desvio padrão da acurácia global e da acurácia por classe."
   ]
  },
  {
   "cell_type": "markdown",
   "id": "5ac9fb9c",
   "metadata": {},
   "source": [
    "`Acuracia`"
   ]
  },
  {
   "cell_type": "code",
   "execution_count": 261,
   "id": "02ed4d8a",
   "metadata": {},
   "outputs": [
    {
     "data": {
      "image/png": "[encoded data removed]",
      "text/plain": [
       "<Figure size 640x480 with 1 Axes>"
      ]
     },
     "metadata": {},
     "output_type": "display_data"
    }
   ],
   "source": [
    "plt.title('Multiclasse')\n",
    "plt.plot(result_log, label='Logistica')\n",
    "plt.plot(result_adg, label='Análise do discriminante Gaussiano')\n",
    "plt.plot(result_naive, label='Naive Bayes')\n",
    "plt.legend()\n",
    "plt.show()"
   ]
  },
  {
   "cell_type": "code",
   "execution_count": 262,
   "id": "fd763e37",
   "metadata": {},
   "outputs": [
    {
     "data": {
      "text/html": [
       "<div>\n",
       "<style scoped>\n",
       "    .dataframe tbody tr th:only-of-type {\n",
       "        vertical-align: middle;\n",
       "    }\n",
       "\n",
       "    .dataframe tbody tr th {\n",
       "        vertical-align: top;\n",
       "    }\n",
       "\n",
       "    .dataframe thead th {\n",
       "        text-align: right;\n",
       "    }\n",
       "</style>\n",
       "<table border=\"1\" class=\"dataframe\">\n",
       "  <thead>\n",
       "    <tr style=\"text-align: right;\">\n",
       "      <th></th>\n",
       "      <th>Logistica</th>\n",
       "      <th>Análise do discriminante Gaussiano</th>\n",
       "      <th>Naive Bayes</th>\n",
       "    </tr>\n",
       "  </thead>\n",
       "  <tbody>\n",
       "    <tr>\n",
       "      <th>Média</th>\n",
       "      <td>0.157988</td>\n",
       "      <td>0.786391</td>\n",
       "      <td>0.391124</td>\n",
       "    </tr>\n",
       "    <tr>\n",
       "      <th>Desvio Padrão</th>\n",
       "      <td>0.048220</td>\n",
       "      <td>0.021571</td>\n",
       "      <td>0.044709</td>\n",
       "    </tr>\n",
       "  </tbody>\n",
       "</table>\n",
       "</div>"
      ],
      "text/plain": [
       "               Logistica  Análise do discriminante Gaussiano  Naive Bayes\n",
       "Média           0.157988                            0.786391     0.391124\n",
       "Desvio Padrão   0.048220                            0.021571     0.044709"
      ]
     },
     "execution_count": null,
     "metadata": {},
     "output_type": "execute_result"
    }
   ],
   "source": [
    "results = pd.DataFrame({\n",
    "    'Logistica':[ np.mean(result_log),np.std(result_log)],\n",
    "    'Análise do discriminante Gaussiano':[ np.mean(result_adg),  np.std(result_adg)],\n",
    "    'Naive Bayes':[np.mean(result_naive), np.std(result_naive)],\n",
    "}, index=['Média', 'Desvio Padrão'])\n",
    "\n",
    "results"
   ]
  },
  {
   "cell_type": "code",
   "execution_count": 263,
   "id": "363023bf",
   "metadata": {},
   "outputs": [
    {
     "data": {
      "image/png": "[encoded data removed]",
      "text/plain": [
       "<Figure size 1200x600 with 1 Axes>"
      ]
     },
     "metadata": {},
     "output_type": "display_data"
    }
   ],
   "source": [
    "results_melt = results.reset_index().melt(id_vars='index', var_name='Modelo', value_name='Valor')\n",
    "\n",
    "plt.figure(figsize=(12, 6))\n",
    "ax = sns.barplot(data=results_melt, x='Modelo', y='Valor', hue='index')\n",
    "\n",
    "for p in ax.patches:\n",
    "    valor = p.get_height()\n",
    "    ax.text(\n",
    "        p.get_x() + p.get_width()/2, valor + 0.002,\n",
    "        f'{valor:.3f}',\n",
    "        ha='center', va='bottom', fontsize=12, fontweight='bold'\n",
    "    )\n",
    "    \n",
    "plt.show()"
   ]
  },
  {
   "cell_type": "markdown",
   "id": "0090fbc4",
   "metadata": {},
   "source": [
    "`Acuracia por classe`"
   ]
  },
  {
   "cell_type": "code",
   "execution_count": 264,
   "id": "e0b16a3b",
   "metadata": {},
   "outputs": [
    {
     "data": {
      "text/html": [
       "<div>\n",
       "<style scoped>\n",
       "    .dataframe tbody tr th:only-of-type {\n",
       "        vertical-align: middle;\n",
       "    }\n",
       "\n",
       "    .dataframe tbody tr th {\n",
       "        vertical-align: top;\n",
       "    }\n",
       "\n",
       "    .dataframe thead tr th {\n",
       "        text-align: left;\n",
       "    }\n",
       "\n",
       "    .dataframe thead tr:last-of-type th {\n",
       "        text-align: right;\n",
       "    }\n",
       "</style>\n",
       "<table border=\"1\" class=\"dataframe\">\n",
       "  <thead>\n",
       "    <tr>\n",
       "      <th></th>\n",
       "      <th colspan=\"2\" halign=\"left\">total</th>\n",
       "      <th colspan=\"2\" halign=\"left\">acertos</th>\n",
       "      <th colspan=\"2\" halign=\"left\">acuracia</th>\n",
       "    </tr>\n",
       "    <tr>\n",
       "      <th></th>\n",
       "      <th>mean</th>\n",
       "      <th>std</th>\n",
       "      <th>mean</th>\n",
       "      <th>std</th>\n",
       "      <th>mean</th>\n",
       "      <th>std</th>\n",
       "    </tr>\n",
       "    <tr>\n",
       "      <th>classes</th>\n",
       "      <th></th>\n",
       "      <th></th>\n",
       "      <th></th>\n",
       "      <th></th>\n",
       "      <th></th>\n",
       "      <th></th>\n",
       "    </tr>\n",
       "  </thead>\n",
       "  <tbody>\n",
       "    <tr>\n",
       "      <th>rotulo 0.0</th>\n",
       "      <td>49.5</td>\n",
       "      <td>5.317685</td>\n",
       "      <td>9.8</td>\n",
       "      <td>7.899367</td>\n",
       "      <td>0.189874</td>\n",
       "      <td>0.153266</td>\n",
       "    </tr>\n",
       "    <tr>\n",
       "      <th>rotulo 1.0</th>\n",
       "      <td>39.9</td>\n",
       "      <td>6.983313</td>\n",
       "      <td>5.6</td>\n",
       "      <td>4.141927</td>\n",
       "      <td>0.153809</td>\n",
       "      <td>0.129582</td>\n",
       "    </tr>\n",
       "    <tr>\n",
       "      <th>rotulo 2.0</th>\n",
       "      <td>42.4</td>\n",
       "      <td>5.699903</td>\n",
       "      <td>9.1</td>\n",
       "      <td>8.633912</td>\n",
       "      <td>0.220691</td>\n",
       "      <td>0.196599</td>\n",
       "    </tr>\n",
       "    <tr>\n",
       "      <th>rotulo 3.0</th>\n",
       "      <td>37.2</td>\n",
       "      <td>4.732864</td>\n",
       "      <td>2.2</td>\n",
       "      <td>2.149935</td>\n",
       "      <td>0.057244</td>\n",
       "      <td>0.055483</td>\n",
       "    </tr>\n",
       "  </tbody>\n",
       "</table>\n",
       "</div>"
      ],
      "text/plain": [
       "           total           acertos            acuracia          \n",
       "            mean       std    mean       std      mean       std\n",
       "classes                                                         \n",
       "rotulo 0.0  49.5  5.317685     9.8  7.899367  0.189874  0.153266\n",
       "rotulo 1.0  39.9  6.983313     5.6  4.141927  0.153809  0.129582\n",
       "rotulo 2.0  42.4  5.699903     9.1  8.633912  0.220691  0.196599\n",
       "rotulo 3.0  37.2  4.732864     2.2  2.149935  0.057244  0.055483"
      ]
     },
     "execution_count": null,
     "metadata": {},
     "output_type": "execute_result"
    }
   ],
   "source": [
    "trat_dfs_acu_por_classe(result_log_df)"
   ]
  },
  {
   "cell_type": "code",
   "execution_count": 265,
   "id": "f7d62317",
   "metadata": {},
   "outputs": [
    {
     "data": {
      "text/html": [
       "<div>\n",
       "<style scoped>\n",
       "    .dataframe tbody tr th:only-of-type {\n",
       "        vertical-align: middle;\n",
       "    }\n",
       "\n",
       "    .dataframe tbody tr th {\n",
       "        vertical-align: top;\n",
       "    }\n",
       "\n",
       "    .dataframe thead tr th {\n",
       "        text-align: left;\n",
       "    }\n",
       "\n",
       "    .dataframe thead tr:last-of-type th {\n",
       "        text-align: right;\n",
       "    }\n",
       "</style>\n",
       "<table border=\"1\" class=\"dataframe\">\n",
       "  <thead>\n",
       "    <tr>\n",
       "      <th></th>\n",
       "      <th colspan=\"2\" halign=\"left\">total</th>\n",
       "      <th colspan=\"2\" halign=\"left\">acertos</th>\n",
       "      <th colspan=\"2\" halign=\"left\">acuracia</th>\n",
       "    </tr>\n",
       "    <tr>\n",
       "      <th></th>\n",
       "      <th>mean</th>\n",
       "      <th>std</th>\n",
       "      <th>mean</th>\n",
       "      <th>std</th>\n",
       "      <th>mean</th>\n",
       "      <th>std</th>\n",
       "    </tr>\n",
       "    <tr>\n",
       "      <th>classes</th>\n",
       "      <th></th>\n",
       "      <th></th>\n",
       "      <th></th>\n",
       "      <th></th>\n",
       "      <th></th>\n",
       "      <th></th>\n",
       "    </tr>\n",
       "  </thead>\n",
       "  <tbody>\n",
       "    <tr>\n",
       "      <th>rotulo 0.0</th>\n",
       "      <td>48.0</td>\n",
       "      <td>3.496029</td>\n",
       "      <td>46.2</td>\n",
       "      <td>4.184628</td>\n",
       "      <td>0.961683</td>\n",
       "      <td>0.030697</td>\n",
       "    </tr>\n",
       "    <tr>\n",
       "      <th>rotulo 1.0</th>\n",
       "      <td>38.9</td>\n",
       "      <td>5.130519</td>\n",
       "      <td>25.2</td>\n",
       "      <td>6.178817</td>\n",
       "      <td>0.639464</td>\n",
       "      <td>0.080535</td>\n",
       "    </tr>\n",
       "    <tr>\n",
       "      <th>rotulo 2.0</th>\n",
       "      <td>44.0</td>\n",
       "      <td>4.422166</td>\n",
       "      <td>25.2</td>\n",
       "      <td>4.104198</td>\n",
       "      <td>0.570541</td>\n",
       "      <td>0.048902</td>\n",
       "    </tr>\n",
       "    <tr>\n",
       "      <th>rotulo 3.0</th>\n",
       "      <td>38.1</td>\n",
       "      <td>5.043147</td>\n",
       "      <td>36.3</td>\n",
       "      <td>5.292552</td>\n",
       "      <td>0.951901</td>\n",
       "      <td>0.037577</td>\n",
       "    </tr>\n",
       "  </tbody>\n",
       "</table>\n",
       "</div>"
      ],
      "text/plain": [
       "           total           acertos            acuracia          \n",
       "            mean       std    mean       std      mean       std\n",
       "classes                                                         \n",
       "rotulo 0.0  48.0  3.496029    46.2  4.184628  0.961683  0.030697\n",
       "rotulo 1.0  38.9  5.130519    25.2  6.178817  0.639464  0.080535\n",
       "rotulo 2.0  44.0  4.422166    25.2  4.104198  0.570541  0.048902\n",
       "rotulo 3.0  38.1  5.043147    36.3  5.292552  0.951901  0.037577"
      ]
     },
     "execution_count": null,
     "metadata": {},
     "output_type": "execute_result"
    }
   ],
   "source": [
    "trat_dfs_acu_por_classe(result_adg_df)"
   ]
  },
  {
   "cell_type": "code",
   "execution_count": 266,
   "id": "a4d59ccf",
   "metadata": {},
   "outputs": [
    {
     "data": {
      "text/html": [
       "<div>\n",
       "<style scoped>\n",
       "    .dataframe tbody tr th:only-of-type {\n",
       "        vertical-align: middle;\n",
       "    }\n",
       "\n",
       "    .dataframe tbody tr th {\n",
       "        vertical-align: top;\n",
       "    }\n",
       "\n",
       "    .dataframe thead tr th {\n",
       "        text-align: left;\n",
       "    }\n",
       "\n",
       "    .dataframe thead tr:last-of-type th {\n",
       "        text-align: right;\n",
       "    }\n",
       "</style>\n",
       "<table border=\"1\" class=\"dataframe\">\n",
       "  <thead>\n",
       "    <tr>\n",
       "      <th></th>\n",
       "      <th colspan=\"2\" halign=\"left\">total</th>\n",
       "      <th colspan=\"2\" halign=\"left\">acertos</th>\n",
       "      <th colspan=\"2\" halign=\"left\">acuracia</th>\n",
       "    </tr>\n",
       "    <tr>\n",
       "      <th></th>\n",
       "      <th>mean</th>\n",
       "      <th>std</th>\n",
       "      <th>mean</th>\n",
       "      <th>std</th>\n",
       "      <th>mean</th>\n",
       "      <th>std</th>\n",
       "    </tr>\n",
       "    <tr>\n",
       "      <th>classes</th>\n",
       "      <th></th>\n",
       "      <th></th>\n",
       "      <th></th>\n",
       "      <th></th>\n",
       "      <th></th>\n",
       "      <th></th>\n",
       "    </tr>\n",
       "  </thead>\n",
       "  <tbody>\n",
       "    <tr>\n",
       "      <th>rotulo 0.0</th>\n",
       "      <td>45.7</td>\n",
       "      <td>5.250397</td>\n",
       "      <td>1.2</td>\n",
       "      <td>1.398412</td>\n",
       "      <td>0.026649</td>\n",
       "      <td>0.032548</td>\n",
       "    </tr>\n",
       "    <tr>\n",
       "      <th>rotulo 1.0</th>\n",
       "      <td>42.9</td>\n",
       "      <td>4.357624</td>\n",
       "      <td>23.8</td>\n",
       "      <td>7.509993</td>\n",
       "      <td>0.558284</td>\n",
       "      <td>0.172950</td>\n",
       "    </tr>\n",
       "    <tr>\n",
       "      <th>rotulo 2.0</th>\n",
       "      <td>41.4</td>\n",
       "      <td>6.586181</td>\n",
       "      <td>5.1</td>\n",
       "      <td>5.896327</td>\n",
       "      <td>0.129820</td>\n",
       "      <td>0.148219</td>\n",
       "    </tr>\n",
       "    <tr>\n",
       "      <th>rotulo 3.0</th>\n",
       "      <td>39.0</td>\n",
       "      <td>6.200358</td>\n",
       "      <td>36.0</td>\n",
       "      <td>5.228129</td>\n",
       "      <td>0.925644</td>\n",
       "      <td>0.042073</td>\n",
       "    </tr>\n",
       "  </tbody>\n",
       "</table>\n",
       "</div>"
      ],
      "text/plain": [
       "           total           acertos            acuracia          \n",
       "            mean       std    mean       std      mean       std\n",
       "classes                                                         \n",
       "rotulo 0.0  45.7  5.250397     1.2  1.398412  0.026649  0.032548\n",
       "rotulo 1.0  42.9  4.357624    23.8  7.509993  0.558284  0.172950\n",
       "rotulo 2.0  41.4  6.586181     5.1  5.896327  0.129820  0.148219\n",
       "rotulo 3.0  39.0  6.200358    36.0  5.228129  0.925644  0.042073"
      ]
     },
     "execution_count": null,
     "metadata": {},
     "output_type": "execute_result"
    }
   ],
   "source": [
    "trat_dfs_acu_por_classe(result_naive_df)"
   ]
  }
 ],
 "metadata": {
  "language_info": {
   "name": "python"
  }
 },
 "nbformat": 4,
 "nbformat_minor": 5
}
