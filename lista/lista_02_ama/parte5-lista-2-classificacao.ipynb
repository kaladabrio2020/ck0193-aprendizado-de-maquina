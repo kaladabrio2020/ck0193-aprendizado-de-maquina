{
 "cells": [
  {
   "cell_type": "code",
   "execution_count": 1,
   "id": "cc7bd456",
   "metadata": {},
   "outputs": [],
   "source": [
    "from pyprind.progbar import ProgBar\n",
    "import numpy as np\n",
    "import seaborn as sns\n",
    "import matplotlib.pyplot as plt\n",
    "import pandas as pd"
   ]
  },
  {
   "cell_type": "markdown",
   "id": "2d7776e6",
   "metadata": {},
   "source": [
    "### Algoritmos "
   ]
  },
  {
   "cell_type": "code",
   "execution_count": 2,
   "id": "02123803",
   "metadata": {},
   "outputs": [],
   "source": [
    "class regressao_logistica:\n",
    "    def __init__(self, X, y, tipo='gradiente', epochs=1_00, learning_rate=0.01, salvar_processo=False):\n",
    "        # Adicionando a coluna interceptor\n",
    "        self.X_ = np.c_[ np.ones(shape=(X.shape[0], 1), dtype=np.float32), X]\n",
    "\n",
    "\n",
    "        # Tipo de alg usado\n",
    "        self.tipo   = tipo\n",
    "\n",
    "        # Caso seja de multiclasse muda a estrategia\n",
    "        self.multiclasse = True if len(np.unique(y))>2 else False\n",
    "        self.epochs = epochs\n",
    "        self.learning_rate = learning_rate\n",
    "        self.salvar_processo = salvar_processo\n",
    "\n",
    "        if self.multiclasse:\n",
    "            self.classes = np.unique(y)\n",
    "            self.coeficientes = np.random.rand( len(self.classes), self.X_.shape[1])\n",
    "        else:\n",
    "            self.coeficientes  = np.random.rand(1, self.X_.shape[1])\n",
    "\n",
    "\n",
    "        # Fazendo reshape na target caso necessario\n",
    "        self.y  = y.reshape(-1, 1) if len(y.shape) == 1 else y\n",
    "\n",
    "        #Se for multiclasse é feito o one hot encoding\n",
    "        if self.multiclasse and self.y.shape[1] == 1:\n",
    "            onehot = np.zeros((self.X_.shape[0], len(self.classes)))\n",
    "            for i, c in enumerate(self.classes):\n",
    "                onehot[:, i] = (self.y.ravel() == c).astype(float)\n",
    "            self.y = onehot\n",
    "\n",
    "    def ajuste(self):\n",
    "        match self.tipo:\n",
    "            case 'gradiente': \n",
    "                self.gradiente()\n",
    "            case _: \n",
    "                self.gradiente()\n",
    "    \n",
    "    def gradiente(self):\n",
    "        progbar = ProgBar(self.epochs, title='Treinando modelo - gradiente', stream=1)\n",
    "        self.processo = []\n",
    "        M = self.X_.shape[0]\n",
    "        for epoch in range(self.epochs):\n",
    "            # Faz a predição com base se é multiclasses ou não\n",
    "            pred = self.predicao_ajuste(self.X_)\n",
    "\n",
    "            # Caso seja multiclasse usará a função softmax caso contrario a sigmoid\n",
    "            pred = self.sigmoid(pred) if not(self.multiclasse) else self.softmax(pred)  \n",
    "\n",
    "            grad = self.learning_rate * ((1/M) * (self.y - pred).T.dot(self.X_))\n",
    "\n",
    "            self.coeficientes -= grad\n",
    "\n",
    "            perda = self.cross_entropy(pred)\n",
    "\n",
    "            progbar.update(1, item_id=f'Epoch {epoch} - perda {perda:.4f}')\n",
    "            if self.salvar_processo: \n",
    "                self.processo.append( perda )\n",
    "    \n",
    " \n",
    "    def cross_entropy(self, pred):\n",
    "        return -1*np.mean(\n",
    "            self.y * np.log1p(pred) + ( 1 - self.y ) * np.log1p(1 -  pred)\n",
    "        )\n",
    "\n",
    "    # Função sigmoid\n",
    "    def sigmoid(self, x):\n",
    "        return 1 / (1 + np.exp(-x))\n",
    "\n",
    "    # Função sofmax para multiclasses\n",
    "    def softmax(self, x):\n",
    "        exp_x = np.exp(x - np.max(x, axis=1, keepdims=True))\n",
    "        return exp_x / np.sum(exp_x, axis=1, keepdims=True)\n",
    "    \n",
    "    def predicao_ajuste(self, x):\n",
    "        return np.dot(x, self.coeficientes.T)\n",
    "\n",
    "    def predicao(self, x):\n",
    "        M = x.shape[0]\n",
    "        x_ = np.c_[ np.ones(shape=(M, 1), dtype=np.float32), x]\n",
    "\n",
    "        if self.multiclasse:\n",
    "            return np.argmax(self.softmax(np.dot(x_,self.coeficientes.T)), axis=1).reshape(-1, 1)\n",
    "            \n",
    "        return self.sigmoid(np.dot(x_,self.coeficientes.T))\n"
   ]
  },
  {
   "cell_type": "markdown",
   "id": "8769ddb6",
   "metadata": {},
   "source": [
    "`Gassian`"
   ]
  },
  {
   "cell_type": "code",
   "execution_count": 3,
   "id": "bc788782",
   "metadata": {},
   "outputs": [],
   "source": [
    "class Gaussian:\n",
    "    def __init__(self, X, y):\n",
    "        self.X = X\n",
    "        self.y = y\n",
    "        self.classes = np.unique(y)\n",
    "        # Quantidade de classes, instancias e colunas sucessivamente\n",
    "        self.S = len(self.classes)\n",
    "        self.N = self.X.shape[0]\n",
    "        self.M = self.X.shape[1]\n",
    "\n",
    "    def ajuste(self):\n",
    "        # Cria uma array para guardar objetos [omega e pi]\n",
    "        self.omega_pi = np.empty((self.S, self.S), dtype=object)\n",
    "        self.sigma = np.zeros((self.M, self.M))\n",
    "        for c in range(self.S):\n",
    "\n",
    "            # Seleciona o array contendo uma respetiva classe\n",
    "            sub_x = self.X[np.hstack(self.y == c), :] \n",
    "\n",
    "            # Calcula omega e pi\n",
    "            self.omega_pi[c, 0] = len(sub_x)/self.N\n",
    "            self.omega_pi[c, 1] = np.mean(sub_x, axis=0)\n",
    "        \n",
    "            sub_x = self.X[np.hstack(self.y == c), :]\n",
    "            self.sigma += (sub_x - self.omega_pi[c, 1]).T.dot( (sub_x - self.omega_pi[c, 1]) )\n",
    "            \n",
    "\n",
    "        self.sigma = self.sigma/self.N \n",
    "        self.sigma_inv = np.linalg.inv(self.sigma)  \n",
    "        return self\n",
    "    \n",
    "    def predicao(self, x):      \n",
    "        deltas = []\n",
    "        for c in range(self.S):\n",
    "            pi_c = self.omega_pi[c, 0]\n",
    "            om_c = self.omega_pi[c, 1]\n",
    "\n",
    "            parte_1 = x @ self.sigma_inv @ om_c \n",
    "            parte_2 = 0.5 * om_c.T @ self.sigma_inv @ om_c + np.log(pi_c)\n",
    "            \n",
    "            delta = parte_1 - parte_2\n",
    "            deltas.append(delta)\n",
    "\n",
    "        deltas = np.array(deltas) \n",
    "        pred = np.array(self.classes[np.argmax(deltas, axis=0)])\n",
    "        return pred.reshape(-1, 1)\n"
   ]
  },
  {
   "cell_type": "markdown",
   "id": "6a6cca92",
   "metadata": {},
   "source": [
    "`Naive bayes`"
   ]
  },
  {
   "cell_type": "code",
   "execution_count": 4,
   "id": "45357a41",
   "metadata": {},
   "outputs": [],
   "source": [
    "class NaiveBayesGaussiano:\n",
    "    def __init__(self, X, y):\n",
    "        self.X = X\n",
    "        self.y = y\n",
    "        \n",
    "        self.classes = np.unique(y)\n",
    "        # Quantidade de classes, instancias e colunas sucessivamente\n",
    "        self.S = len(self.classes)  \n",
    "        self.N = self.X.shape[0]    \n",
    "        self.M = self.X.shape[1]\n",
    "    \n",
    "    def ajuste(self):\n",
    "        # Cria uma array para guardar objetos [omega e pi]\n",
    "        self.omega_pi = np.empty((self.S, 2), dtype=object)\n",
    "        self.sigma_diag = np.zeros((self.S, self.M))\n",
    "        for c in range(self.S):\n",
    "            # Seleciona o array contendo uma respetiva classe\n",
    "            sub_x = self.X[np.hstack(self.y == self.classes[c]), :]\n",
    "            N_k = len(sub_x)\n",
    "            \n",
    "            # PI = N_k / N\n",
    "            self.omega_pi[c, 0] = N_k / self.N\n",
    "            \n",
    "            # omega_dk = MEAN(x_id)\n",
    "            self.omega_pi[c, 1] = np.mean(sub_x, axis=0)\n",
    "            \n",
    "            # Variância diagonal\n",
    "            self.sigma_diag[c, :] = np.var(sub_x, axis=0, ddof=0)\n",
    "\n",
    "        return self\n",
    "            \n",
    "          \n",
    "\n",
    "    def predicao(self, x):\n",
    "\n",
    "        deltas = []\n",
    "        \n",
    "        for c in range(self.S):\n",
    "            pi_c = self.omega_pi[c, 0]  \n",
    "            om_c = self.omega_pi[c, 1]  \n",
    "            var_c = self.sigma_diag[c, :] \n",
    "          \n",
    "            # parte 1\n",
    "            parte_1 = np.sum(x * om_c / var_c, axis=1) - 0.5 * np.sum(om_c**2 / var_c)\n",
    "            \n",
    "            # parte 2\n",
    "            parte_2 = 0.5 * np.sum(np.log(2 * np.pi * var_c)) - np.log(pi_c)\n",
    "            \n",
    "            deltas.append(parte_1 - parte_2)\n",
    "        deltas = np.array(deltas)\n",
    "        \n",
    "        pred =  np.array(self.classes[np.argmax(deltas, axis=0)])\n",
    "\n",
    "        return pred.reshape(-1, 1)"
   ]
  },
  {
   "cell_type": "markdown",
   "id": "e01cf4d4",
   "metadata": {},
   "source": [
    "`Metricas`"
   ]
  },
  {
   "cell_type": "markdown",
   "id": "71d796a6",
   "metadata": {},
   "source": [
    "As funções calcula a acuracia global e por classe"
   ]
  },
  {
   "cell_type": "code",
   "execution_count": 5,
   "id": "40e69ffc",
   "metadata": {},
   "outputs": [],
   "source": [
    "def acuracia(ytrue, ypred):\n",
    "    return np.divide((ytrue == ypred).astype(int).sum(), ytrue.shape[0])\n",
    "\n",
    "def acuracia_por_classe(ytrue, ypred):\n",
    "    dicionario = { 'classes':[],  'total':[], 'acertos':[], 'acuracia':[] }\n",
    "\n",
    "    for i in np.unique(ytrue, sorted=True):\n",
    "        acertos = np.sum((ytrue == i) & (ypred == i))\n",
    "        total   = np.sum(ytrue == i)\n",
    "        \n",
    "        acuracia_i = round(acertos / total, 5)\n",
    "\n",
    "        dicionario['classes'].append(f'rotulo {i}')\n",
    "        dicionario['total'].append(total)\n",
    "        dicionario['acertos'].append(acertos)\n",
    "        dicionario['acuracia'].append(acuracia_i)\n",
    "\n",
    "    \n",
    "    result = pd.DataFrame(dicionario)\n",
    "    return result.set_index('classes')"
   ]
  },
  {
   "cell_type": "markdown",
   "id": "1b7edc1d",
   "metadata": {},
   "source": [
    "Função abaixo dividi dados de treino e teste"
   ]
  },
  {
   "cell_type": "code",
   "execution_count": 6,
   "id": "22464e10",
   "metadata": {},
   "outputs": [],
   "source": [
    "def train_test(X, y, test_size = 0.2, seed=1):\n",
    "    rnd = np.random.RandomState(seed)\n",
    "\n",
    "    index = np.arange(X.shape[0])\n",
    "    rnd.shuffle(index)\n",
    "    test_index = index[:int(X.shape[0] * test_size)]\n",
    "    train_index = index[int(X.shape[0] * test_size):]\n",
    "\n",
    "    xtest = X[test_index]\n",
    "    ytest = y[test_index]\n",
    "\n",
    "    xtrain = X[train_index]\n",
    "    ytrain = y[train_index]\n",
    "\n",
    "    return xtrain, ytrain, xtest, ytest"
   ]
  },
  {
   "cell_type": "markdown",
   "id": "786740a2",
   "metadata": {},
   "source": [
    "Verficia a media e desvio padrão da acucaria por classe"
   ]
  },
  {
   "cell_type": "code",
   "execution_count": 7,
   "id": "6d0cc3d2",
   "metadata": {},
   "outputs": [],
   "source": [
    "def trat_dfs_acu_por_classe(result):\n",
    "    dfs = [df for sublist in result for df in sublist]\n",
    "\n",
    "    for i, df in enumerate(dfs):\n",
    "        df['fold'] = i + 1\n",
    "\n",
    "    df_geral = pd.concat(dfs).reset_index()\n",
    "    return df_geral.groupby('classes')[['total','acertos','acuracia']].agg(['mean', 'std'])"
   ]
  },
  {
   "cell_type": "markdown",
   "id": "bc2b5277",
   "metadata": {},
   "source": [
    "&nbsp;"
   ]
  },
  {
   "cell_type": "markdown",
   "id": "36fce5ef",
   "metadata": {},
   "source": [
    "---------------"
   ]
  },
  {
   "cell_type": "markdown",
   "id": "f0fdc82c",
   "metadata": {},
   "source": [
    "# Questão 1"
   ]
  },
  {
   "cell_type": "code",
   "execution_count": 8,
   "id": "b87a603f",
   "metadata": {},
   "outputs": [],
   "source": [
    "from sklearn.preprocessing import StandardScaler"
   ]
  },
  {
   "cell_type": "markdown",
   "id": "1b9940f8",
   "metadata": {},
   "source": [
    "Considere o conjunto de dados disponível em breastcancer.csv, organizado em 31 colunas, sendo as 30 primeiras colunas os atributos e a última coluna a saída. Os 30 atributos coletados de exames médicos são usados no diagnóstico do câncer de mama, sendo 1 a classe positiva e 0 a classe negativa. Maiores detalhes sobre os dados podem ser conferidos em https://scikit-learn.org/stable/datasets/toy_dataset.html#breast-cancer-dataset."
   ]
  },
  {
   "cell_type": "code",
   "execution_count": 9,
   "id": "331a94f5",
   "metadata": {},
   "outputs": [
    {
     "data": {
      "text/plain": [
       "(569, 31)"
      ]
     },
     "execution_count": null,
     "metadata": {},
     "output_type": "execute_result"
    }
   ],
   "source": [
    "# Lendo arquivo\n",
    "breast = np.loadtxt(fname='dataset\\\\breastcancer.csv', delimiter=',')\n",
    "breast.shape"
   ]
  },
  {
   "cell_type": "code",
   "execution_count": 10,
   "id": "651621be",
   "metadata": {},
   "outputs": [],
   "source": [
    "X = breast[:, :30].astype(np.float32)\n",
    "X_scalery = breast[:, -1].astype(np.float32).reshape(-1, 1)"
   ]
  },
  {
   "cell_type": "code",
   "execution_count": 11,
   "id": "cb868d1f",
   "metadata": {},
   "outputs": [],
   "source": [
    "y = breast[:, 30:].astype(np.float32)"
   ]
  },
  {
   "cell_type": "code",
   "execution_count": 12,
   "id": "11bf91b7",
   "metadata": {},
   "outputs": [],
   "source": [
    "scaler = StandardScaler()\n",
    "X_scaler = scaler.fit_transform(X)"
   ]
  },
  {
   "cell_type": "code",
   "execution_count": 13,
   "id": "1879b357",
   "metadata": {},
   "outputs": [],
   "source": [
    "xtrain, ytrain, xtest, ytest = train_test(X_scaler, y)"
   ]
  },
  {
   "cell_type": "code",
   "execution_count": 14,
   "id": "abd7d901",
   "metadata": {},
   "outputs": [
    {
     "data": {
      "text/plain": [
       "((456, 1), (456, 30))"
      ]
     },
     "execution_count": null,
     "metadata": {},
     "output_type": "execute_result"
    }
   ],
   "source": [
    "ytrain.shape, xtrain.shape"
   ]
  },
  {
   "cell_type": "markdown",
   "id": "e1ebd675",
   "metadata": {},
   "source": [
    "## a. Considerando uma validação cruzada em 10 folds, avalie modelos de classificação binária nos dados em questão. Para tanto, use as abordagens abaixo:"
   ]
  },
  {
   "cell_type": "code",
   "execution_count": 15,
   "id": "81e6f331",
   "metadata": {},
   "outputs": [],
   "source": [
    "def folds(X, y, modelo, test_size=0.25, k=10, metrics=[], metrics_df=[]):\n",
    "    metrics_list = []\n",
    "    metrics_list_df = []\n",
    "    for i in range(k):\n",
    "        xtrain_fold, ytrain_fold, xtest_fold, ytest_fold = train_test(X, y, test_size, seed=None)\n",
    "\n",
    "        model = modelo(xtrain_fold, ytrain_fold)\n",
    "        model.ajuste()\n",
    "\n",
    "        pred = model.predicao(xtest_fold)\n",
    "        \n",
    "        pred = (pred >= 0.5).astype(int) if not(np.any(pred.astype(int)==1)) else pred\n",
    "        \n",
    "        metrics_list.append([i(ytest_fold, pred) for i in metrics])\n",
    "        metrics_list_df.append([i(ytest_fold, pred) for i in metrics_df])\n",
    "    \n",
    "    return metrics_list, metrics_list_df"
   ]
  },
  {
   "cell_type": "markdown",
   "id": "36838c57",
   "metadata": {},
   "source": [
    "`Logistica GD`"
   ]
  },
  {
   "cell_type": "code",
   "execution_count": 16,
   "id": "0755ef57",
   "metadata": {},
   "outputs": [
    {
     "name": "stdout",
     "output_type": "stream",
     "text": [
      "Treinando modelo - gradiente\n",
      "0% [##############################] 100% | ETA: 00:00:00 | Item ID: Epoch 99 - perda -0.6111\n",
      "Total time elapsed: 00:00:00\n",
      "Treinando modelo - gradiente\n",
      "0% [##############################] 100% | ETA: 00:00:00 | Item ID: Epoch 99 - perda -0.5944\n",
      "Total time elapsed: 00:00:00\n",
      "Treinando modelo - gradiente\n",
      "0% [##############################] 100% | ETA: 00:00:00 | Item ID: Epoch 99 - perda -0.6032\n",
      "Total time elapsed: 00:00:00\n",
      "Treinando modelo - gradiente\n",
      "0% [##############################] 100% | ETA: 00:00:00 | Item ID: Epoch 99 - perda -0.6000\n",
      "Total time elapsed: 00:00:00\n",
      "Treinando modelo - gradiente\n",
      "0% [##############################] 100% | ETA: 00:00:00 | Item ID: Epoch 99 - perda -0.6182\n",
      "Total time elapsed: 00:00:00\n",
      "Treinando modelo - gradiente\n",
      "0% [##############################] 100% | ETA: 00:00:00 | Item ID: Epoch 99 - perda -0.6034\n",
      "Total time elapsed: 00:00:00\n",
      "Treinando modelo - gradiente\n",
      "0% [##############################] 100% | ETA: 00:00:00 | Item ID: Epoch 99 - perda -0.6211\n",
      "Total time elapsed: 00:00:00\n",
      "Treinando modelo - gradiente\n",
      "0% [##############################] 100% | ETA: 00:00:00 | Item ID: Epoch 99 - perda -0.5305\n",
      "Total time elapsed: 00:00:00\n",
      "Treinando modelo - gradiente\n",
      "0% [##############################] 100% | ETA: 00:00:00 | Item ID: Epoch 99 - perda -0.5974\n",
      "Total time elapsed: 00:00:00\n",
      "Treinando modelo - gradiente\n",
      "0% [##############################] 100% | ETA: 00:00:00 | Item ID: Epoch 99 - perda -0.6105\n",
      "Total time elapsed: 00:00:00\n"
     ]
    }
   ],
   "source": [
    "result_log, result_log_df = folds(xtrain, ytrain, regressao_logistica, metrics=[acuracia], metrics_df=[acuracia_por_classe])"
   ]
  },
  {
   "cell_type": "markdown",
   "id": "458c7275",
   "metadata": {},
   "source": [
    "`gaussiano`"
   ]
  },
  {
   "cell_type": "code",
   "execution_count": 17,
   "id": "46032456",
   "metadata": {},
   "outputs": [],
   "source": [
    "result_adg, result_adg_df  = folds(xtrain, ytrain, Gaussian, metrics=[acuracia], metrics_df=[acuracia_por_classe])"
   ]
  },
  {
   "cell_type": "markdown",
   "id": "eef0b3f3",
   "metadata": {},
   "source": [
    "`Naive bayes`"
   ]
  },
  {
   "cell_type": "code",
   "execution_count": 18,
   "id": "0a5ae55d",
   "metadata": {},
   "outputs": [],
   "source": [
    "result_naive,  result_naive_df = folds(xtrain, ytrain, NaiveBayesGaussiano, metrics=[acuracia], metrics_df=[acuracia_por_classe])"
   ]
  },
  {
   "cell_type": "markdown",
   "id": "4e9b2d7a",
   "metadata": {},
   "source": [
    "## b) Para cada modelo criado, reporte valor médio e desvio padrão da acurácia global e da acurácia por classe."
   ]
  },
  {
   "cell_type": "markdown",
   "id": "045a991c",
   "metadata": {},
   "source": [
    "### Acuracia"
   ]
  },
  {
   "cell_type": "code",
   "execution_count": 19,
   "id": "0bfc2259",
   "metadata": {},
   "outputs": [
    {
     "data": {
      "image/png": "[encoded data removed]",
      "text/plain": [
       "<Figure size 640x480 with 1 Axes>"
      ]
     },
     "metadata": {},
     "output_type": "display_data"
    }
   ],
   "source": [
    "plt.plot(result_log, label='Logistica')\n",
    "plt.plot(result_adg, label='Análise do discriminante Gaussiano')\n",
    "plt.plot(result_naive, label='Naive Bayes')\n",
    "plt.legend()\n",
    "plt.show()"
   ]
  },
  {
   "cell_type": "code",
   "execution_count": 20,
   "id": "60bf15cd",
   "metadata": {},
   "outputs": [
    {
     "data": {
      "text/html": [
       "<div>\n",
       "<style scoped>\n",
       "    .dataframe tbody tr th:only-of-type {\n",
       "        vertical-align: middle;\n",
       "    }\n",
       "\n",
       "    .dataframe tbody tr th {\n",
       "        vertical-align: top;\n",
       "    }\n",
       "\n",
       "    .dataframe thead th {\n",
       "        text-align: right;\n",
       "    }\n",
       "</style>\n",
       "<table border=\"1\" class=\"dataframe\">\n",
       "  <thead>\n",
       "    <tr style=\"text-align: right;\">\n",
       "      <th></th>\n",
       "      <th>Logistica</th>\n",
       "      <th>Análise do discriminante Gaussiano</th>\n",
       "      <th>Naive Bayes</th>\n",
       "    </tr>\n",
       "  </thead>\n",
       "  <tbody>\n",
       "    <tr>\n",
       "      <th>Média</th>\n",
       "      <td>0.535965</td>\n",
       "      <td>0.952632</td>\n",
       "      <td>0.928070</td>\n",
       "    </tr>\n",
       "    <tr>\n",
       "      <th>Desvio Padrão</th>\n",
       "      <td>0.431102</td>\n",
       "      <td>0.014253</td>\n",
       "      <td>0.020684</td>\n",
       "    </tr>\n",
       "  </tbody>\n",
       "</table>\n",
       "</div>"
      ],
      "text/plain": [
       "               Logistica  Análise do discriminante Gaussiano  Naive Bayes\n",
       "Média           0.535965                            0.952632     0.928070\n",
       "Desvio Padrão   0.431102                            0.014253     0.020684"
      ]
     },
     "execution_count": null,
     "metadata": {},
     "output_type": "execute_result"
    }
   ],
   "source": [
    "results = pd.DataFrame({\n",
    "    'Logistica':[ np.mean(result_log),np.std(result_log)],\n",
    "    'Análise do discriminante Gaussiano':[ np.mean(result_adg),  np.std(result_adg)],\n",
    "    'Naive Bayes':[np.mean(result_naive), np.std(result_naive)],\n",
    "}, index=['Média', 'Desvio Padrão'])\n",
    "\n",
    "results"
   ]
  },
  {
   "cell_type": "code",
   "execution_count": 21,
   "id": "92094da9",
   "metadata": {},
   "outputs": [
    {
     "data": {
      "image/png": "[encoded data removed]",
      "text/plain": [
       "<Figure size 1200x600 with 1 Axes>"
      ]
     },
     "metadata": {},
     "output_type": "display_data"
    }
   ],
   "source": [
    "results_melt = results.reset_index().melt(id_vars='index', var_name='Modelo', value_name='Valor')\n",
    "\n",
    "plt.figure(figsize=(12, 6))\n",
    "ax = sns.barplot(data=results_melt, x='Modelo', y='Valor', hue='index')\n",
    "\n",
    "for p in ax.patches:\n",
    "    valor = p.get_height()\n",
    "    ax.text(\n",
    "        p.get_x() + p.get_width()/2, valor + 0.002,\n",
    "        f'{valor:.3f}',\n",
    "        ha='center', va='bottom', fontsize=12, fontweight='bold'\n",
    "    )\n",
    "    \n",
    "plt.show()"
   ]
  },
  {
   "cell_type": "markdown",
   "id": "d8e7f97c",
   "metadata": {},
   "source": [
    "### Acuracia por classe"
   ]
  },
  {
   "cell_type": "code",
   "execution_count": 22,
   "id": "0dfb9d6d",
   "metadata": {},
   "outputs": [
    {
     "data": {
      "text/html": [
       "<div>\n",
       "<style scoped>\n",
       "    .dataframe tbody tr th:only-of-type {\n",
       "        vertical-align: middle;\n",
       "    }\n",
       "\n",
       "    .dataframe tbody tr th {\n",
       "        vertical-align: top;\n",
       "    }\n",
       "\n",
       "    .dataframe thead tr th {\n",
       "        text-align: left;\n",
       "    }\n",
       "\n",
       "    .dataframe thead tr:last-of-type th {\n",
       "        text-align: right;\n",
       "    }\n",
       "</style>\n",
       "<table border=\"1\" class=\"dataframe\">\n",
       "  <thead>\n",
       "    <tr>\n",
       "      <th></th>\n",
       "      <th colspan=\"2\" halign=\"left\">total</th>\n",
       "      <th colspan=\"2\" halign=\"left\">acertos</th>\n",
       "      <th colspan=\"2\" halign=\"left\">acuracia</th>\n",
       "    </tr>\n",
       "    <tr>\n",
       "      <th></th>\n",
       "      <th>mean</th>\n",
       "      <th>std</th>\n",
       "      <th>mean</th>\n",
       "      <th>std</th>\n",
       "      <th>mean</th>\n",
       "      <th>std</th>\n",
       "    </tr>\n",
       "    <tr>\n",
       "      <th>classes</th>\n",
       "      <th></th>\n",
       "      <th></th>\n",
       "      <th></th>\n",
       "      <th></th>\n",
       "      <th></th>\n",
       "      <th></th>\n",
       "    </tr>\n",
       "  </thead>\n",
       "  <tbody>\n",
       "    <tr>\n",
       "      <th>rotulo 0.0</th>\n",
       "      <td>71.0</td>\n",
       "      <td>3.399346</td>\n",
       "      <td>37.5</td>\n",
       "      <td>32.585784</td>\n",
       "      <td>0.525027</td>\n",
       "      <td>0.453601</td>\n",
       "    </tr>\n",
       "    <tr>\n",
       "      <th>rotulo 1.0</th>\n",
       "      <td>43.0</td>\n",
       "      <td>3.399346</td>\n",
       "      <td>23.6</td>\n",
       "      <td>19.693202</td>\n",
       "      <td>0.552434</td>\n",
       "      <td>0.457094</td>\n",
       "    </tr>\n",
       "  </tbody>\n",
       "</table>\n",
       "</div>"
      ],
      "text/plain": [
       "           total           acertos             acuracia          \n",
       "            mean       std    mean        std      mean       std\n",
       "classes                                                          \n",
       "rotulo 0.0  71.0  3.399346    37.5  32.585784  0.525027  0.453601\n",
       "rotulo 1.0  43.0  3.399346    23.6  19.693202  0.552434  0.457094"
      ]
     },
     "execution_count": null,
     "metadata": {},
     "output_type": "execute_result"
    }
   ],
   "source": [
    "trat_dfs_acu_por_classe(result_log_df)"
   ]
  },
  {
   "cell_type": "code",
   "execution_count": 23,
   "id": "a0027eda",
   "metadata": {},
   "outputs": [
    {
     "data": {
      "text/html": [
       "<div>\n",
       "<style scoped>\n",
       "    .dataframe tbody tr th:only-of-type {\n",
       "        vertical-align: middle;\n",
       "    }\n",
       "\n",
       "    .dataframe tbody tr th {\n",
       "        vertical-align: top;\n",
       "    }\n",
       "\n",
       "    .dataframe thead tr th {\n",
       "        text-align: left;\n",
       "    }\n",
       "\n",
       "    .dataframe thead tr:last-of-type th {\n",
       "        text-align: right;\n",
       "    }\n",
       "</style>\n",
       "<table border=\"1\" class=\"dataframe\">\n",
       "  <thead>\n",
       "    <tr>\n",
       "      <th></th>\n",
       "      <th colspan=\"2\" halign=\"left\">total</th>\n",
       "      <th colspan=\"2\" halign=\"left\">acertos</th>\n",
       "      <th colspan=\"2\" halign=\"left\">acuracia</th>\n",
       "    </tr>\n",
       "    <tr>\n",
       "      <th></th>\n",
       "      <th>mean</th>\n",
       "      <th>std</th>\n",
       "      <th>mean</th>\n",
       "      <th>std</th>\n",
       "      <th>mean</th>\n",
       "      <th>std</th>\n",
       "    </tr>\n",
       "    <tr>\n",
       "      <th>classes</th>\n",
       "      <th></th>\n",
       "      <th></th>\n",
       "      <th></th>\n",
       "      <th></th>\n",
       "      <th></th>\n",
       "      <th></th>\n",
       "    </tr>\n",
       "  </thead>\n",
       "  <tbody>\n",
       "    <tr>\n",
       "      <th>rotulo 0.0</th>\n",
       "      <td>67.7</td>\n",
       "      <td>4.762119</td>\n",
       "      <td>66.9</td>\n",
       "      <td>4.458450</td>\n",
       "      <td>0.988454</td>\n",
       "      <td>0.009106</td>\n",
       "    </tr>\n",
       "    <tr>\n",
       "      <th>rotulo 1.0</th>\n",
       "      <td>46.3</td>\n",
       "      <td>4.762119</td>\n",
       "      <td>41.7</td>\n",
       "      <td>3.713339</td>\n",
       "      <td>0.902415</td>\n",
       "      <td>0.030961</td>\n",
       "    </tr>\n",
       "  </tbody>\n",
       "</table>\n",
       "</div>"
      ],
      "text/plain": [
       "           total           acertos            acuracia          \n",
       "            mean       std    mean       std      mean       std\n",
       "classes                                                         \n",
       "rotulo 0.0  67.7  4.762119    66.9  4.458450  0.988454  0.009106\n",
       "rotulo 1.0  46.3  4.762119    41.7  3.713339  0.902415  0.030961"
      ]
     },
     "execution_count": null,
     "metadata": {},
     "output_type": "execute_result"
    }
   ],
   "source": [
    "trat_dfs_acu_por_classe(result_adg_df)"
   ]
  },
  {
   "cell_type": "code",
   "execution_count": 24,
   "id": "cf95dae0",
   "metadata": {},
   "outputs": [
    {
     "data": {
      "text/html": [
       "<div>\n",
       "<style scoped>\n",
       "    .dataframe tbody tr th:only-of-type {\n",
       "        vertical-align: middle;\n",
       "    }\n",
       "\n",
       "    .dataframe tbody tr th {\n",
       "        vertical-align: top;\n",
       "    }\n",
       "\n",
       "    .dataframe thead tr th {\n",
       "        text-align: left;\n",
       "    }\n",
       "\n",
       "    .dataframe thead tr:last-of-type th {\n",
       "        text-align: right;\n",
       "    }\n",
       "</style>\n",
       "<table border=\"1\" class=\"dataframe\">\n",
       "  <thead>\n",
       "    <tr>\n",
       "      <th></th>\n",
       "      <th colspan=\"2\" halign=\"left\">total</th>\n",
       "      <th colspan=\"2\" halign=\"left\">acertos</th>\n",
       "      <th colspan=\"2\" halign=\"left\">acuracia</th>\n",
       "    </tr>\n",
       "    <tr>\n",
       "      <th></th>\n",
       "      <th>mean</th>\n",
       "      <th>std</th>\n",
       "      <th>mean</th>\n",
       "      <th>std</th>\n",
       "      <th>mean</th>\n",
       "      <th>std</th>\n",
       "    </tr>\n",
       "    <tr>\n",
       "      <th>classes</th>\n",
       "      <th></th>\n",
       "      <th></th>\n",
       "      <th></th>\n",
       "      <th></th>\n",
       "      <th></th>\n",
       "      <th></th>\n",
       "    </tr>\n",
       "  </thead>\n",
       "  <tbody>\n",
       "    <tr>\n",
       "      <th>rotulo 0.0</th>\n",
       "      <td>70.6</td>\n",
       "      <td>3.777124</td>\n",
       "      <td>68.8</td>\n",
       "      <td>4.366539</td>\n",
       "      <td>0.974250</td>\n",
       "      <td>0.022830</td>\n",
       "    </tr>\n",
       "    <tr>\n",
       "      <th>rotulo 1.0</th>\n",
       "      <td>43.4</td>\n",
       "      <td>3.777124</td>\n",
       "      <td>37.0</td>\n",
       "      <td>2.867442</td>\n",
       "      <td>0.853711</td>\n",
       "      <td>0.034406</td>\n",
       "    </tr>\n",
       "  </tbody>\n",
       "</table>\n",
       "</div>"
      ],
      "text/plain": [
       "           total           acertos            acuracia          \n",
       "            mean       std    mean       std      mean       std\n",
       "classes                                                         \n",
       "rotulo 0.0  70.6  3.777124    68.8  4.366539  0.974250  0.022830\n",
       "rotulo 1.0  43.4  3.777124    37.0  2.867442  0.853711  0.034406"
      ]
     },
     "execution_count": null,
     "metadata": {},
     "output_type": "execute_result"
    }
   ],
   "source": [
    "trat_dfs_acu_por_classe(result_naive_df)"
   ]
  },
  {
   "cell_type": "markdown",
   "id": "c8aa9913",
   "metadata": {},
   "source": [
    "&nbsp;"
   ]
  },
  {
   "cell_type": "markdown",
   "id": "9d482ca0",
   "metadata": {},
   "source": [
    "-----------"
   ]
  },
  {
   "cell_type": "markdown",
   "id": "1facac57",
   "metadata": {},
   "source": [
    "# Questão 2"
   ]
  },
  {
   "cell_type": "markdown",
   "id": "d7ced8c5",
   "metadata": {},
   "source": [
    "Considere o conjunto de dados disponível em vehicle.csv, organizado em 19 colunas, sendo as 18 primeiras colunas os atributos e a última coluna a saída. Os 18 atributos caracterizam a silhueta de veículos, extraídos pelo método HIPS (Hierarchical Image Processing System). A tarefa consiste em classificar o veículo em 4 classes (bus, opel, saab, e van). Maiores detalhes sobre os dados podem ser conferidos em https://www.openml.org/search?type=data&sort=runs&id=54."
   ]
  },
  {
   "cell_type": "code",
   "execution_count": 25,
   "id": "ae1dc2f1",
   "metadata": {},
   "outputs": [],
   "source": [
    "veiculos = np.loadtxt(fname='dataset\\\\vehicle.csv', delimiter=',')"
   ]
  },
  {
   "cell_type": "code",
   "execution_count": 26,
   "id": "58e73fd4",
   "metadata": {},
   "outputs": [],
   "source": [
    "X = veiculos[:, :18].astype(np.float32)\n",
    "y = veiculos[:, 18:]"
   ]
  },
  {
   "cell_type": "code",
   "execution_count": 27,
   "id": "6a52da0c",
   "metadata": {},
   "outputs": [],
   "source": [
    "scaler = StandardScaler()\n",
    "X_scaler = scaler.fit_transform(X)"
   ]
  },
  {
   "cell_type": "code",
   "execution_count": 28,
   "id": "4709427a",
   "metadata": {},
   "outputs": [],
   "source": [
    "xtrain, ytrain, xtest, ytest = train_test(X_scaler, y)"
   ]
  },
  {
   "cell_type": "markdown",
   "id": "6b2321a3",
   "metadata": {},
   "source": [
    "## 1. Considerando uma validação cruzada em 10 folds, avalie modelos de classificação multiclasse nos dados em questão. Para tanto, use as abordagens abaixo:\n",
    "\n",
    "* Regressão softmax (treinado com GD ou SGD);\n",
    "* Análise do discriminante Gaussiano;\n",
    "* Naive Bayes Gaussiano;"
   ]
  },
  {
   "cell_type": "markdown",
   "id": "cce14b57",
   "metadata": {},
   "source": [
    "`SGD`"
   ]
  },
  {
   "cell_type": "code",
   "execution_count": 29,
   "id": "49a17fbd",
   "metadata": {},
   "outputs": [
    {
     "name": "stdout",
     "output_type": "stream",
     "text": [
      "Treinando modelo - gradiente\n",
      "0% [##############################] 100% | ETA: 00:00:00 | Item ID: Epoch 99 - perda -0.4439\n",
      "Total time elapsed: 00:00:01\n",
      "Treinando modelo - gradiente\n",
      "0% [##############################] 100% | ETA: 00:00:00 | Item ID: Epoch 99 - perda -0.4347\n",
      "Total time elapsed: 00:00:00\n",
      "Treinando modelo - gradiente\n",
      "0% [##############################] 100% | ETA: 00:00:00 | Item ID: Epoch 99 - perda -0.4022\n",
      "Total time elapsed: 00:00:00\n",
      "Treinando modelo - gradiente\n",
      "0% [##############################] 100% | ETA: 00:00:00 | Item ID: Epoch 99 - perda -0.4191\n",
      "Total time elapsed: 00:00:00\n",
      "Treinando modelo - gradiente\n",
      "0% [##############################] 100% | ETA: 00:00:00 | Item ID: Epoch 99 - perda -0.4263\n",
      "Total time elapsed: 00:00:00\n",
      "Treinando modelo - gradiente\n",
      "0% [##############################] 100% | ETA: 00:00:00 | Item ID: Epoch 99 - perda -0.4220\n",
      "Total time elapsed: 00:00:00\n",
      "Treinando modelo - gradiente\n",
      "0% [##############################] 100% | ETA: 00:00:00 | Item ID: Epoch 99 - perda -0.4712\n",
      "Total time elapsed: 00:00:01\n",
      "Treinando modelo - gradiente\n",
      "0% [##############################] 100% | ETA: 00:00:00 | Item ID: Epoch 99 - perda -0.4816\n",
      "Total time elapsed: 00:00:00\n",
      "Treinando modelo - gradiente\n",
      "0% [##############################] 100% | ETA: 00:00:00 | Item ID: Epoch 99 - perda -0.4649\n",
      "Total time elapsed: 00:00:00\n",
      "Treinando modelo - gradiente\n",
      "0% [##############################] 100% | ETA: 00:00:00 | Item ID: Epoch 99 - perda -0.4080\n",
      "Total time elapsed: 00:00:00\n"
     ]
    }
   ],
   "source": [
    "result_log, result_log_df  = folds(xtrain, ytrain, regressao_logistica, metrics=[acuracia], metrics_df=[acuracia_por_classe])"
   ]
  },
  {
   "cell_type": "markdown",
   "id": "96bf099d",
   "metadata": {},
   "source": [
    "`gaussian`"
   ]
  },
  {
   "cell_type": "code",
   "execution_count": 30,
   "id": "7beeef35",
   "metadata": {},
   "outputs": [],
   "source": [
    "result_adg, result_adg_df  = folds(xtrain, ytrain, Gaussian, metrics=[acuracia], metrics_df=[acuracia_por_classe])"
   ]
  },
  {
   "cell_type": "markdown",
   "id": "0f9632be",
   "metadata": {},
   "source": [
    "`naive bayes`"
   ]
  },
  {
   "cell_type": "code",
   "execution_count": 31,
   "id": "5d7b881d",
   "metadata": {},
   "outputs": [],
   "source": [
    "result_naive,  result_naive_df = folds(xtrain, ytrain, NaiveBayesGaussiano, metrics=[acuracia], metrics_df=[acuracia_por_classe])"
   ]
  },
  {
   "cell_type": "markdown",
   "id": "9e86f4e9",
   "metadata": {},
   "source": [
    "## 2. Para cada modelo criado, reporte valor médio e desvio padrão da acurácia global e da acurácia por classe."
   ]
  },
  {
   "cell_type": "markdown",
   "id": "5ac9fb9c",
   "metadata": {},
   "source": [
    "`Acuracia`"
   ]
  },
  {
   "cell_type": "code",
   "execution_count": 32,
   "id": "02ed4d8a",
   "metadata": {},
   "outputs": [
    {
     "data": {
      "image/png": "[encoded data removed]",
      "text/plain": [
       "<Figure size 640x480 with 1 Axes>"
      ]
     },
     "metadata": {},
     "output_type": "display_data"
    }
   ],
   "source": [
    "plt.title('Multiclasse')\n",
    "plt.plot(result_log, label='Logistica')\n",
    "plt.plot(result_adg, label='Análise do discriminante Gaussiano')\n",
    "plt.plot(result_naive, label='Naive Bayes')\n",
    "plt.legend()\n",
    "plt.show()"
   ]
  },
  {
   "cell_type": "code",
   "execution_count": 33,
   "id": "fd763e37",
   "metadata": {},
   "outputs": [
    {
     "data": {
      "text/html": [
       "<div>\n",
       "<style scoped>\n",
       "    .dataframe tbody tr th:only-of-type {\n",
       "        vertical-align: middle;\n",
       "    }\n",
       "\n",
       "    .dataframe tbody tr th {\n",
       "        vertical-align: top;\n",
       "    }\n",
       "\n",
       "    .dataframe thead th {\n",
       "        text-align: right;\n",
       "    }\n",
       "</style>\n",
       "<table border=\"1\" class=\"dataframe\">\n",
       "  <thead>\n",
       "    <tr style=\"text-align: right;\">\n",
       "      <th></th>\n",
       "      <th>Logistica</th>\n",
       "      <th>Análise do discriminante Gaussiano</th>\n",
       "      <th>Naive Bayes</th>\n",
       "    </tr>\n",
       "  </thead>\n",
       "  <tbody>\n",
       "    <tr>\n",
       "      <th>Média</th>\n",
       "      <td>0.228994</td>\n",
       "      <td>0.776331</td>\n",
       "      <td>0.383432</td>\n",
       "    </tr>\n",
       "    <tr>\n",
       "      <th>Desvio Padrão</th>\n",
       "      <td>0.077198</td>\n",
       "      <td>0.037123</td>\n",
       "      <td>0.033971</td>\n",
       "    </tr>\n",
       "  </tbody>\n",
       "</table>\n",
       "</div>"
      ],
      "text/plain": [
       "               Logistica  Análise do discriminante Gaussiano  Naive Bayes\n",
       "Média           0.228994                            0.776331     0.383432\n",
       "Desvio Padrão   0.077198                            0.037123     0.033971"
      ]
     },
     "execution_count": null,
     "metadata": {},
     "output_type": "execute_result"
    }
   ],
   "source": [
    "results = pd.DataFrame({\n",
    "    'Logistica':[ np.mean(result_log),np.std(result_log)],\n",
    "    'Análise do discriminante Gaussiano':[ np.mean(result_adg),  np.std(result_adg)],\n",
    "    'Naive Bayes':[np.mean(result_naive), np.std(result_naive)],\n",
    "}, index=['Média', 'Desvio Padrão'])\n",
    "\n",
    "results"
   ]
  },
  {
   "cell_type": "code",
   "execution_count": 34,
   "id": "363023bf",
   "metadata": {},
   "outputs": [
    {
     "data": {
      "image/png": "[encoded data removed]",
      "text/plain": [
       "<Figure size 1200x600 with 1 Axes>"
      ]
     },
     "metadata": {},
     "output_type": "display_data"
    }
   ],
   "source": [
    "results_melt = results.reset_index().melt(id_vars='index', var_name='Modelo', value_name='Valor')\n",
    "\n",
    "plt.figure(figsize=(12, 6))\n",
    "ax = sns.barplot(data=results_melt, x='Modelo', y='Valor', hue='index')\n",
    "\n",
    "for p in ax.patches:\n",
    "    valor = p.get_height()\n",
    "    ax.text(\n",
    "        p.get_x() + p.get_width()/2, valor + 0.002,\n",
    "        f'{valor:.3f}',\n",
    "        ha='center', va='bottom', fontsize=12, fontweight='bold'\n",
    "    )\n",
    "    \n",
    "plt.show()"
   ]
  },
  {
   "cell_type": "markdown",
   "id": "0090fbc4",
   "metadata": {},
   "source": [
    "`Acuracia por classe`"
   ]
  },
  {
   "cell_type": "code",
   "execution_count": 35,
   "id": "e0b16a3b",
   "metadata": {},
   "outputs": [
    {
     "data": {
      "text/html": [
       "<div>\n",
       "<style scoped>\n",
       "    .dataframe tbody tr th:only-of-type {\n",
       "        vertical-align: middle;\n",
       "    }\n",
       "\n",
       "    .dataframe tbody tr th {\n",
       "        vertical-align: top;\n",
       "    }\n",
       "\n",
       "    .dataframe thead tr th {\n",
       "        text-align: left;\n",
       "    }\n",
       "\n",
       "    .dataframe thead tr:last-of-type th {\n",
       "        text-align: right;\n",
       "    }\n",
       "</style>\n",
       "<table border=\"1\" class=\"dataframe\">\n",
       "  <thead>\n",
       "    <tr>\n",
       "      <th></th>\n",
       "      <th colspan=\"2\" halign=\"left\">total</th>\n",
       "      <th colspan=\"2\" halign=\"left\">acertos</th>\n",
       "      <th colspan=\"2\" halign=\"left\">acuracia</th>\n",
       "    </tr>\n",
       "    <tr>\n",
       "      <th></th>\n",
       "      <th>mean</th>\n",
       "      <th>std</th>\n",
       "      <th>mean</th>\n",
       "      <th>std</th>\n",
       "      <th>mean</th>\n",
       "      <th>std</th>\n",
       "    </tr>\n",
       "    <tr>\n",
       "      <th>classes</th>\n",
       "      <th></th>\n",
       "      <th></th>\n",
       "      <th></th>\n",
       "      <th></th>\n",
       "      <th></th>\n",
       "      <th></th>\n",
       "    </tr>\n",
       "  </thead>\n",
       "  <tbody>\n",
       "    <tr>\n",
       "      <th>rotulo 0.0</th>\n",
       "      <td>46.3</td>\n",
       "      <td>5.186521</td>\n",
       "      <td>9.5</td>\n",
       "      <td>8.343327</td>\n",
       "      <td>0.218970</td>\n",
       "      <td>0.199313</td>\n",
       "    </tr>\n",
       "    <tr>\n",
       "      <th>rotulo 1.0</th>\n",
       "      <td>39.4</td>\n",
       "      <td>6.719788</td>\n",
       "      <td>12.7</td>\n",
       "      <td>12.918978</td>\n",
       "      <td>0.305404</td>\n",
       "      <td>0.286314</td>\n",
       "    </tr>\n",
       "    <tr>\n",
       "      <th>rotulo 2.0</th>\n",
       "      <td>46.0</td>\n",
       "      <td>3.496029</td>\n",
       "      <td>9.5</td>\n",
       "      <td>8.618456</td>\n",
       "      <td>0.210231</td>\n",
       "      <td>0.195603</td>\n",
       "    </tr>\n",
       "    <tr>\n",
       "      <th>rotulo 3.0</th>\n",
       "      <td>37.3</td>\n",
       "      <td>6.000926</td>\n",
       "      <td>7.0</td>\n",
       "      <td>10.349450</td>\n",
       "      <td>0.185340</td>\n",
       "      <td>0.290314</td>\n",
       "    </tr>\n",
       "  </tbody>\n",
       "</table>\n",
       "</div>"
      ],
      "text/plain": [
       "           total           acertos             acuracia          \n",
       "            mean       std    mean        std      mean       std\n",
       "classes                                                          \n",
       "rotulo 0.0  46.3  5.186521     9.5   8.343327  0.218970  0.199313\n",
       "rotulo 1.0  39.4  6.719788    12.7  12.918978  0.305404  0.286314\n",
       "rotulo 2.0  46.0  3.496029     9.5   8.618456  0.210231  0.195603\n",
       "rotulo 3.0  37.3  6.000926     7.0  10.349450  0.185340  0.290314"
      ]
     },
     "execution_count": null,
     "metadata": {},
     "output_type": "execute_result"
    }
   ],
   "source": [
    "trat_dfs_acu_por_classe(result_log_df)"
   ]
  },
  {
   "cell_type": "code",
   "execution_count": 36,
   "id": "f7d62317",
   "metadata": {},
   "outputs": [
    {
     "data": {
      "text/html": [
       "<div>\n",
       "<style scoped>\n",
       "    .dataframe tbody tr th:only-of-type {\n",
       "        vertical-align: middle;\n",
       "    }\n",
       "\n",
       "    .dataframe tbody tr th {\n",
       "        vertical-align: top;\n",
       "    }\n",
       "\n",
       "    .dataframe thead tr th {\n",
       "        text-align: left;\n",
       "    }\n",
       "\n",
       "    .dataframe thead tr:last-of-type th {\n",
       "        text-align: right;\n",
       "    }\n",
       "</style>\n",
       "<table border=\"1\" class=\"dataframe\">\n",
       "  <thead>\n",
       "    <tr>\n",
       "      <th></th>\n",
       "      <th colspan=\"2\" halign=\"left\">total</th>\n",
       "      <th colspan=\"2\" halign=\"left\">acertos</th>\n",
       "      <th colspan=\"2\" halign=\"left\">acuracia</th>\n",
       "    </tr>\n",
       "    <tr>\n",
       "      <th></th>\n",
       "      <th>mean</th>\n",
       "      <th>std</th>\n",
       "      <th>mean</th>\n",
       "      <th>std</th>\n",
       "      <th>mean</th>\n",
       "      <th>std</th>\n",
       "    </tr>\n",
       "    <tr>\n",
       "      <th>classes</th>\n",
       "      <th></th>\n",
       "      <th></th>\n",
       "      <th></th>\n",
       "      <th></th>\n",
       "      <th></th>\n",
       "      <th></th>\n",
       "    </tr>\n",
       "  </thead>\n",
       "  <tbody>\n",
       "    <tr>\n",
       "      <th>rotulo 0.0</th>\n",
       "      <td>43.4</td>\n",
       "      <td>6.785606</td>\n",
       "      <td>41.7</td>\n",
       "      <td>6.307843</td>\n",
       "      <td>0.961724</td>\n",
       "      <td>0.024722</td>\n",
       "    </tr>\n",
       "    <tr>\n",
       "      <th>rotulo 1.0</th>\n",
       "      <td>41.3</td>\n",
       "      <td>4.762119</td>\n",
       "      <td>27.4</td>\n",
       "      <td>3.921451</td>\n",
       "      <td>0.665369</td>\n",
       "      <td>0.075432</td>\n",
       "    </tr>\n",
       "    <tr>\n",
       "      <th>rotulo 2.0</th>\n",
       "      <td>44.4</td>\n",
       "      <td>3.169297</td>\n",
       "      <td>25.2</td>\n",
       "      <td>3.765339</td>\n",
       "      <td>0.567975</td>\n",
       "      <td>0.077946</td>\n",
       "    </tr>\n",
       "    <tr>\n",
       "      <th>rotulo 3.0</th>\n",
       "      <td>39.9</td>\n",
       "      <td>5.586691</td>\n",
       "      <td>36.9</td>\n",
       "      <td>4.557046</td>\n",
       "      <td>0.927369</td>\n",
       "      <td>0.044956</td>\n",
       "    </tr>\n",
       "  </tbody>\n",
       "</table>\n",
       "</div>"
      ],
      "text/plain": [
       "           total           acertos            acuracia          \n",
       "            mean       std    mean       std      mean       std\n",
       "classes                                                         \n",
       "rotulo 0.0  43.4  6.785606    41.7  6.307843  0.961724  0.024722\n",
       "rotulo 1.0  41.3  4.762119    27.4  3.921451  0.665369  0.075432\n",
       "rotulo 2.0  44.4  3.169297    25.2  3.765339  0.567975  0.077946\n",
       "rotulo 3.0  39.9  5.586691    36.9  4.557046  0.927369  0.044956"
      ]
     },
     "execution_count": null,
     "metadata": {},
     "output_type": "execute_result"
    }
   ],
   "source": [
    "trat_dfs_acu_por_classe(result_adg_df)"
   ]
  },
  {
   "cell_type": "code",
   "execution_count": 37,
   "id": "a4d59ccf",
   "metadata": {},
   "outputs": [
    {
     "data": {
      "text/html": [
       "<div>\n",
       "<style scoped>\n",
       "    .dataframe tbody tr th:only-of-type {\n",
       "        vertical-align: middle;\n",
       "    }\n",
       "\n",
       "    .dataframe tbody tr th {\n",
       "        vertical-align: top;\n",
       "    }\n",
       "\n",
       "    .dataframe thead tr th {\n",
       "        text-align: left;\n",
       "    }\n",
       "\n",
       "    .dataframe thead tr:last-of-type th {\n",
       "        text-align: right;\n",
       "    }\n",
       "</style>\n",
       "<table border=\"1\" class=\"dataframe\">\n",
       "  <thead>\n",
       "    <tr>\n",
       "      <th></th>\n",
       "      <th colspan=\"2\" halign=\"left\">total</th>\n",
       "      <th colspan=\"2\" halign=\"left\">acertos</th>\n",
       "      <th colspan=\"2\" halign=\"left\">acuracia</th>\n",
       "    </tr>\n",
       "    <tr>\n",
       "      <th></th>\n",
       "      <th>mean</th>\n",
       "      <th>std</th>\n",
       "      <th>mean</th>\n",
       "      <th>std</th>\n",
       "      <th>mean</th>\n",
       "      <th>std</th>\n",
       "    </tr>\n",
       "    <tr>\n",
       "      <th>classes</th>\n",
       "      <th></th>\n",
       "      <th></th>\n",
       "      <th></th>\n",
       "      <th></th>\n",
       "      <th></th>\n",
       "      <th></th>\n",
       "    </tr>\n",
       "  </thead>\n",
       "  <tbody>\n",
       "    <tr>\n",
       "      <th>rotulo 0.0</th>\n",
       "      <td>43.9</td>\n",
       "      <td>4.306326</td>\n",
       "      <td>0.6</td>\n",
       "      <td>1.074968</td>\n",
       "      <td>0.012709</td>\n",
       "      <td>0.022608</td>\n",
       "    </tr>\n",
       "    <tr>\n",
       "      <th>rotulo 1.0</th>\n",
       "      <td>41.9</td>\n",
       "      <td>3.034981</td>\n",
       "      <td>21.8</td>\n",
       "      <td>7.997222</td>\n",
       "      <td>0.521476</td>\n",
       "      <td>0.180655</td>\n",
       "    </tr>\n",
       "    <tr>\n",
       "      <th>rotulo 2.0</th>\n",
       "      <td>44.7</td>\n",
       "      <td>5.907622</td>\n",
       "      <td>7.0</td>\n",
       "      <td>7.257180</td>\n",
       "      <td>0.160697</td>\n",
       "      <td>0.173594</td>\n",
       "    </tr>\n",
       "    <tr>\n",
       "      <th>rotulo 3.0</th>\n",
       "      <td>38.5</td>\n",
       "      <td>3.100179</td>\n",
       "      <td>35.4</td>\n",
       "      <td>4.141927</td>\n",
       "      <td>0.917697</td>\n",
       "      <td>0.050757</td>\n",
       "    </tr>\n",
       "  </tbody>\n",
       "</table>\n",
       "</div>"
      ],
      "text/plain": [
       "           total           acertos            acuracia          \n",
       "            mean       std    mean       std      mean       std\n",
       "classes                                                         \n",
       "rotulo 0.0  43.9  4.306326     0.6  1.074968  0.012709  0.022608\n",
       "rotulo 1.0  41.9  3.034981    21.8  7.997222  0.521476  0.180655\n",
       "rotulo 2.0  44.7  5.907622     7.0  7.257180  0.160697  0.173594\n",
       "rotulo 3.0  38.5  3.100179    35.4  4.141927  0.917697  0.050757"
      ]
     },
     "execution_count": null,
     "metadata": {},
     "output_type": "execute_result"
    }
   ],
   "source": [
    "trat_dfs_acu_por_classe(result_naive_df)"
   ]
  }
 ],
 "metadata": {
  "language_info": {
   "name": "python"
  }
 },
 "nbformat": 4,
 "nbformat_minor": 5
}
